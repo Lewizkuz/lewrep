{
 "cells": [
  {
   "cell_type": "markdown",
   "metadata": {},
   "source": [
    "# Datan analysointi K2019 - kerta 8\n",
    "\n",
    "<a href=\"#1\">Lineaarinen regressio</a>  \n",
    "<a href=\"#2\">Usean selittävän muuttujan regressio</a>  \n",
    "<a href=\"#3\">Koneoppiminen</a>  \n",
    "<a href=\"#4\">Puuttuvien arvojen käsittely</a>  \n",
    "<a href=\"#5\">Tekstikentät numeerisiksi</a>  \n",
    "<a href=\"#6\">Jako opetus- ja testidataan</a>  \n",
    "<a href=\"#7\">Muuttujien muunnokset</a>  \n",
    "<a href=\"#8\">Muuttujien valinta</a>  \n",
    "\n",
    "\n",
    "<a id=\"1\"></a>\n",
    "## Lineaarinen regressio\n",
    "Kahden määrällisen muuttujan riippuvuutta voidaan havainnollistaa **hajontakaavion** avulla. Lisäksi voidaan laskea lineaarisen riippuvuuden voimakkuutta mittaava korrelaatiokerroin. Näitä tehtiin 6. kerralla.\n",
    "\n",
    "Jos halutaan selvittää tarkemmin riippuvuuden luonnetta tai hyödyntää riippuvuutta ennustamistarkoituksiin, niin riippuvuutta voidaan mallintaa  **lineaarisen regressiomallin** avulla.\n",
    "\n",
    "Tässä pyritään arvioimaan **vastemuuttujan eli selitettävän muuttujan y**  lineaarista riippuvuutta **selittävistä muuttujista X**. Selittäviä muuttujia voi olla useampia, mutta tutkitaan ensin teoriaa yhden selittävän muuttujan osalta.\n",
    "\n",
    "Yksinkertaistettuna lineaarisessa regressiossa pyritään löytämään suoralle *y* = *kx* + *b* parametrit *k* (kulmakerroin) ja *b* (vakiotermi) niin, että havaintopisteet (x,y) olisivat \"mahdollisimman lähellä\" suoraa. Parametrit valitaan **pienimmän neliösumman menetelmällä** eli verrataan todellisten y:n arvojen eroa suoran *y* = *kx* + *b* antamiin y:n arvoihin ja valitaan *k* ja *b* siten, että erojen neliöiden summa on mahdollisimman pieni.\n",
    "\n",
    "![kuva](https://upload.wikimedia.org/wikipedia/commons/thumb/b/be/Normdist_regression.png/300px-Normdist_regression.png)\n"
   ]
  },
  {
   "cell_type": "markdown",
   "metadata": {},
   "source": [
    "Lineaarisen regressioanalyysin tekemiseen tarvitaan jotain koneoppimisen/mallinnuksen kirjastoa, joista suosituin on **sklearn (scikit-learn)**. Toinen usein käytetty kirjasto on **statsmodel**. \n",
    "\n",
    "[scikit-learn](https://scikit-learn.org/stable/index.html)\n",
    "\n",
    "Usein pandasia ja sen DataFramea käytetään ensin datan lataamiseen ja siivoamiseen ja sen jälkeen mallinnuskirjastolla tehdään mallin sovitus ja testaus.\n",
    "\n",
    "Alla on ladataan (kuvitteelliinen) data, jonka hajontakaaviosta nähdään myynnin kasvavan mainoskulujen kasvaessa.\n"
   ]
  },
  {
   "cell_type": "code",
   "execution_count": 16,
   "metadata": {},
   "outputs": [
    {
     "name": "stdout",
     "output_type": "stream",
     "text": [
      "  Kuukausi  mainoskulut keur  myynti keur\n",
      "0   2015-1               1.3          120\n",
      "1   2015-2               0.8           82\n",
      "2   2015-3               1.5          141\n",
      "3   2015-4               0.7           82\n",
      "4   2015-5               1.3          130\n"
     ]
    },
    {
     "data": {
      "image/png": "[encoded data removed]",
      "text/plain": [
       "<matplotlib.figure.Figure at 0x1ee9c3216a0>"
      ]
     },
     "metadata": {},
     "output_type": "display_data"
    }
   ],
   "source": [
    "import pandas as pd\n",
    "import matplotlib.pyplot as plt\n",
    "\n",
    "df = pd.read_csv('https://bit.ly/2UuPwcV')\n",
    "print(df.head())\n",
    "df.plot.scatter('mainoskulut keur', 'myynti keur')\n",
    "plt.show()"
   ]
  },
  {
   "cell_type": "markdown",
   "metadata": {},
   "source": [
    "Lineeaarinen malli riippuvuudelle saadaan tuomalla **sklearn.lineal_model** -kirjastosta **LinearRegression** -luokka ja antamalla sille selittäväksi muuttujaksi mainoskulut ja selittäväksi muuttujaksi myynti.\n",
    "\n",
    "Pelkkää `df['mainoskulut keur']` -Seriesiä ei voi kuitenkaan tuoda x:nä, sillä selittävän muuttujan pitää olla DataFrame, siksi muutetaan se `to_frame`-metodilla.\n",
    "\n",
    "`fit`-sovitus antaa tulosteena mallin lähtötiedot (joita voisi säätää, jos tuntee käytettävän mallin):"
   ]
  },
  {
   "cell_type": "code",
   "execution_count": 18,
   "metadata": {},
   "outputs": [
    {
     "data": {
      "text/plain": [
       "LinearRegression(copy_X=True, fit_intercept=True, n_jobs=None,\n",
       "         normalize=False)"
      ]
     },
     "execution_count": 18,
     "metadata": {},
     "output_type": "execute_result"
    }
   ],
   "source": [
    "from sklearn.linear_model import LinearRegression\n",
    "malli=LinearRegression()\n",
    "x = df['mainoskulut keur'].to_frame()  # muutetaan DataFrameksi\n",
    "y = df['myynti keur']\n",
    "malli.fit(x,y)"
   ]
  },
  {
   "cell_type": "markdown",
   "metadata": {},
   "source": [
    "`fit`-sovituksen jälkeen malli-olio sisältää mallin parametrit `coef_`- ja `intercept`-kentissä:"
   ]
  },
  {
   "cell_type": "code",
   "execution_count": 21,
   "metadata": {},
   "outputs": [
    {
     "name": "stdout",
     "output_type": "stream",
     "text": [
      "[ 64.5961711]\n",
      "32.3487885133\n"
     ]
    }
   ],
   "source": [
    "print(malli.coef_)  # kulmakerroin\n",
    "print(malli.intercept_) # vakiotermi"
   ]
  },
  {
   "cell_type": "markdown",
   "metadata": {},
   "source": [
    "Kulmakerroin tulee listamuodossa (array), koska mallissa voisi olla useampia selittäviä muuttujia ja näin ollen myös useampia kulmakertoimia. Tässä mallina on siis suora, jonka yhtälö on  **y = 64,596x + 32,349**\n",
    "\n",
    "Mallin mukaan siis yhden keur lisäys mainoskuluissa lisää myyntiä 64,596 keur."
   ]
  },
  {
   "cell_type": "markdown",
   "metadata": {},
   "source": [
    "Selityskerroin saadaan komennolla `malli.score(x,y)`, selityskerroinhan on korrelaatiokertoimen neliö"
   ]
  },
  {
   "cell_type": "code",
   "execution_count": 24,
   "metadata": {},
   "outputs": [
    {
     "name": "stdout",
     "output_type": "stream",
     "text": [
      "0.787624300218\n",
      "0.787624300218\n"
     ]
    }
   ],
   "source": [
    "print(malli.score(x,y))\n",
    "# toisaalta\n",
    "print(df['mainoskulut keur'].corr(df['myynti keur'])**2)"
   ]
  },
  {
   "cell_type": "markdown",
   "metadata": {},
   "source": [
    "Tässä siis 78,7 % myynnin varianssista voidaan selittää mainoskuluilla."
   ]
  },
  {
   "cell_type": "markdown",
   "metadata": {},
   "source": [
    "Mallin `predict`-metodilla voidaan ennustaa mallin mukaisia y:n arvoja annetuille x:lle, ja tätä voidaan käyttää myös regressiosuoran piirtämiseen hajontakaavioon. Sama saataisiin myös laskemalla y:t regressiosuoran yhtälöllä  y = 64,596x + 32,349 mutta `predict` tekee sen automaattisesti."
   ]
  },
  {
   "cell_type": "code",
   "execution_count": 42,
   "metadata": {},
   "outputs": [
    {
     "name": "stdout",
     "output_type": "stream",
     "text": [
      "[  87.25553395  106.63438528]\n"
     ]
    },
    {
     "data": {
      "image/png": "[encoded data removed]",
      "text/plain": [
       "<matplotlib.figure.Figure at 0x1ee9c7d6780>"
      ]
     },
     "metadata": {},
     "output_type": "display_data"
    }
   ],
   "source": [
    "print(malli.predict([[0.85],[1.15]])) # mainoskuluja 0,85 ja 1,15 vastaavat myynnit \n",
    "\n",
    "import numpy  as np\n",
    "\n",
    "xfit = np.linspace(0.3,1.5,100) #100 arvoa tasavälein väliltä 0.3-1.5\n",
    "Xfit = pd.DataFrame(xfit)\n",
    "yfit = malli.predict(Xfit)\n",
    "plt.scatter(x,y)\n",
    "plt.plot(xfit,yfit)\n",
    "plt.xlabel('Mainoskulut keur')\n",
    "plt.ylabel('Myynti keur')\n",
    "plt.show()"
   ]
  },
  {
   "cell_type": "markdown",
   "metadata": {},
   "source": [
    "Toki voidaan laskea ennusteet kaikille aineiston x-arvoille, ja tehdä kaavio aineiston y-arvoista ja ennusteista:"
   ]
  },
  {
   "cell_type": "code",
   "execution_count": 44,
   "metadata": {},
   "outputs": [
    {
     "data": {
      "image/png": "[encoded data removed]",
      "text/plain": [
       "<matplotlib.figure.Figure at 0x1ee9cdf9208>"
      ]
     },
     "metadata": {},
     "output_type": "display_data"
    }
   ],
   "source": [
    "ennusteet = malli.predict(x)\n",
    "plt.scatter(y, ennusteet)\n",
    "\n",
    "plt.xlabel('havaittu')\n",
    "plt.ylabel('ennustettu')\n",
    "plt.show()"
   ]
  },
  {
   "cell_type": "markdown",
   "metadata": {},
   "source": [
    "<a id=\"2\"></a>\n",
    "### Usean selittävän muuttujan regressio \n",
    "Lineaarinen regressio voidaan määrittää myös käyttäen useammampaa selittävää muuttujaa. Tällöin haetaan pienimmän neliösumman menetelmällä parametrit kaavaan  \n",
    "![kaava](http://student.labranet.jamk.fi/~varpe/datananalk2019/kerta8/kaava.png)\n",
    "\n",
    "Tämä saadaan määritettyä scikit-learn-kirjastolla vastaavalla tavalla antamalla LinearRegression-oliolle selittäviksi muuttujiksi useampia sarakkeita sisältävä DataFrame.\n",
    "\n",
    "Esimerkissä (kuvitteellisia) kesämökkien hintoja mallinnetaan rantaviivan pituuden, pinta-alan ja sähkön (0/1) perusteella. "
   ]
  },
  {
   "cell_type": "code",
   "execution_count": 86,
   "metadata": {},
   "outputs": [
    {
     "name": "stdout",
     "output_type": "stream",
     "text": [
      "   nro  ranta_m  pinta-ala_m2  sähkö  hinta_ke\n",
      "0    1       30            50      0        95\n",
      "1    2       35            42      0        95\n",
      "2    3       40            25      1        80\n",
      "3    4       50            30      1       100\n",
      "4    5       55            45      0       135\n",
      "Selityskerroin: 0.883468562001\n",
      "vakiotermi: -85.844696481\n",
      "kulmakertoimet: [  1.90510961   2.60786899  23.46476406]\n"
     ]
    }
   ],
   "source": [
    "import pandas as pd\n",
    "import matplotlib.pyplot as plt\n",
    "from sklearn.linear_model import LinearRegression\n",
    "\n",
    "\n",
    "\n",
    "df = pd.read_csv('https://bit.ly/2CeUELc')\n",
    "print(df.head())\n",
    "\n",
    "x = df[['ranta_m','pinta-ala_m2','sähkö']]\n",
    "y = df['hinta_ke']\n",
    "\n",
    "malli=LinearRegression()\n",
    "malli.fit(x,y)\n",
    "\n",
    "print('Selityskerroin:',malli.score(x,y)) \n",
    "\n",
    "\n",
    "\n",
    "# vakiotermi ja kulmakertoimet\n",
    "print('vakiotermi:',malli.intercept_)\n",
    "print('kulmakertoimet:',malli.coef_)"
   ]
  },
  {
   "cell_type": "markdown",
   "metadata": {},
   "source": [
    "Mallin mukaan siis 88 % hintojen vaihtelusta selittyy selittävien muuttujien avulla. Pienimmän neliösumman virheelle antaa kaava  \n",
    "hinta = -85.844... + 1.905...\\*rantaviiva + 2.6078...\\*ala + 23.464...\\*sähkö\n",
    "\n",
    "1 metri rantaviivaa lisää hintaa 1,905, 1 m2 pinta-alaa 2,6078 ja sähkön olemassaolo 23,464 ke.\n",
    "\n",
    "Regressiosuoran piirtäminen ei onnistu, koska tilanne on moniulotteinen mutta voidaan kuvata havaitut ja ennustetut arvot:"
   ]
  },
  {
   "cell_type": "code",
   "execution_count": 87,
   "metadata": {},
   "outputs": [
    {
     "data": {
      "image/png": "[encoded data removed]",
      "text/plain": [
       "<matplotlib.figure.Figure at 0x1ee9d1831d0>"
      ]
     },
     "metadata": {},
     "output_type": "display_data"
    }
   ],
   "source": [
    "ennusteet = malli.predict(x)\n",
    "\n",
    "plt.scatter(y, ennusteet)\n",
    "\n",
    "plt.xlabel('havaittu')\n",
    "plt.ylabel('ennustettu')\n",
    "plt.show()"
   ]
  },
  {
   "cell_type": "markdown",
   "metadata": {},
   "source": [
    "\n",
    "Kaaviona voidaan esittää myös mallin ennusteen ja toteutuman erot, tästä nähdään onko virhe satunnaista:"
   ]
  },
  {
   "cell_type": "code",
   "execution_count": 54,
   "metadata": {},
   "outputs": [
    {
     "data": {
      "image/png": "[encoded data removed]",
      "text/plain": [
       "<matplotlib.figure.Figure at 0x1ee9c9259b0>"
      ]
     },
     "metadata": {},
     "output_type": "display_data"
    }
   ],
   "source": [
    "plt.scatter(malli.predict(x), malli.predict(x)-y)\n",
    "plt.xlabel('ennustettu')\n",
    "plt.ylabel('Poikkeama todellisesta')\n",
    "plt.show()"
   ]
  },
  {
   "cell_type": "markdown",
   "metadata": {},
   "source": [
    "<a id=\"3\"></a>\n",
    "## Koneoppiminen\n",
    "Lineaarinen regressio on yksi malli **koneoppimisesta**, jossa pyritään olemassaolevan datan avulla ennustamaan \"uusien havaintojen\" y:n arvoja. Tässä, kuten muissakin koneoppimisen malleissa, tulee vastaan muutamia käsitteitä/vaiheita:\n",
    "\n",
    "<a id=\"4\"></a>\n",
    "### Puuttuvien arvojen käsittely\n",
    "scikit-learn ja statsmodel-kirjastoille ei yleensä voi antaa dataa jossa on puuttuvia arvoja (missing values).\n",
    "\n",
    "Datassa olevien puuttuvien arvojen määrän saa pandasissa `isnull().sum()`\n"
   ]
  },
  {
   "cell_type": "code",
   "execution_count": 55,
   "metadata": {},
   "outputs": [
    {
     "data": {
      "text/plain": [
       "survived         0\n",
       "pclass           0\n",
       "sex              0\n",
       "age            177\n",
       "sibsp            0\n",
       "parch            0\n",
       "fare             0\n",
       "embarked         2\n",
       "class            0\n",
       "who              0\n",
       "adult_male       0\n",
       "deck           688\n",
       "embark_town      2\n",
       "alive            0\n",
       "alone            0\n",
       "dtype: int64"
      ]
     },
     "execution_count": 55,
     "metadata": {},
     "output_type": "execute_result"
    }
   ],
   "source": [
    "import pandas as pd\n",
    "import seaborn as sns\n",
    "\n",
    "df = sns.load_dataset('titanic')\n",
    "df.isnull().sum()"
   ]
  },
  {
   "cell_type": "markdown",
   "metadata": {},
   "source": [
    "Usein tyhjät arvot korvataan ko. kentän mediaanilla"
   ]
  },
  {
   "cell_type": "code",
   "execution_count": 57,
   "metadata": {},
   "outputs": [
    {
     "data": {
      "text/plain": [
       "survived         0\n",
       "pclass           0\n",
       "sex              0\n",
       "age              0\n",
       "sibsp            0\n",
       "parch            0\n",
       "fare             0\n",
       "embarked         2\n",
       "class            0\n",
       "who              0\n",
       "adult_male       0\n",
       "deck           688\n",
       "embark_town      2\n",
       "alive            0\n",
       "alone            0\n",
       "dtype: int64"
      ]
     },
     "execution_count": 57,
     "metadata": {},
     "output_type": "execute_result"
    }
   ],
   "source": [
    "korvaava = df['age'].median()\n",
    "\n",
    "df['age'].fillna(korvaava, inplace=True)\n",
    "\n",
    "df.isnull().sum()"
   ]
  },
  {
   "cell_type": "markdown",
   "metadata": {},
   "source": [
    "<a id=\"5\"></a>\n",
    "### Tekstikentät numeerisiksi\n",
    "Lineaariesta regeressiota (eikä monia muitakaan koneoppimismalleja) voidä käytää tekstimuotoiseen dataan, vaan kaikki käytettävät kentät pitää olla numeerisia. \n",
    "\n",
    "Esim. jos datassa on kenttä viikonpäivä tekstinä (maanantai, tiistai jne) voidaan tätä käyttää lineaarisessa regressiossa jos kenttä saadaan numeeriseksi 0,1,2... (tai 1,2,3...)\n",
    "\n",
    "Tähän on useita keinoja:\n",
    "\n",
    "pandasin `map`-metodilla voidaan antaa uudet arvot\n",
    "`df['paiva'].map({'maanantai': 0, 'tiistai': 1, #jne })`\n",
    "\n"
   ]
  },
  {
   "cell_type": "code",
   "execution_count": 61,
   "metadata": {},
   "outputs": [
    {
     "name": "stdout",
     "output_type": "stream",
     "text": [
      "       paiva        arvo\n",
      "0    torstai  107.623820\n",
      "1  maanantai   99.557211\n",
      "2   lauantai  108.502577\n",
      "3  sunnuntai  112.186754\n",
      "4  perjantai  116.402182\n",
      "       paiva        arvo  paivanro\n",
      "0    torstai  107.623820         3\n",
      "1  maanantai   99.557211         0\n",
      "2   lauantai  108.502577         5\n",
      "3  sunnuntai  112.186754         6\n",
      "4  perjantai  116.402182         4\n"
     ]
    }
   ],
   "source": [
    "import pandas as pd\n",
    "\n",
    "df = pd.read_csv('https://student.labranet.jamk.fi/~varpe/datananalk2019/kerta8/esim3.txt')\n",
    "print(df.head())\n",
    "df['paivanro'] =  df['paiva'].map({'maanantai': 0, 'tiistai': 1, 'keskiviikko': 2, 'torstai': 3, 'perjantai': 4, 'lauantai': 5, 'sunnuntai':6})\n",
    "print(df.head())\n"
   ]
  },
  {
   "cell_type": "markdown",
   "metadata": {},
   "source": [
    "scikit-learn -kirjastossa on preprocessing.LabelEncoder -luokka joka tekee tämän automaattisesti"
   ]
  },
  {
   "cell_type": "code",
   "execution_count": 67,
   "metadata": {},
   "outputs": [
    {
     "name": "stdout",
     "output_type": "stream",
     "text": [
      "       paiva        arvo\n",
      "0    torstai  107.623820\n",
      "1  maanantai   99.557211\n",
      "2   lauantai  108.502577\n",
      "3  sunnuntai  112.186754\n",
      "4  perjantai  116.402182\n",
      "       paiva        arvo  paivanro\n",
      "0    torstai  107.623820         6\n",
      "1  maanantai   99.557211         2\n",
      "2   lauantai  108.502577         1\n",
      "3  sunnuntai  112.186754         4\n",
      "4  perjantai  116.402182         3\n",
      "['keskiviikko' 'lauantai' 'maanantai']\n"
     ]
    }
   ],
   "source": [
    "import pandas as pd\n",
    "\n",
    "df = pd.read_csv('https://student.labranet.jamk.fi/~varpe/datananalk2019/kerta8/esim3.txt')\n",
    "print(df.head())\n",
    "\n",
    "from sklearn.preprocessing import LabelEncoder\n",
    "\n",
    "labelencoder = LabelEncoder()\n",
    "\n",
    "df['paivanro'] = labelencoder.fit_transform(df['paiva'])\n",
    "\n",
    "print(df.head())\n",
    "\n",
    "print(labelencoder.inverse_transform([0,1,2])) # muunnos toiseen suuntaan"
   ]
  },
  {
   "cell_type": "markdown",
   "metadata": {},
   "source": [
    "LabelEncoder:n käytössä on kuitenkin pari ongelmaa: numerot tulevat luokille aakkosjärjetyksessä eikä sille voi (helposti) määrittää haluttua järjestystä. \n",
    "\n",
    "Se sopisikin vain tilanteisiin joissa luokkien välillä ei ole mielekästä järjestystä, esim. valtio-kenttään.\n",
    "\n",
    "Mutta jos luokkien välillä ei ole mielekästä järjestystä, ei tällaisia lukuja voi myöskään käyttää regerssiossa.\n",
    "Esim. maa alla olevassa datassa voitaisiin koodata 1,2,3,4 mutta näille ei ole mielekästä järjestystä."
   ]
  },
  {
   "cell_type": "code",
   "execution_count": 63,
   "metadata": {},
   "outputs": [
    {
     "name": "stdout",
     "output_type": "stream",
     "text": [
      "      maa       arvo1  arvo2\n",
      "0  Ruotsi  106.393696      8\n",
      "1   Suomi  107.115620      3\n",
      "2   Norja   97.819197      4\n",
      "3  Ruotsi  104.838592      3\n",
      "4   Suomi  103.141195      8\n"
     ]
    }
   ],
   "source": [
    "df = pd.read_csv('https://student.labranet.jamk.fi/~varpe/datananalk2019/kerta8/esim4.txt')\n",
    "print(df.head())"
   ]
  },
  {
   "cell_type": "markdown",
   "metadata": {},
   "source": [
    "Tällaisen datan käyttö numeerisena on mahdollista ns. **one-hot-encoding** -menetelmän avulla (käytetään myös termiä dummy encoding).  Siinä jokaisesta kentästä löytyvästä arvosta tehdään uusi kenttä, jossa arvot ovat 0 tai 1.\n",
    "\n",
    "Tähän voi käyttää pandasin `get_dummies` -metodia:"
   ]
  },
  {
   "cell_type": "code",
   "execution_count": 83,
   "metadata": {},
   "outputs": [
    {
     "name": "stdout",
     "output_type": "stream",
     "text": [
      "        arvo1  arvo2  onmaa_Norja  onmaa_Ruotsi  onmaa_Suomi  onmaa_Tanska\n",
      "0  106.393696      8            0             1            0             0\n",
      "1  107.115620      3            0             0            1             0\n",
      "2   97.819197      4            0             0            1             0\n",
      "3  104.838592      3            0             1            0             0\n",
      "4  103.141195      8            0             0            0             1\n"
     ]
    }
   ],
   "source": [
    "df = pd.read_csv('https://student.labranet.jamk.fi/~varpe/datananalk2019/kerta8/esim4.txt')\n",
    "dummies = pd.get_dummies(df['maa'], prefix='onmaa')\n",
    "\n",
    "df = df.join(dummies).drop('maa', axis=1)\n",
    "\n",
    "print(df.head())"
   ]
  },
  {
   "cell_type": "markdown",
   "metadata": {},
   "source": [
    "(saman voisi tehdä myös scikit-learnin OneHotEncoder-luokalla).\n",
    "\n",
    "Kaksiluokkaisen muuttujan (esim sukupuoli) voi esittää yhdellä numerolla (0/1 tai 1/2), vaikka luokille ei olisikaan mielekästä järjestystä. Ei ole mielekästä tehdä erikseen kenttiä onMies ja onNainen arvoilla 0/1, koska nämä riippuvat toisistaan suoraan. Niinpä riittää jompikumpi kentistä, tai sitten vain sukupuoli (mies=0, nainen=1), olettaen että tässä ei ole muita mahdollisuuksia. \n",
    "\n",
    "True/False -arvoja sisältävän kentän saa 0/1:ksi yksinkertaisesti `df['onko'].astype(int)`\n",
    "\n",
    "Lineaarista regressiota ei voi laskea jos selittävissä muuttuujista kaksi riippuvat toisistaan lineaarisesti, esim. sama arvo eri yksiköissä tai onMies/onNainen.\n"
   ]
  },
  {
   "cell_type": "markdown",
   "metadata": {},
   "source": [
    "<a id=\"6\"></a>\n",
    "### Jako opetus- ja testidataan\n",
    "Usein koneoppimisessa käytettävä data jaetaan kahteen osaan, opetus- ja testidataan. Lineaarisen regression tapauksessa parametrit (vakiotermi ja kulmakertoimet) määritetään testidata-aineiston avulla ja saatua mallia testataan testidataan, eli `score()` lasketaan testidatasta (jota ei ole käytetty mallin luontiin).\n",
    "\n",
    "Jakoa ei voi tehdä manuaalisesti tyyliin \"60% riveistä datan alusta opetukseen, loput testiin\", koska tällöin jaossa voi tulla vääristymiä (tietyntyyppiset tietueet voivat olla alussa/lopussa).\n",
    "\n",
    "Satunnaisesti tapahtuvaan jakoon käytetään yleensä scikit-learnin `model_selection.train_test_split` -luokkaa."
   ]
  },
  {
   "cell_type": "code",
   "execution_count": 81,
   "metadata": {},
   "outputs": [
    {
     "name": "stdout",
     "output_type": "stream",
     "text": [
      "(70, 3)\n",
      "(30, 3)\n"
     ]
    }
   ],
   "source": [
    "import pandas as pd\n",
    "from sklearn.model_selection import train_test_split \n",
    "\n",
    "df = pd.read_csv('https://bit.ly/2CeUELc')\n",
    "\n",
    "x = df[['ranta_m','pinta-ala_m2','sähkö']]\n",
    "y = df['hinta_ke']\n",
    "\n",
    "xTrain, xTest, yTrain, yTest = train_test_split(x, y, test_size = 0.3, random_state = 15)\n",
    "\n",
    "print(xTrain.shape)\n",
    "print(xTest.shape)                                             "
   ]
  },
  {
   "cell_type": "markdown",
   "metadata": {},
   "source": [
    "`test_size = 0.3` määrittää että 30% riveistä menee testidataan (loput opetusdataan). `random_state = 15` alustaa satunnaislukugeneraattorin ja antamalla eri kerroilla saman luvun, saadaan aina sama jako.\n"
   ]
  },
  {
   "cell_type": "code",
   "execution_count": 82,
   "metadata": {},
   "outputs": [
    {
     "name": "stdout",
     "output_type": "stream",
     "text": [
      "Selityskerroin: 0.899211020244\n"
     ]
    }
   ],
   "source": [
    "from sklearn.linear_model import LinearRegression\n",
    "\n",
    "malli=LinearRegression()\n",
    "\n",
    "# tehdään malli opetusdatalla\n",
    "malli.fit(xTrain,yTrain)\n",
    "\n",
    "# testataan testidatalla\n",
    "print('Selityskerroin:',malli.score(xTest,yTest)) "
   ]
  },
  {
   "cell_type": "markdown",
   "metadata": {},
   "source": [
    "<a id=\"7\"></a>\n",
    "### Muuttujien muunnokset\n",
    "Määrällisten muuttujiev välillä voi olla riippuvuus, vaikka se ei olisikaan lienaarista. Tällöinkin voidaan käyttää lineaarista regressiota tekemällä muuttujille matemaattisia muunnoksia eli jos y = k\\*x^2  voidaan selittäväksi muuttujaksi ottaa x:n sijaan x^2. Muunnoksena voi olla myös logaritmi tai neliöjuuri.\n",
    "\n",
    "Esim. käytettäessä henkilön vuosituloja selittävänä muuttujana 10000 euron lisäys vaikuttaa varmaan eri tavalla tulojen kasvaessa 20 000->30 000 kuin 200 000->210 000.\n",
    "\n",
    "Yhden selittävän muuttujan tapauksessa sopiva muunnos nähdään usein suoraan hajontakaaviosta:\n",
    "\n",
    "Ohessa taulukko kertoo kuinka suuri osa asioista on muistettu x tunnin päästä.\n"
   ]
  },
  {
   "cell_type": "code",
   "execution_count": 109,
   "metadata": {},
   "outputs": [
    {
     "name": "stdout",
     "output_type": "stream",
     "text": [
      "   time  prop\n",
      "0     1  0.84\n",
      "1     5  0.71\n",
      "2    15  0.61\n",
      "3    30  0.56\n",
      "4    60  0.54\n"
     ]
    },
    {
     "data": {
      "image/png": "[encoded data removed]",
      "text/plain": [
       "<matplotlib.figure.Figure at 0x1ee9c8e5588>"
      ]
     },
     "metadata": {},
     "output_type": "display_data"
    },
    {
     "name": "stdout",
     "output_type": "stream",
     "text": [
      "score: 0.57085844687\n"
     ]
    }
   ],
   "source": [
    "import pandas as pd\n",
    "import matplotlib.pyplot as plt\n",
    "\n",
    "df = pd.read_csv('https://student.labranet.jamk.fi/~varpe/datananalk2019/kerta8/esim5.txt')\n",
    "print((df.head()))\n",
    "\n",
    "df.plot.scatter('time', 'prop')\n",
    "plt.show()\n",
    "\n",
    "from sklearn.linear_model import LinearRegression\n",
    "\n",
    "x = df['time'].to_frame()\n",
    "y = df['prop']\n",
    "\n",
    "malli=LinearRegression()\n",
    "malli.fit(x,y)\n",
    "print('score:', malli.score(x,y))"
   ]
  },
  {
   "cell_type": "markdown",
   "metadata": {},
   "source": [
    "Selvästikään riippuvuus ei ole lineaarista. Se voisi olla eksponetiaalista, josta saadaan lineaarinen riippuvuus logaritmisella muunnoksella."
   ]
  },
  {
   "cell_type": "code",
   "execution_count": 108,
   "metadata": {},
   "outputs": [
    {
     "data": {
      "image/png": "[encoded data removed]",
      "text/plain": [
       "<matplotlib.figure.Figure at 0x1ee9c7a1b38>"
      ]
     },
     "metadata": {},
     "output_type": "display_data"
    },
    {
     "name": "stdout",
     "output_type": "stream",
     "text": [
      "score: 0.989877643664\n"
     ]
    }
   ],
   "source": [
    "import numpy as np\n",
    "df['time_log'] = np.log(df['time'])\n",
    "\n",
    "df.plot.scatter('time_log', 'prop')\n",
    "plt.show()\n",
    "\n",
    "x = df['time_log'].to_frame()\n",
    "y = df['prop']\n",
    "\n",
    "malli=LinearRegression()\n",
    "malli.fit(x,y)\n",
    "print('score:', malli.score(x,y))\n",
    "\n"
   ]
  },
  {
   "cell_type": "markdown",
   "metadata": {},
   "source": [
    "Usean selittävän muuttujan tapauksessa sopivien muunnosten päättely voi olla selvästi vaikeampaa. Jokaisen muuttujan osalta voidaan tehdä oma hajontakaavio, mutta tästä ei nähdä mahdollisia muuttujien yhteisvaikutuksia. \n",
    "\n",
    "scikit-learn-kirjaston `preprocessing.PolynomialFeatures`-luokka mahdollistaa eriasteisten polynomisovitusten tekemisen automaattisesti."
   ]
  },
  {
   "cell_type": "markdown",
   "metadata": {},
   "source": [
    "<a id=\"8\"></a>\n",
    "### Muuttujien valinta\n",
    "\n",
    "Jos datassa on paljon kenttiä, voi olla järkevää etsiä lineaariseen regressiomalliin selittäviksi muuttujiksi vain tärkeimmät. Karsintaa voi tehdä esim korrelaatiokertoimien avulla `df.corrwith(df['y'])`. Myös seabornin pairplot on käyttökelpoinen muuttujien valinnassa.\n",
    "\n",
    "On myös huomioitava että välttämättä jonkun muuttujan heikko korrelaatio ei tarkoita etteikö sillä olisi vaikutusta: voi olla että jonkun muun muuttujan vaikutus on paljon suurempi mutta silti toisetkin muuttujat vaikuttavat. Esim sähköliittymä voi aina lisätä mökin hintaa 20000 e:lla mutta ei korreloi suoraan hintaan, joka riippuu voimakkaammin mökin koosta. Tällöin koko+sähkö -kombinaatio selittävät hinnan kuitenkin paremmin kuin pelkkä koko.\n"
   ]
  }
 ],
 "metadata": {
  "kernelspec": {
   "display_name": "Python 3",
   "language": "python",
   "name": "python3"
  },
  "language_info": {
   "codemirror_mode": {
    "name": "ipython",
    "version": 3
   },
   "file_extension": ".py",
   "mimetype": "text/x-python",
   "name": "python",
   "nbconvert_exporter": "python",
   "pygments_lexer": "ipython3",
   "version": "3.7.1"
  }
 },
 "nbformat": 4,
 "nbformat_minor": 2
}
