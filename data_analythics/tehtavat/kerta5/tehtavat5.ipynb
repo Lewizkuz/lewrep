{
 "cells": [
  {
   "cell_type": "markdown",
   "metadata": {},
   "source": [
    "## Datan analysointi K2019 - Tehtävät kerta 5\n",
    "\n",
    "Palauta Optiman palautuslaatikkoon viimeistään to 14.2. Kirjoita palautuslaatikon kommenttikenttään, mitkä tehtävät olet tehnyt kokonaan/osittain.\n",
    "\n",
    "**Opiskelijan nimi:**"
   ]
  },
  {
   "cell_type": "markdown",
   "metadata": {},
   "source": [
    "## 1. Autoja\n",
    "\n",
    "Tiedostossa https://student.labranet.jamk.fi/~varpe/datananalk2019/kerta5/passatvariant.csv on joitain sarakkeita Trafin tiedoissa olevista Passat Variant -autoista.\n",
    "\n",
    "Lue tiedot DataFrameen ja tee  \n",
    "* histogrammit käyttöönottovuodesta, matkamittarin lukemasta ja CO2-päästöistä\n",
    "* jointplot käyttöönottovuodesta, auton pituudesta, massasta ja CO2-päästöistä\n",
    "* violinplot käyttöönottovuodesta käyttövoiman mukaan. Ota mukaan vain käyttövoiman arvot 1.0 = bensiini, 2.0 = diesel"
   ]
  },
  {
   "cell_type": "markdown",
   "metadata": {},
   "source": [
    "## 2. Muotoilut\n",
    "Alla on annettu kaavion luontikoodi (käyttäen np-taulukoita). Tee kaaviosta yksityiskohtaisesti alla olevan mallin mukainen. Tutki [matplotlibin speksistä](https://matplotlib.org/api/_as_gen/matplotlib.pyplot.html#module-matplotlib.pyplot), miten kaavion osia muotoillaan.  \n",
    "\n",
    "![malli2](https://student.labranet.jamk.fi/~varpe/datananalk2019/kerta5/malli2.png)"
   ]
  },
  {
   "cell_type": "code",
   "execution_count": 2,
   "metadata": {},
   "outputs": [
    {
     "data": {
      "image/png": "[encoded data removed]",
      "text/plain": [
       "<Figure size 432x288 with 1 Axes>"
      ]
     },
     "metadata": {
      "needs_background": "light"
     },
     "output_type": "display_data"
    }
   ],
   "source": [
    "import numpy as np\n",
    "import pandas as pd\n",
    "import matplotlib.pyplot as plt\n",
    "import seaborn as sns\n",
    "\n",
    "\n",
    "x = np.linspace(-1,10,1000)\n",
    "y1 =  2*x +1\n",
    "y2 = 0.2*x**2-3\n",
    "y3 = (x+1)**0.5\n",
    "fig, ax = plt.subplots()\n",
    "plt.plot(x, y1)\n",
    "plt.plot(x, y2)\n",
    "plt.plot(x, y3)\n",
    "\n",
    "plt.show()"
   ]
  },
  {
   "cell_type": "markdown",
   "metadata": {},
   "source": [
    "## 3. Liikennetietoja\n",
    "Tiedostossa https://student.labranet.jamk.fi/~varpe/datananalk2019/kerta5/lam.csv on yhden päivän tietoja eräältä automaattiselta liikennemittausasemalta ([LAM](https://vayla.fi/avoindata/tietoaineistot/lam-tiedot)). Erotin on puolipiste.\n",
    "\n",
    "Lue tiedot DataFrameen ja tutki sopivien kaavioiden avulla suunnan, ajoneuvoluokan ja kellonajan (esim tunti) vaikutusta nopeusjakaumaan.\n"
   ]
  },
  {
   "cell_type": "markdown",
   "metadata": {},
   "source": [
    "## 4. Sää\n",
    "\n",
    "Lue tiedosto https://student.labranet.jamk.fi/~varpe/datananalk2019/kerta5/saa.csv DataFrameen ja tee subplotia käyttäen 4 kaaviota (2 riviä, 2 saraketta):\n",
    "* histogrammit heinäkuun päivittäsistä sademääristä vuosilta 2017 ja 2018 samaan kaavioon\n",
    "* lumensyvyydet tammi-helmikuun päiviltä vuosilta 2018 ja 2019 samaan kaavioon (voit tehdä uuden sarakkeen, joka kertoo monesko päivä on vuodesta)\n",
    "* regplot ylimmistä ja alimmista lämpötilosta vuoden 2019 tammikuulta\n",
    "* laske DataFramen [diff](https://pandas.pydata.org/pandas-docs/stable/reference/api/pandas.DataFrame.diff.html)-metodia käyttäen lumensyvyyden muutos joka päivälle. Tee sitten pylväskaavio näiden keskiarvosta kuukausittain vuodelle 2018.\n",
    "\n",
    "\n",
    "Malli:  \n",
    "![malli4](https://student.labranet.jamk.fi/~varpe/datananalk2019/kerta5/malli4.png)\n"
   ]
  },
  {
   "cell_type": "markdown",
   "metadata": {},
   "source": [
    "## 5. Jalkapalloa\n",
    "Käytä 4-kerran 4-tehtävän ratkaisua/malliratkaisua hyväksi ja lue yhteen DataFrameen (1 ottelu/rivi) kaikki ottelutulokset kansiossa  \n",
    "https://student.labranet.jamk.fi/~varpe/datananalk2019/kerta4/epl/  \n",
    "olevista tiedostoista  \n",
    "`season-0910_csv.csv, season-1011_csv.csv, ... , season-1819_csv.csv`   \n",
    "\n",
    "Suodata sitten yhden joukkueen ottelut ja laske uusi sarake, jossa on joukkueen saamat pisteet jokaisesta ottelusta (voitto = 3p, tasapeli 1p, tappio 0p)\n",
    "\n",
    "Laske sitten pistekeskiarvot ottelun erotuomarin mukaan ryhmiteltynä ja lajiteltuna, ja tulosta näistä pylväskaavio. \n",
    "\n",
    "Malli:  \n",
    "![tuomari](https://student.labranet.jamk.fi/~varpe/datananalk2019/kerta5/tuomari.png)"
   ]
  }
 ],
 "metadata": {
  "kernelspec": {
   "display_name": "Python 3",
   "language": "python",
   "name": "python3"
  },
  "language_info": {
   "codemirror_mode": {
    "name": "ipython",
    "version": 3
   },
   "file_extension": ".py",
   "mimetype": "text/x-python",
   "name": "python",
   "nbconvert_exporter": "python",
   "pygments_lexer": "ipython3",
   "version": "3.7.1"
  }
 },
 "nbformat": 4,
 "nbformat_minor": 2
}
