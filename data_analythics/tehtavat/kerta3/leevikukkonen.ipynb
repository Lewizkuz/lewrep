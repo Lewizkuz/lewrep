{
 "cells": [
  {
   "cell_type": "markdown",
   "metadata": {},
   "source": [
    "# Kerran 3 Tehtävät"
   ]
  },
  {
   "cell_type": "markdown",
   "metadata": {},
   "source": [
    "### Leevi Kukkonen K8397"
   ]
  },
  {
   "cell_type": "markdown",
   "metadata": {},
   "source": [
    "## Tehtävä 1"
   ]
  },
  {
   "cell_type": "code",
   "execution_count": 2,
   "metadata": {},
   "outputs": [
    {
     "name": "stdout",
     "output_type": "stream",
     "text": [
      "(20, 30]    230\n",
      "(30, 40]    155\n",
      "(10, 20]    115\n",
      "(40, 50]     86\n",
      "(0, 10]      64\n",
      "(50, 60]     42\n",
      "(60, 70]     17\n",
      "Name: Age, dtype: int64\n"
     ]
    }
   ],
   "source": [
    "import numpy as np\n",
    "import pandas as pd\n",
    "\n",
    "# T1\n",
    "\n",
    "df = pd.read_csv('https://student.labranet.jamk.fi/~varpe/datananalk2019/kerta3/titanic.csv', index_col=0)\n",
    "df_tens = pd.cut(df['Age'], [0,10,20,30,40,50,60,70])\n",
    "print(df_tens.value_counts())"
   ]
  },
  {
   "cell_type": "markdown",
   "metadata": {},
   "source": [
    "## Tehtävä 2"
   ]
  },
  {
   "cell_type": "code",
   "execution_count": 3,
   "metadata": {},
   "outputs": [
    {
     "name": "stdout",
     "output_type": "stream",
     "text": [
      "DATE\n",
      "12/Dec/2015    120\n",
      "13/Dec/2015    369\n",
      "14/Dec/2015    319\n",
      "15/Dec/2015    278\n",
      "16/Dec/2015    311\n",
      "17/Dec/2015    287\n",
      "18/Dec/2015    210\n",
      "19/Dec/2015     54\n",
      "20/Dec/2015     70\n",
      "21/Dec/2015     47\n",
      "Name: IP, dtype: int64\n"
     ]
    }
   ],
   "source": [
    "# T2\n",
    "toDate = lambda x: x[1 :-9]\n",
    "df = pd.read_csv('https://student.labranet.jamk.fi/~varpe/datananalk2019/kerta3/esim4.txt',\n",
    "                 sep=' ',\n",
    "                 usecols = [0,3],\n",
    "                 names = ['IP','DATE'],\n",
    "                 converters= {'DATE': toDate})\n",
    "#df = pd.cut(df['Age'], [0,10,20,30,40,50,60,70])\n",
    "df = df['IP'].groupby(df['DATE']).nunique()\n",
    "print(df)"
   ]
  },
  {
   "cell_type": "markdown",
   "metadata": {},
   "source": [
    "## Tehtävä 3"
   ]
  },
  {
   "cell_type": "code",
   "execution_count": 90,
   "metadata": {},
   "outputs": [
    {
     "name": "stdout",
     "output_type": "stream",
     "text": [
      "['Etelä-Pohjanmaa' 'Pohjois-Pohjanmaa' 'Päijät-Häme' 'Uusimaa'\n",
      " 'Varsinais-Suomi' 'Pirkanmaa' 'Ahvenanmaa' 'Etelä-Savo' 'Lappi'\n",
      " 'Satakunta' 'Kanta-Häme' 'Keski-Pohjanmaa' 'Kymenlaakso' 'Keski-Suomi'\n",
      " 'Kainuu' 'Pohjois-Savo' 'Pohjois-Karjala' 'Pohjanmaa' 'Etelä-Karjala']\n",
      "Index(['Kunta-\\nnumero', 'Kunta', 'Maakunta', 'Seutukunta', 'Kuntamuoto',\n",
      "       'Maapinta-ala\\nkm2', 'Kokonaispinta-ala\\nkm2', 'Väkiluku \\n31.12.2015',\n",
      "       'Asukastiheys\\nAsukkaita/km²', 'Asukastiheys\\nAsukkaita/\\nmaa-km²',\n",
      "       'Tuloveroprosentti 2016', 'Kielisuhde',\n",
      "       'Ruotsinkielisten osuus väestöstä, %',\n",
      "       'Korkea-asteen tutkinnon suorittaneiden osuus (yli 15-v.) %, 2014',\n",
      "       'Työttömien osuus työvoimasta, %, 2014'],\n",
      "      dtype='object')\n",
      "Kuntia (>70 000): 13\n",
      "Kunnat: ['Hankasalmi' 'Jyväskylä' 'Laukaa' 'Muurame' 'Petäjävesi' 'Toivakka'\n",
      " 'Uurainen']\n",
      "41897\n"
     ]
    }
   ],
   "source": [
    "#T3\n",
    "df = pd.read_excel('https://student.labranet.jamk.fi/~varpe/ictv2018/kerta5/kunnat2016.xlsx')\n",
    "print(df['Maakunta'].unique())\n",
    "print(df.columns)\n",
    "print('Kuntia (>70 000):', len(df[df['Väkiluku \\n31.12.2015'] > 70000]))\n",
    "df_jyvaskyla = df[df['Seutukunta'] == 'Jyväskylän']\n",
    "print('Kunnat:', df_jyvaskyla['Kunta'].unique())\n",
    "df_suurin = df[df['Kuntamuoto'] != 'Kaupunki']\n",
    "suurin = df_suurin['Väkiluku \\n31.12.2015'].max()\n",
    "print(df_suurin[df['Väkiluku \\n31.12.2015']])"
   ]
  },
  {
   "cell_type": "markdown",
   "metadata": {},
   "source": [
    "## Tehtävä 4"
   ]
  },
  {
   "cell_type": "code",
   "execution_count": 67,
   "metadata": {},
   "outputs": [],
   "source": [
    "#T4"
   ]
  },
  {
   "cell_type": "code",
   "execution_count": null,
   "metadata": {},
   "outputs": [],
   "source": []
  }
 ],
 "metadata": {
  "kernelspec": {
   "display_name": "Python 3",
   "language": "python",
   "name": "python3"
  },
  "language_info": {
   "codemirror_mode": {
    "name": "ipython",
    "version": 3
   },
   "file_extension": ".py",
   "mimetype": "text/x-python",
   "name": "python",
   "nbconvert_exporter": "python",
   "pygments_lexer": "ipython3",
   "version": "3.7.1"
  }
 },
 "nbformat": 4,
 "nbformat_minor": 2
}
