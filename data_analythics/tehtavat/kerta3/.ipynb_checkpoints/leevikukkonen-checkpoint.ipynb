{
 "cells": [
  {
   "cell_type": "markdown",
   "metadata": {},
   "source": [
    "# Kerran 3 Tehtävät"
   ]
  },
  {
   "cell_type": "markdown",
   "metadata": {},
   "source": [
    "### Leevi Kukkonen K8397"
   ]
  },
  {
   "cell_type": "markdown",
   "metadata": {},
   "source": [
    "## Tehtävä 1"
   ]
  },
  {
   "cell_type": "code",
   "execution_count": 63,
   "metadata": {},
   "outputs": [
    {
     "ename": "AttributeError",
     "evalue": "'DataFrame' object has no attribute 'value_counts'",
     "output_type": "error",
     "traceback": [
      "\u001b[1;31m---------------------------------------------------------------------------\u001b[0m",
      "\u001b[1;31mAttributeError\u001b[0m                            Traceback (most recent call last)",
      "\u001b[1;32m<ipython-input-63-71bbbbd823a2>\u001b[0m in \u001b[0;36m<module>\u001b[1;34m\u001b[0m\n\u001b[0;32m      6\u001b[0m \u001b[0mdf\u001b[0m \u001b[1;33m=\u001b[0m \u001b[0mpd\u001b[0m\u001b[1;33m.\u001b[0m\u001b[0mread_csv\u001b[0m\u001b[1;33m(\u001b[0m\u001b[1;34m'https://student.labranet.jamk.fi/~varpe/datananalk2019/kerta3/titanic.csv'\u001b[0m\u001b[1;33m,\u001b[0m \u001b[0mindex_col\u001b[0m\u001b[1;33m=\u001b[0m\u001b[1;36m0\u001b[0m\u001b[1;33m)\u001b[0m\u001b[1;33m\u001b[0m\u001b[1;33m\u001b[0m\u001b[0m\n\u001b[0;32m      7\u001b[0m \u001b[0mdf\u001b[0m\u001b[1;33m[\u001b[0m\u001b[1;34m'Age'\u001b[0m\u001b[1;33m]\u001b[0m \u001b[1;33m=\u001b[0m \u001b[1;33m(\u001b[0m\u001b[0mdf\u001b[0m\u001b[1;33m[\u001b[0m\u001b[1;34m'Age'\u001b[0m\u001b[1;33m]\u001b[0m \u001b[1;33m-\u001b[0m \u001b[0mdf\u001b[0m\u001b[1;33m[\u001b[0m\u001b[1;34m'Age'\u001b[0m\u001b[1;33m]\u001b[0m \u001b[1;33m%\u001b[0m \u001b[1;36m10\u001b[0m\u001b[1;33m)\u001b[0m\u001b[1;33m\u001b[0m\u001b[1;33m\u001b[0m\u001b[0m\n\u001b[1;32m----> 8\u001b[1;33m \u001b[0mdf\u001b[0m \u001b[1;33m=\u001b[0m \u001b[0mdf\u001b[0m\u001b[1;33m.\u001b[0m\u001b[0mvalue_counts\u001b[0m\u001b[1;33m(\u001b[0m\u001b[1;33m)\u001b[0m\u001b[1;33m\u001b[0m\u001b[1;33m\u001b[0m\u001b[0m\n\u001b[0m\u001b[0;32m      9\u001b[0m \u001b[0mprint\u001b[0m\u001b[1;33m(\u001b[0m\u001b[0mdf\u001b[0m\u001b[1;33m)\u001b[0m\u001b[1;33m\u001b[0m\u001b[1;33m\u001b[0m\u001b[0m\n",
      "\u001b[1;32m~\\Anaconda3\\lib\\site-packages\\pandas\\core\\generic.py\u001b[0m in \u001b[0;36m__getattr__\u001b[1;34m(self, name)\u001b[0m\n\u001b[0;32m   4374\u001b[0m             \u001b[1;32mif\u001b[0m \u001b[0mself\u001b[0m\u001b[1;33m.\u001b[0m\u001b[0m_info_axis\u001b[0m\u001b[1;33m.\u001b[0m\u001b[0m_can_hold_identifiers_and_holds_name\u001b[0m\u001b[1;33m(\u001b[0m\u001b[0mname\u001b[0m\u001b[1;33m)\u001b[0m\u001b[1;33m:\u001b[0m\u001b[1;33m\u001b[0m\u001b[1;33m\u001b[0m\u001b[0m\n\u001b[0;32m   4375\u001b[0m                 \u001b[1;32mreturn\u001b[0m \u001b[0mself\u001b[0m\u001b[1;33m[\u001b[0m\u001b[0mname\u001b[0m\u001b[1;33m]\u001b[0m\u001b[1;33m\u001b[0m\u001b[1;33m\u001b[0m\u001b[0m\n\u001b[1;32m-> 4376\u001b[1;33m             \u001b[1;32mreturn\u001b[0m \u001b[0mobject\u001b[0m\u001b[1;33m.\u001b[0m\u001b[0m__getattribute__\u001b[0m\u001b[1;33m(\u001b[0m\u001b[0mself\u001b[0m\u001b[1;33m,\u001b[0m \u001b[0mname\u001b[0m\u001b[1;33m)\u001b[0m\u001b[1;33m\u001b[0m\u001b[1;33m\u001b[0m\u001b[0m\n\u001b[0m\u001b[0;32m   4377\u001b[0m \u001b[1;33m\u001b[0m\u001b[0m\n\u001b[0;32m   4378\u001b[0m     \u001b[1;32mdef\u001b[0m \u001b[0m__setattr__\u001b[0m\u001b[1;33m(\u001b[0m\u001b[0mself\u001b[0m\u001b[1;33m,\u001b[0m \u001b[0mname\u001b[0m\u001b[1;33m,\u001b[0m \u001b[0mvalue\u001b[0m\u001b[1;33m)\u001b[0m\u001b[1;33m:\u001b[0m\u001b[1;33m\u001b[0m\u001b[1;33m\u001b[0m\u001b[0m\n",
      "\u001b[1;31mAttributeError\u001b[0m: 'DataFrame' object has no attribute 'value_counts'"
     ]
    }
   ],
   "source": [
    "import numpy as np\n",
    "import pandas as pd\n",
    "\n",
    "# T1\n",
    "\n",
    "df = pd.read_csv('https://student.labranet.jamk.fi/~varpe/datananalk2019/kerta3/titanic.csv', index_col=0)\n",
    "df['Age'] = (df['Age'] - df['Age'] % 10)\n",
    "df = df.value_counts()\n",
    "print(df)"
   ]
  },
  {
   "cell_type": "markdown",
   "metadata": {},
   "source": [
    "## Tehtävä 2"
   ]
  },
  {
   "cell_type": "code",
   "execution_count": 3,
   "metadata": {},
   "outputs": [
    {
     "name": "stdout",
     "output_type": "stream",
     "text": [
      "DATE\n",
      "12/Dec/2015    120\n",
      "13/Dec/2015    369\n",
      "14/Dec/2015    319\n",
      "15/Dec/2015    278\n",
      "16/Dec/2015    311\n",
      "17/Dec/2015    287\n",
      "18/Dec/2015    210\n",
      "19/Dec/2015     54\n",
      "20/Dec/2015     70\n",
      "21/Dec/2015     47\n",
      "Name: IP, dtype: int64\n"
     ]
    }
   ],
   "source": [
    "# T2\n",
    "toDate = lambda x: x[1 :-9]\n",
    "df = pd.read_csv('https://student.labranet.jamk.fi/~varpe/datananalk2019/kerta3/esim4.txt',\n",
    "                 sep=' ',\n",
    "                 usecols = [0,3],\n",
    "                 names = ['IP','DATE'],\n",
    "                 converters= {'DATE': toDate})\n",
    "#df = pd.cut(df['Age'], [0,10,20,30,40,50,60,70])\n",
    "df = df['IP'].groupby(df['DATE']).nunique()\n",
    "print(df)"
   ]
  },
  {
   "cell_type": "markdown",
   "metadata": {},
   "source": [
    "## Tehtävä 3"
   ]
  },
  {
   "cell_type": "code",
   "execution_count": 134,
   "metadata": {},
   "outputs": [
    {
     "name": "stdout",
     "output_type": "stream",
     "text": [
      "['Etelä-Pohjanmaa' 'Pohjois-Pohjanmaa' 'Päijät-Häme' 'Uusimaa'\n",
      " 'Varsinais-Suomi' 'Pirkanmaa' 'Ahvenanmaa' 'Etelä-Savo' 'Lappi'\n",
      " 'Satakunta' 'Kanta-Häme' 'Keski-Pohjanmaa' 'Kymenlaakso' 'Keski-Suomi'\n",
      " 'Kainuu' 'Pohjois-Savo' 'Pohjois-Karjala' 'Pohjanmaa' 'Etelä-Karjala']\n",
      "Index(['Kunta-\\nnumero', 'Kunta', 'Maakunta', 'Seutukunta', 'Kuntamuoto',\n",
      "       'Maapinta-ala\\nkm2', 'Kokonaispinta-ala\\nkm2', 'Väkiluku \\n31.12.2015',\n",
      "       'Asukastiheys\\nAsukkaita/km²', 'Asukastiheys\\nAsukkaita/\\nmaa-km²',\n",
      "       'Tuloveroprosentti 2016', 'Kielisuhde',\n",
      "       'Ruotsinkielisten osuus väestöstä, %',\n",
      "       'Korkea-asteen tutkinnon suorittaneiden osuus (yli 15-v.) %, 2014',\n",
      "       'Työttömien osuus työvoimasta, %, 2014'],\n",
      "      dtype='object')\n",
      "Kuntia (>70 000): 13\n",
      "Jykylän kunnat: 7\n",
      "Ruotsinkielisiä kuntia:  17\n",
      "Kunnat (vero% 19 < x < 20):  45\n"
     ]
    }
   ],
   "source": [
    "#T3\n",
    "df = pd.read_excel('https://student.labranet.jamk.fi/~varpe/ictv2018/kerta5/kunnat2016.xlsx')\n",
    "print(df['Maakunta'].unique())\n",
    "print(df.columns)\n",
    "print('Kuntia (>70 000):', len(df[df['Väkiluku \\n31.12.2015'] > 70000]))\n",
    "df_jyvaskyla = df[df['Seutukunta'] == 'Jyväskylän']\n",
    "print('Jykylän kunnat:', df_jyvaskyla['Kunta'].count())\n",
    "df_suurin = df[df['Kuntamuoto'] != 'Kaupunki']\n",
    "#df_suurin = df\n",
    "#print('Suurin ei kaupunki: ', df_suurin)\n",
    "\n",
    "# ruotsinkielisyyskunta\n",
    "df_ruotsi = df[df['Kielisuhde'] == 'Yksikielinen ruotsinkielinen kunta']\n",
    "print('Ruotsinkielisiä kuntia: ', df_ruotsi['Kielisuhde'].count())\n",
    "\n",
    "#veroprosentit\n",
    "df_verot =  df[(df['Tuloveroprosentti 2016'] < 20) & (df['Tuloveroprosentti 2016'] > 19)]\n",
    "print('Kunnat (vero% 19 < x < 20): ', len(df_verot))\n",
    "\n",
    "#väkiluvut\n",
    "df_pohjanmaa = df[df['Maakunta'] == 'Pohjanmaa']\n",
    "print()"
   ]
  },
  {
   "cell_type": "markdown",
   "metadata": {},
   "source": [
    "## Tehtävä 4"
   ]
  },
  {
   "cell_type": "code",
   "execution_count": 67,
   "metadata": {},
   "outputs": [],
   "source": [
    "#T4"
   ]
  },
  {
   "cell_type": "code",
   "execution_count": null,
   "metadata": {},
   "outputs": [],
   "source": []
  }
 ],
 "metadata": {
  "kernelspec": {
   "display_name": "Python 3",
   "language": "python",
   "name": "python3"
  },
  "language_info": {
   "codemirror_mode": {
    "name": "ipython",
    "version": 3
   },
   "file_extension": ".py",
   "mimetype": "text/x-python",
   "name": "python",
   "nbconvert_exporter": "python",
   "pygments_lexer": "ipython3",
   "version": "3.7.1"
  }
 },
 "nbformat": 4,
 "nbformat_minor": 2
}
