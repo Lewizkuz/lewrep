{
 "cells": [
  {
   "cell_type": "markdown",
   "metadata": {},
   "source": [
    "# Datan analysointi K2019 - Tehtävät kerta 8\n",
    "\n",
    "Palauta Optiman palautuslaatikkoon viimeistään pe 22.3. klo 8:00. Kirjoita palautuslaatikon kommenttikenttään, mitkä tehtävät olet tehnyt kokonaan/osittain.\n",
    "\n",
    "Opiskelijan nimi:\n"
   ]
  },
  {
   "cell_type": "markdown",
   "metadata": {},
   "source": [
    "## 1. Tuotto\n",
    "Tiedostossa https://student.labranet.jamk.fi/~varpe/datananalk2019/kerta8/teht1.txt on (kuvitteellisen) ruokakuljetusfirman tietoja kaupungeittain:  \n",
    "* kaupungin asukasluku\n",
    "* kaupungista saatu tuotto (tEur)\n",
    "\n",
    "Sovita tietoihin lineaarinen regressiomalli (miten tuotto riippu kaupungin asukasluvusta) ja laske mallin selityskerroin. Piirrä myös hajontakaavio ja siihen regressiosuora."
   ]
  },
  {
   "cell_type": "markdown",
   "metadata": {},
   "source": [
    "## 2. Kysely\n",
    "\n",
    "Avaa 6-kerran tehtävissäkin käytetty tiedosto http://student.labranet.jamk.fi/~varpe/datananalk2019/kerta6/kysely.txt \n",
    "Tiedostossa on (kuvitteellisen) tavarantoimittajan yritysasiakkailtaan keräämiä käsityksiä eri asioista asteikolla 0-10: 0=huono, 10=erinomainen. (datassa desimaalierotin on pilkku ja kenttäerotin puolipiste)\n",
    "\n",
    "Tutki korrelaatiokertoiminen avulla mitkä tekijät ovat kyselyn perusteella voimakkaimmin yhteydessä yleiseen tyytyväisyyteen ja muodosta lineaarien malli muutaman eniten vaikuttavan tekijän avulla. \n",
    "\n",
    "Piirrä kaavioon mallin antamamista ennusteista ja havainnoissa olevista yleisen tyytyväisyyden arvoista."
   ]
  },
  {
   "cell_type": "markdown",
   "metadata": {},
   "source": [
    "## 3. Asunnon hinta\n",
    "Tiedostossa https://student.labranet.jamk.fi/~varpe/datananalk2019/kerta8/teht3.txt on (kuvitteellisia) asuntojen myyntihintoja ja niiden tietoja (pinta-ala, makuuhuoneiden lukumäärä ja saunan olemassaolo).\n",
    "\n",
    "Tee lineaarien regressiomalli, jossa selittävinä muuttujina on pinta-ala, makuuhuoneiden lukumäärä ja saunan olemassaolo ja selitettävänä muuttujana myyntihinta. \n",
    "\n",
    "(Joudut muuttamaan sauna-kentän numeeriseksi)\n",
    "\n",
    "Laske mallille selityskerroin.\n",
    "\n",
    "Kokeile sitten mitä saat selityskertoimiksi, jos käytät selittävinä muuttuujina vain kahta kolmesta mahdollisesta.\n",
    "\n",
    "Piirrä parhaasta mallista kaavio ennustetuista ja havaituista arvoista.\n",
    "\n"
   ]
  },
  {
   "cell_type": "markdown",
   "metadata": {},
   "source": [
    "## 4. Putoamiskiihtyvyys\n",
    "\n",
    "Teorian mukaan matemaattisen heilurin pituuden l ja heilahdusajan t0 välillä on yhteys\n",
    "\n",
    "![kaava](https://student.labranet.jamk.fi/~varpe/datananalk2019/kerta8/kaava2.png)\n",
    "\n",
    "Tiedostossa https://student.labranet.jamk.fi/~varpe/datananalk2019/kerta8/teht4.txt on mitattuja heilurin pituuksia (cm) ja niille mitattuja heilahdusaikoja (s)\n",
    "\n",
    "Alemman kaavan mukaan heilahdusaika on suoraan verrannollinen pituuden neliöjuureen, verrannollisuuskertoimen (eli kulmakertoimen) ollessa:\n",
    "\n",
    "![kaava](https://student.labranet.jamk.fi/~varpe/datananalk2019/kerta8/kaava3.png)\n",
    "\n",
    "Määritä tämä aineiston regressiosuoran kulmakertoimena ja laske siitä putoamiskiihtyvyyden g arvo.\n",
    "\n",
    "Tee ensin uusi kenttä pituuden neliöjuurelle, ja muunna myös pituus senttimetristä metreiksi."
   ]
  },
  {
   "cell_type": "markdown",
   "metadata": {},
   "source": [
    "## 5. Jyväskylän kämpät\n",
    "Tiedostossa https://student.labranet.jamk.fi/~varpe/datananalk2019/kerta8/teht5.txt on tietoja Jyväskylän toteutuneista kerrostaloasuntokaupoista viimeisen 12 kk ajalta.\n",
    "\n",
    "Jaa data opetusdataan (60%) ja testidataan (40%) ja tee opetusdatalla lineaarinen regressiomalli hinnan ennustamiseksi kentistä:\n",
    "* m2\n",
    "* rakennusvuosi\n",
    "* hissi (muunna 0/1)\n",
    "* kunto (muunna numeeriseksi)\n",
    "* tee uusi kenttä onkoKeskustassa, joka saa arvon 1, jos kaupunginosa = Keskusta\n",
    "\n",
    "Tsekkaa onko datassa puuttuvia arvoja ja korvaa ne ko. kentän mediaanilla. \n",
    "\n",
    "Testaa saatua mallia testidatalla.\n"
   ]
  }
 ],
 "metadata": {
  "kernelspec": {
   "display_name": "Python 3",
   "language": "python",
   "name": "python3"
  },
  "language_info": {
   "codemirror_mode": {
    "name": "ipython",
    "version": 3
   },
   "file_extension": ".py",
   "mimetype": "text/x-python",
   "name": "python",
   "nbconvert_exporter": "python",
   "pygments_lexer": "ipython3",
   "version": "3.7.1"
  }
 },
 "nbformat": 4,
 "nbformat_minor": 2
}
