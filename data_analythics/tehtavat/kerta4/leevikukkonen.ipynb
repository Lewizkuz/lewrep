{
 "cells": [
  {
   "cell_type": "markdown",
   "metadata": {},
   "source": [
    "# Kerran 4 Tehtävät"
   ]
  },
  {
   "cell_type": "markdown",
   "metadata": {},
   "source": [
    "### Leevi Kukkonen K8397"
   ]
  },
  {
   "cell_type": "markdown",
   "metadata": {},
   "source": [
    "## Tehtävä 1"
   ]
  },
  {
   "cell_type": "code",
   "execution_count": 6,
   "metadata": {},
   "outputs": [
    {
     "name": "stdout",
     "output_type": "stream",
     "text": [
      "20.0    220\n",
      "30.0    167\n",
      "50.0     48\n",
      "0.0      62\n",
      "10.0    102\n",
      "40.0     89\n",
      "60.0     19\n",
      "70.0      6\n",
      "80.0      1\n",
      "Name: Age, dtype: int64\n"
     ]
    }
   ],
   "source": [
    "import numpy as np\n",
    "import pandas as pd\n",
    "\n",
    "# T1\n",
    "\n"
   ]
  },
  {
   "cell_type": "markdown",
   "metadata": {},
   "source": [
    "## Tehtävä 2"
   ]
  },
  {
   "cell_type": "code",
   "execution_count": 9,
   "metadata": {},
   "outputs": [],
   "source": [
    "# T2"
   ]
  },
  {
   "cell_type": "markdown",
   "metadata": {},
   "source": [
    "## Tehtävä 3"
   ]
  },
  {
   "cell_type": "code",
   "execution_count": 8,
   "metadata": {},
   "outputs": [
    {
     "name": "stdout",
     "output_type": "stream",
     "text": [
      "['Etelä-Pohjanmaa' 'Pohjois-Pohjanmaa' 'Päijät-Häme' 'Uusimaa'\n",
      " 'Varsinais-Suomi' 'Pirkanmaa' 'Ahvenanmaa' 'Etelä-Savo' 'Lappi'\n",
      " 'Satakunta' 'Kanta-Häme' 'Keski-Pohjanmaa' 'Kymenlaakso' 'Keski-Suomi'\n",
      " 'Kainuu' 'Pohjois-Savo' 'Pohjois-Karjala' 'Pohjanmaa' 'Etelä-Karjala']\n",
      "Index(['Kunta-\\nnumero', 'Kunta', 'Maakunta', 'Seutukunta', 'Kuntamuoto',\n",
      "       'Maapinta-ala\\nkm2', 'Kokonaispinta-ala\\nkm2', 'Väkiluku \\n31.12.2015',\n",
      "       'Asukastiheys\\nAsukkaita/km²', 'Asukastiheys\\nAsukkaita/\\nmaa-km²',\n",
      "       'Tuloveroprosentti 2016', 'Kielisuhde',\n",
      "       'Ruotsinkielisten osuus väestöstä, %',\n",
      "       'Korkea-asteen tutkinnon suorittaneiden osuus (yli 15-v.) %, 2014',\n",
      "       'Työttömien osuus työvoimasta, %, 2014'],\n",
      "      dtype='object')\n",
      "Kuntia (>50 000): 13\n",
      "Jykylän kunnat: 7\n",
      "Ruotsinkielisiä kuntia:  17\n",
      "Kunnat (vero% 19 < x < 20):  45\n",
      "\n"
     ]
    }
   ],
   "source": [
    "#T3\n"
   ]
  },
  {
   "cell_type": "markdown",
   "metadata": {},
   "source": [
    "## Tehtävä 4"
   ]
  },
  {
   "cell_type": "code",
   "execution_count": 10,
   "metadata": {},
   "outputs": [],
   "source": [
    "#T4"
   ]
  },
  {
   "cell_type": "markdown",
   "metadata": {},
   "source": [
    "# Tehtävä 5"
   ]
  },
  {
   "cell_type": "code",
   "execution_count": null,
   "metadata": {},
   "outputs": [],
   "source": []
  }
 ],
 "metadata": {
  "kernelspec": {
   "display_name": "Python 3",
   "language": "python",
   "name": "python3"
  },
  "language_info": {
   "codemirror_mode": {
    "name": "ipython",
    "version": 3
   },
   "file_extension": ".py",
   "mimetype": "text/x-python",
   "name": "python",
   "nbconvert_exporter": "python",
   "pygments_lexer": "ipython3",
   "version": "3.7.1"
  }
 },
 "nbformat": 4,
 "nbformat_minor": 2
}
