{
 "cells": [
  {
   "cell_type": "markdown",
   "metadata": {
    "collapsed": true
   },
   "source": [
    "# Datan analysointi K2019 - Tehtävät kerta 7\n",
    "\n",
    "Palauta Optiman palautuslaatikkoon viimeistään pe 15.3. klo 8:00. Kirjoita palautuslaatikon kommenttikenttään, mitkä tehtävät olet tehnyt kokonaan/osittain.\n",
    "\n",
    "Opiskelijan nimi:"
   ]
  },
  {
   "cell_type": "markdown",
   "metadata": {},
   "source": [
    "## 1.  365 noppaa\n",
    "\n",
    "Tee pandasin data_range-funktiota käyttäen sarja jossa on vuoden 2019 kaikki päivät.\n",
    "Tee sitten NumPy:n satunnaislukufunktiota käyttäen 365 nopanheiton sarja ja yhdistä nämä niin, että joka päivälle tulee yksi nopanheitto.\n",
    "\n",
    "Laske sitten kuukausittain montako 6:sta on tullut milläkin kuukaudella.\n",
    "\n"
   ]
  },
  {
   "cell_type": "markdown",
   "metadata": {},
   "source": [
    "## 2. Sekunnit aikaleimoiksi\n",
    "Tiedostossa http://student.labranet.jamk.fi/~varpe/datananalk2019/kerta7/teht2.txt on koordinaatteja ja niille aikaleimoja siten, että secs-sarake kertoo ajan alkuhetkestä lukien.\n",
    "\n",
    "Tuo tiedosto ja tee sarake jossa on riveille aikaleimat, kun alkuhetki on ollut 2019-02-16 10:05:12"
   ]
  },
  {
   "cell_type": "markdown",
   "metadata": {},
   "source": [
    "## 3. Jalkapalloa\n",
    "\n",
    "Alla on 5-kerran harjoituksesta koodi, jossa luetaan Valioliigan ottelut kaudesta 2009-2010 alkukauteen 2018-2019 samaan DataFrameen.\n",
    "\n",
    "Käytä aikasarjaa hyväksi ja selvitä minä *kalenteriviikkoina* (ma-su) on pelattu eniten otteluita.\n",
    "Yritä saada otsikoitua viikot alkamispäivän mukaan, jolloin tulokseksi pitäisi saada:  \n",
    "2010-12-27    **21**  \n",
    "2013-12-23    **21** "
   ]
  },
  {
   "cell_type": "code",
   "execution_count": 2,
   "metadata": {},
   "outputs": [],
   "source": [
    "import pandas as pd\n",
    "\n",
    "dfall =  pd.DataFrame()\n",
    "\n",
    "for i in range(10,20):\n",
    "  kausi = ('0' if i==10 else '')+str(i-1)+str(i)\n",
    "  dfkausi = pd.read_csv('https://student.labranet.jamk.fi/~varpe/datananalk2019/kerta4/epl/season-'+ kausi +'_csv.csv')\n",
    "  dfall = pd.concat([dfall,dfkausi])"
   ]
  },
  {
   "cell_type": "markdown",
   "metadata": {},
   "source": [
    "## 4. Sää\n",
    "Tiedostossa http://student.labranet.jamk.fi/~varpe/datananalk2019/kerta7/saa2018.csv on vuoden 2018 päivittäiset lämpötilat.\n",
    "\n",
    "Lue tiedot DataFrameen ja tee indeksi rivien aikaleimoista. \n",
    "\n",
    "Laske ja tulosta sen avulla viikottaiset keskilämpötilat.\n",
    "\n",
    "Kuvaa sitten samaan kuvaajaan päivittäiset lämpötilat ja niiden liukuva 7 päivän keskiarvo ja alussa laskemasi viikottaiset keskilämpötilat. Käytä plot:ssa parametria `figsize=(24,6)`, jotta saat kuvaajasta tavallista leveämmän.\n"
   ]
  },
  {
   "cell_type": "markdown",
   "metadata": {},
   "source": [
    "## 5. access.log\n",
    "Tiedostossa http://student.labranet.jamk.fi/~varpe/datananalk2019/kerta7/accesslog.zip on eräästä access.log-tiedostosta poimittuja tietoja (ip-osoite, aika ja eventid).\n",
    "\n",
    "Tee tiedoista kaavio, joka kertoo kuinka monta **eri ip-osoitetta** on ollut kussakin kuudessa eventissä 5 minuutin jaksoissa näytteistettynä.\n",
    "\n",
    "Voit joutua käyttämään omaa date_parser-funktiota. \n",
    "\n",
    "Malli:  \n",
    "![malli5](http://student.labranet.jamk.fi/~varpe/datananalk2019/kerta7/malli5.png)"
   ]
  }
 ],
 "metadata": {
  "kernelspec": {
   "display_name": "Python 3",
   "language": "python",
   "name": "python3"
  },
  "language_info": {
   "codemirror_mode": {
    "name": "ipython",
    "version": 3
   },
   "file_extension": ".py",
   "mimetype": "text/x-python",
   "name": "python",
   "nbconvert_exporter": "python",
   "pygments_lexer": "ipython3",
   "version": "3.7.1"
  }
 },
 "nbformat": 4,
 "nbformat_minor": 2
}
