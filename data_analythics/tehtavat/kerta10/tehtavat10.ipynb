{
 "cells": [
  {
   "cell_type": "markdown",
   "metadata": {},
   "source": [
    "# Datan analysointi K2019 - Tehtävät kerta 10\n",
    "\n",
    "Palauta Optiman palautuslaatikkoon viimeistään pe 5.4. klo 8:00. Kirjoita palautuslaatikon kommenttikenttään, mitkä tehtävät olet tehnyt kokonaan/osittain.\n",
    "\n",
    "**Opiskelijan nimi:**\n"
   ]
  },
  {
   "cell_type": "markdown",
   "metadata": {},
   "source": [
    "## 1. Viini\n",
    "(sama aineisto kuin kerta9-tehtävä 2)\n",
    "\n",
    "Tiedostossa https://student.labranet.jamk.fi/~varpe/datananalk2019/kerta9/viini.csv on tietoja portugalilaisista viineistä. Kokeile voiko muiden ominaisuuksien avulla ennustaa päätöspuulla onko kyseessä puna- vai valkoviini. Tieto tästä löytyy type-kentästä.\n",
    "\n",
    "Jaa data opetus- ja testidataan 70%/30% ja tee malli opetusdatalla ja testaa se testidatalla.\n",
    "\n",
    "Voit poistaa datasta NaN-arvoja sisältävät rivit (koska niitä on vähän verrattuna datamäärään)."
   ]
  },
  {
   "cell_type": "markdown",
   "metadata": {},
   "source": [
    "## 2. Ostaako\n",
    "(sama aineisto kuin kerta9-tehtävä 3)\n",
    "\n",
    "Tiedostossa https://student.labranet.jamk.fi/~varpe/datananalk2019/kerta9/teht3.txt on dataa henkilön tuloista, sukupuolesta ja siviilisäädystä. Lisäksi on tieto onko henkilö ostanut tuotteen vai ei.\n",
    "\n",
    "Tee päätöspuu asetuksella max_depth=4, joka yrittää selittää ostamista muiden kenttien avulla. Testaa sitten mallia ja  tulosta `score` ja `confusion_matrix`.\n",
    "\n",
    "Joudut muuttamaan joitain kenttiä numeerisiksi.\n",
    "\n",
    "\n",
    "Tee päätöspuusta vuokaavio (dot-tiedosto), visualisoi se ja päättele manuaalisesti sen avulla miten puu luokittelisi seuraavat tiedot:\n",
    "* tulot 60000, naimisissa, nainen\n",
    "* tulot 30000, ei-naimisissa, mies\n"
   ]
  },
  {
   "cell_type": "markdown",
   "metadata": {},
   "source": [
    "## 3. Sienet\n",
    "Tiedostossa https://student.labranet.jamk.fi/~varpe/datananalk2019/kerta10/mushrooms.csv on tietoja sienistä (kenttien selitykset [englanniksi](https://student.labranet.jamk.fi/~varpe/datananalk2019/kerta10/mushrooms.txt)).\n",
    "\n",
    "Pyri ennustamaan kentän _class_ arvoa muiden kenttien avulla päätöspuulla. \n",
    "Kentät ovat luokkamuotoisia, tyyliin \n",
    ">gill-attachment: attached=a,descending=d,free=f,notched=n\n",
    "\n",
    "Tee siis ensin (selittävistä) kentistä dummy-kentät pandasin get_dummies-funktiolla, voit tehdä sen kerralla kaikille sarakkeille.\n",
    "\n",
    "Jaa data opetusdataan ja testidataan 60/40%. \n",
    "\n",
    "Kokeile päätöspuulle max_depth-arvoja 2, 3, 4 ja 5 ja printtaa niiden antamat scoret ja confusion_matrixit.\n",
    "\n"
   ]
  },
  {
   "cell_type": "markdown",
   "metadata": {},
   "source": [
    "## 4. Koripallo\n",
    "(sama aineisto kuin kerta9-tehtävä 4)\n",
    "\n",
    "Tiedostossa https://student.labranet.jamk.fi/~varpe/datananalk2019/kerta9/nba_logreg.csv on 1340 NBA-pelaajan tilastoja heidän tulokaskaudeltaan.\n",
    "\n",
    "[kenttien selitys (eng)](https://student.labranet.jamk.fi/~varpe/datananalk2019/kerta9/nba.png)\n",
    "\n",
    "Viimeinen sarake kertoo onko pelaaja sittemmin pelannut NBA:ssa yli 5 kautta. Kokeile kuinka hyvin päätöspuu pystyy ennustamaan tämän muiden kentttien (pl. pelaajan nimi) avulla. Korvaa tarvittaessa puuttuvat arvot ko. kentän mediaanilla.\n",
    "\n",
    "Jaa data opetusdataan ja testidataan 60/40%.\n",
    "\n",
    "\n",
    "Tulosta myös kuinka paljon eri kentät vaikuttavat mallin mukaan ennustettavaan muuttujaan."
   ]
  },
  {
   "cell_type": "markdown",
   "metadata": {},
   "source": [
    "## 5. Äänet\n",
    "Tiedostossa https://student.labranet.jamk.fi/~varpe/datananalk2019/kerta10/mushrooms.csv on mittaustietoja äänistä (kenttien selitykset [englanniksi](https://student.labranet.jamk.fi/~varpe/datananalk2019/kerta10/voice.txt)).\n",
    "\n",
    "Pyri ennustamaan kentän _label_ arvoa muiden kenttien avulla päätöspuulla. \n",
    "\n",
    "Jaa data opetusdataan ja testidataan 60/40%. \n",
    "\n",
    "Tulosta score ja kuinka paljon eri kentät vaikuttavat mallin mukaan ennustettavaan muuttujaan (importances).\n",
    "\n",
    "Valitse sitten kaksi tärkeintä selittävää muuttujaa ja tulosta näistä scatter-kaavio niin että male ja female -pisteet ovat eri värillä.\n",
    "\n"
   ]
  }
 ],
 "metadata": {
  "kernelspec": {
   "display_name": "Python 3",
   "language": "python",
   "name": "python3"
  },
  "language_info": {
   "codemirror_mode": {
    "name": "ipython",
    "version": 3
   },
   "file_extension": ".py",
   "mimetype": "text/x-python",
   "name": "python",
   "nbconvert_exporter": "python",
   "pygments_lexer": "ipython3",
   "version": "3.7.1"
  }
 },
 "nbformat": 4,
 "nbformat_minor": 2
}
