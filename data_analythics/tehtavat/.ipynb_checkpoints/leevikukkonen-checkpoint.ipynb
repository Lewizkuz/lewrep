{
 "cells": [
  {
   "cell_type": "markdown",
   "metadata": {},
   "source": [
    "# Kerran 1 Tehtävät"
   ]
  },
  {
   "cell_type": "markdown",
   "metadata": {},
   "source": [
    "### Leevi Kukkonen K8397"
   ]
  },
  {
   "cell_type": "markdown",
   "metadata": {},
   "source": [
    "## Tehtävä1"
   ]
  },
  {
   "cell_type": "code",
   "execution_count": null,
   "metadata": {},
   "outputs": [],
   "source": [
    "#T1A\n",
    "\n",
    "def Luvut (num1, num2):\n",
    "    if num1 > num2:\n",
    "        tmp = num1\n",
    "        num1 = num2\n",
    "        num2 = tmp\n",
    "    for i in range(num1, num2 + 1):\n",
    "        print(i)\n",
    "Luvut(1,8) #print: 12345678 omilla riveillä\n"
   ]
  },
  {
   "cell_type": "code",
   "execution_count": null,
   "metadata": {},
   "outputs": [],
   "source": [
    "#T1B\n",
    "def Poistup(sana):\n",
    "    sana = sana.lower()\n",
    "    tmp = []\n",
    "    for kirj in sana:\n",
    "        if kirj not in tmp:\n",
    "            tmp.append(kirj)\n",
    "    return ''.join(tmp)\n",
    "print Poistup(\"AnaNasakäämä\") # anskäm\n",
    "print Poistup(\"Saippuakauppias\") # saipuk\n",
    "print Poistup(\"Floridalainen broileri\")# floridane b\n"
   ]
  },
  {
   "cell_type": "markdown",
   "metadata": {},
   "source": [
    "## Tehtävä2"
   ]
  },
  {
   "cell_type": "code",
   "execution_count": 1,
   "metadata": {},
   "outputs": [
    {
     "name": "stdout",
     "output_type": "stream",
     "text": [
      "481981\n"
     ]
    }
   ],
   "source": [
    "#T2\n",
    "import random\n",
    "def Nosixinfour(throwcount):\n",
    "    s = 0\n",
    "    tmp = []\n",
    "    for i in range(throwcount):\n",
    "        del tmp[:]\n",
    "        for j in range(4):\n",
    "            tmp.append(Nopanheitto())\n",
    "        if 6 not in tmp:\n",
    "            s = s + 1\n",
    "    return s\n",
    "\n",
    "def Nopanheitto():\n",
    "    return random.randint(1,6)\n",
    "nosix = 0\n",
    "print(Nosixinfour(1000000)) "
   ]
  },
  {
   "cell_type": "markdown",
   "metadata": {},
   "source": [
    "## Tehtävä 3"
   ]
  },
  {
   "cell_type": "code",
   "execution_count": 2,
   "metadata": {},
   "outputs": [
    {
     "name": "stdout",
     "output_type": "stream",
     "text": [
      "(-3, -4, 5)\n",
      "(-2, -3, 6)\n",
      "(-5, -6, 3)\n",
      "0.0\n",
      "true\n"
     ]
    }
   ],
   "source": [
    "#T3\n",
    "import math\n",
    "class Piste:\n",
    "    def __init__(self,x,y,z):\n",
    "        self.x = x\n",
    "        self.y = y\n",
    "        self.z = z\n",
    "    def tulostaPiste(self):\n",
    "        print('(' + str(self.x) + ', ' + str(self.y) + ', ' + str(self.z) + ')')\n",
    "    def lisaa(self, piste):\n",
    "        self.x = self.x + piste.x\n",
    "        self.y = self.y + piste.y\n",
    "        self.z = self.z + piste.z\n",
    "    def vahenna(self, piste):\n",
    "        self.x = self.x - piste.x\n",
    "        self.y = self.y - piste.y\n",
    "        self.z = self.z - piste.z\n",
    "    def etaisyysOrigosta(self):\n",
    "        return math.sqrt(self.x^2+self.y^2+self.z^2)\n",
    "    def kauempana(self, toinen):\n",
    "        if self.etaisyysOrigosta() < toinen.etaisyysOrigosta():\n",
    "            return 'true'\n",
    "        else: return 'false'\n",
    "    \n",
    "p1 = Piste(-3,-4,5)\n",
    "p1.tulostaPiste() # (-3,-4,5)\n",
    "\n",
    "p2 = Piste(1,1,1)\n",
    "p1.lisaa(p2)\n",
    "p1.tulostaPiste() # (-2,-3,6)\n",
    "\n",
    "p1.vahenna(Piste(3,3,3))\n",
    "p1.tulostaPiste() # (-5,-6,3)\n",
    "\n",
    "print(p1.etaisyysOrigosta())# 8.366600265340756\n",
    "\n",
    "print(p1.kauempana(p2))# True\n"
   ]
  }
 ],
 "metadata": {
  "kernelspec": {
   "display_name": "Python 3",
   "language": "python",
   "name": "python3"
  },
  "language_info": {
   "codemirror_mode": {
    "name": "ipython",
    "version": 3
   },
   "file_extension": ".py",
   "mimetype": "text/x-python",
   "name": "python",
   "nbconvert_exporter": "python",
   "pygments_lexer": "ipython3",
   "version": "3.7.1"
  }
 },
 "nbformat": 4,
 "nbformat_minor": 2
}
