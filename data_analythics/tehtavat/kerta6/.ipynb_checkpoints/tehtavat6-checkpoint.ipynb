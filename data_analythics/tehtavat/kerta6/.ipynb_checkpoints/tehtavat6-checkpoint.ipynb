{
 "cells": [
  {
   "cell_type": "markdown",
   "metadata": {},
   "source": [
    "# Datan analysointi K2019 - Tehtävät kerta 6\n",
    "\n",
    "Palauta Optiman palautuslaatikkoon viimeistään to 21.2. Kirjoita palautuslaatikon kommenttikenttään, mitkä tehtävät olet tehnyt kokonaan/osittain.\n",
    "\n",
    "**Opiskelijan nimi:**\n"
   ]
  },
  {
   "cell_type": "markdown",
   "metadata": {},
   "source": [
    "## 1. Kokeilu \n",
    "Tee kokeilemalla tms. vähintään 10 rivin DataFrame, jossa kahden sarakkeen välinen korrelaatiokerroin on välillä  \n",
    "a) 0,7 - 0,85  \n",
    "b) -0,7 - -0,5  \n",
    "c) 0,05 - 0,02  \n",
    "\n",
    "Havainnollista nämä hajontakaaviolla."
   ]
  },
  {
   "cell_type": "markdown",
   "metadata": {},
   "source": [
    "## 2. Kysely\n",
    "Tiedostossa http://student.labranet.jamk.fi/~varpe/datananalk2019/kerta6/kysely.txt on (kuvitteellisen) tavarantoimittajan yritysasiakkailtaan keräämiä käsityksiä eri asioista asteikolla 0-10:  0=huono, 10=erinomainen.\n",
    "(datassa desimaalierotin on pilkku ja kenttäerotin puolipiste)\n",
    "\n",
    "Tutki korrelaatiokertoiminen avulla mitkä tekijät ovat kyselyn perusteella voimakkaimmin yhteydessä yleiseen tyytyväisyyteen.\n"
   ]
  },
  {
   "cell_type": "markdown",
   "metadata": {},
   "source": [
    "## 3. Poikkeavat arvot\n",
    "Tiedostossa http://student.labranet.jamk.fi/~varpe/datananalk2019/kerta6/poikkeavat.txt on x ja y:n arvoja.\n",
    "\n",
    "Tee näistä hajontakaavio ja laske Personin ja Spearmanin korrelaatiokertoimet.\n",
    "\n",
    "Havainnoi hajontakaaviosta selvästi muista poikkeavat arvot ja etsi ja poista ne DataFramesta.\n",
    "\n",
    "Tee sitten hajontakaavio uudestaan ja laske korrelaatiokertoimet."
   ]
  },
  {
   "cell_type": "markdown",
   "metadata": {},
   "source": [
    "## 4. Pörssikurssit\n",
    "Kansiossa http://student.labranet.jamk.fi/~varpe/datananalk2019/kerta6/ on tiedostot telia2018.csv, elisa2018.csv ja dna2018.csv.  Näissä on tietoja yhtiöiden pörssikursseista vuodelta 2018.  \n",
    "\n",
    "Käyttäen DataFramen [pct_change](http://pandas.pydata.org/pandas-docs/version/0.24/reference/api/pandas.DataFrame.pct_change.html#pandas.DataFrame.pct_change)-metodia laske jokaiselle pörssikurssin muutosprosentti edellisestä pörssipäivästä (edelliseltä riviltä) käyttäen Closing price-kenttää.\n",
    "\n",
    "Tutki sitten korreloivatko nämä muutosprosentit keskenään piirtämällä hajontakaaviot ja laskemalla korrelaatiokertoimet."
   ]
  },
  {
   "cell_type": "markdown",
   "metadata": {},
   "source": [
    "## 5.  Valtiotilastoja\n",
    "\n",
    "Tiedostoissa  \n",
    "http://student.labranet.jamk.fi/~varpe/datananalk2019/kerta6/gdp.txt  \n",
    "ja  \n",
    "http://student.labranet.jamk.fi/~varpe/datananalk2019/kerta6/life.txt   \n",
    "on valtioittain bruttokansantuotteita (GDP) ja elinikäodotuksia vuodesta 1960.\n",
    "\n",
    "Laske joka vuodelle näiden korrelaatiot ja piirrä kuvaaja korrelaatioista vuosittain.\n",
    "\n",
    "Huomioi että valtiot ovat tiedostoissa osin eri järjestyksissä, joten tietoja ei voi yhdistää \"rivinumeroiden\" mukaan.\n",
    "\n",
    "Malli:  \n",
    "![malli](http://student.labranet.jamk.fi/~varpe/datananalk2019/kerta6/countries.png)"
   ]
  }
 ],
 "metadata": {
  "kernelspec": {
   "display_name": "Python 3",
   "language": "python",
   "name": "python3"
  },
  "language_info": {
   "codemirror_mode": {
    "name": "ipython",
    "version": 3
   },
   "file_extension": ".py",
   "mimetype": "text/x-python",
   "name": "python",
   "nbconvert_exporter": "python",
   "pygments_lexer": "ipython3",
   "version": "3.7.1"
  }
 },
 "nbformat": 4,
 "nbformat_minor": 2
}
