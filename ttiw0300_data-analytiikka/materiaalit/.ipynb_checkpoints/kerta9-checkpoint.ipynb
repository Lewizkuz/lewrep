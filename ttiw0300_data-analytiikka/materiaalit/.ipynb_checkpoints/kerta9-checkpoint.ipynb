{
 "cells": [
  {
   "cell_type": "markdown",
   "metadata": {},
   "source": [
    "# Datan analysointi K2019 - kerta 9\n",
    "\n",
    "## Logistinen regressio\n",
    "Lineaarisessa regressiossa ennustetaan määrällisen muuttujan arvoa selittävien muuttujien avulla. Logistista regressiota käytetään jos ennustettavana on **kaksiarvoinen muuttuja**: ostaa tai ei osta, tulee maksuhäiriöitä tai ei tule, sairastuu tai ei sairastu. Selitettävä muuttuja koodataan yleensä arvoihin 1 ja 0.\n",
    "\n",
    "Logistinen regressioanalyysi ei pyri ennustamaan määriä, vaan **todennäköisyyksiä**. Kyse on siis siitä, millä todennäköisyydellä tarkasteltavana oleva asia tapahtuu tai pätee. Tulokset kertovat, vaikuttavatko selittävät muuttujat tapahtuman todennäköisyyteen ja kuinka suuri vaikutus on.\n",
    "\n",
    "### Esimerkki:\n",
    "_Lomaosakkeita myyvä yritys tarjoaa edullisen viikonlopun kylpylässä lomaosakkeen esittelyyn osallistuville. Tarjous kannattaa kohdistaa henkilöille, joiden todennäköisyys lomaosakkeen ostoon on tavanomaista suurempi. Aiempien esittelyiden ja toteutuneiden kauppojen perusteella voidaan laatia malli, jolla lasketaan taustatietojen perusteella henkilön todennäköisyys lomaosakkeen ostoon._\n",
    "\n",
    "\n",
    "Matemaattisesti logistista regressiomallia kuvaa funktio:  \n",
    "\n",
    "![kaava1](https://student.labranet.jamk.fi/~varpe/datananalk2019/kerta9/kaava1.png)\n",
    "\n",
    "joka antaa siis todennäköisyyden, että selittävien muuttujien arvoilla x<sub>1</sub>, x<sub>2</sub>,... saadaan selitettävälle muuttujalle arvo 1 (esim \"ostaa\")\n",
    "\n",
    "Kaavassa on lineaarisesta regressiosta tuttu osa \n",
    "![kaava2](https://student.labranet.jamk.fi/~varpe/datananalk2019/kerta9/kaava2.png)\n",
    "eli selittävistä muuttujista tehdään lineaarien malli. Tämän lineaarisen mallin antama arvo muutetaan **logistisella funktiolla** todennäköisyydeksi välille 0-1\n",
    "![logistinen funktio](https://wikimedia.org/api/rest_v1/media/math/render/svg/b9db8cd0955e7898d6556581941581e3c7522f51)\n",
    "\n",
    "Mallin sovitus siis hakee parametrit b<sub>0</sub>, b<sub>1</sub>, b<sub>2</sub>... siten, että syntynyt malli ennustaa selitettävän muuttujan arvoja parhaalla mahdollisella tavalla.\n",
    "\n",
    "Mallin parametrit määritetään **maximum likelihood** eli suurimman uskottavuuden -menetelmällä, jonka perusidea on:\n",
    "* Parametreille annetaan arvauksena alkuarvot.\n",
    "* Lasketaan todennäköisyys sille, että havaittu data saataisiin näillä parametrien arvoilla.\n",
    "* Korjataan parametreja siten että päästään parempaan tulokseen.\n",
    "* Korjauksia tehdään, kunnes päästään parhaaseen mahdolliseen tulokseen. Paras mahdollinen tulos on se, johon liittyy suurin mahdollinen todennäköisyys sille, että havaittu data saataisiin valituilla parametrien arvoilla.\n",
    "\n",
    "scikit-learn (sklearn) -kirjasto tekee toki tämän automaattisesti.\n",
    "\n",
    "Malli antaa siis todennäköisyyden sille, että annetut alkuarvot antavat 1:n selitettävän muuttujan arvoksi. Toisaalta malli ennustaa ykköset niille lähtöarvoille, joille todennäköisyys on >0,5 ja nollat niille, joilla todennäköisyydeksi tulee alle 0,5.\n",
    "\n",
    "\n",
    "Aloitetaan mallinnus lataamalla datasetti ja tutkimalla sitä. Tässä (kuvitteellisessa) aineistossa on henkilön vuositulot, ikä ja tieto siitä onko hän ostanut tuotteen vai ei (0/1)."
   ]
  },
  {
   "cell_type": "code",
   "execution_count": 2,
   "metadata": {},
   "outputs": [
    {
     "name": "stdout",
     "output_type": "stream",
     "text": [
      "    tulot  ikä  ostaa\n",
      "9   41706   36      0\n",
      "58  89904   40      0\n",
      "31  97548   45      1\n",
      "41  96864   59      1\n",
      "0   17475   32      0\n",
      "38  60778   62      1\n",
      "53  34430   36      0\n",
      "18  39782   63      1\n",
      "43  82426   46      1\n",
      "30  41729   40      0\n",
      "\n",
      " tsekataan ykkösten ja nollien määrä ostaa-sarakkeesta:\n",
      "\n",
      "0    39\n",
      "1    21\n",
      "Name: ostaa, dtype: int64\n"
     ]
    }
   ],
   "source": [
    "import pandas as pd\n",
    "\n",
    "df = pd.read_csv('https://student.labranet.jamk.fi/~varpe/datananalk2019/kerta9/esim1.txt')\n",
    "\n",
    "print(df.sample(10))  # antaa 10 satunnaista riviä  \n",
    "\n",
    "print('\\n tsekataan ykkösten ja nollien määrä ostaa-sarakkeesta:\\n')\n",
    "\n",
    "print(df['ostaa'].value_counts())"
   ]
  },
  {
   "cell_type": "markdown",
   "metadata": {},
   "source": [
    "Yritetään tulojen ja iän perusteella ennustaa ostamista. Aineisto on sen verran pieni, että ei jaeta sitä opetus- ja testidataan vaan sovitetaan mallia koko datalle. \n",
    "Mallin luonti ja sovitus menee samalla tavalla kuin lineaarisessa regressiossa."
   ]
  },
  {
   "cell_type": "code",
   "execution_count": 13,
   "metadata": {},
   "outputs": [
    {
     "name": "stdout",
     "output_type": "stream",
     "text": [
      "LogisticRegression(C=1.0, class_weight=None, dual=False, fit_intercept=True,\n",
      "          intercept_scaling=1, max_iter=100, multi_class='warn',\n",
      "          n_jobs=None, penalty='l2', random_state=None, solver='warn',\n",
      "          tol=0.0001, verbose=0, warm_start=False)\n"
     ]
    },
    {
     "name": "stderr",
     "output_type": "stream",
     "text": [
      "C:\\Users\\Pekka\\Anaconda3\\lib\\site-packages\\sklearn\\linear_model\\logistic.py:432: FutureWarning: Default solver will be changed to 'lbfgs' in 0.22. Specify a solver to silence this warning.\n",
      "  FutureWarning)\n"
     ]
    }
   ],
   "source": [
    "from sklearn.linear_model import LogisticRegression\n",
    "\n",
    "\n",
    "x = df[['tulot','ikä']]\n",
    "y = df['ostaa']\n",
    "\n",
    "malli = LogisticRegression()\n",
    "malli.fit(x,y)\n",
    "print(malli)"
   ]
  },
  {
   "cell_type": "markdown",
   "metadata": {},
   "source": [
    "Nähdään, että mallissa on paljon parametreja, niihin voi perehtyä scikit-learnin [speksissä](https://scikit-learn.org/stable/modules/generated/sklearn.linear_model.LogisticRegression.html). Tässä voidaan mennä oletusasetuksilla.\n",
    "\n",
    "Mitä malli sitten tekee? Siitä saa ulos kahdenlaisia ennusteita, voidaan ennustaa tuleeko tietyillä alkuarvoilla 0 vai 1. "
   ]
  },
  {
   "cell_type": "code",
   "execution_count": 4,
   "metadata": {},
   "outputs": [
    {
     "name": "stdout",
     "output_type": "stream",
     "text": [
      "[0]\n",
      "[0 0 0 0 0 1 0 0 0 0 0 0 1 0 0 0 1 0 0 1 0 0 0 0 1 0 0 1 1 0 0 1 0 1 0 0 0\n",
      " 1 1 0 1 1 0 1 1 1 0 0 0 0 1 0 0 0 0 0 0 0 1 0]\n"
     ]
    }
   ],
   "source": [
    "print(malli.predict([[50000,45]])) # tulot 50000, ikä 45\n",
    "print(malli.predict(x)) # ennusteet kaikille riveille"
   ]
  },
  {
   "cell_type": "markdown",
   "metadata": {},
   "source": [
    "`predict` antaa yksinkertaisesti ykkösen jos mallin antama todennäköisyys on yli 0,5, muuten nollan.  \n",
    "`predict_proba` antaa tarkemmat todennäköisyydet, ensin nollan todennäköisyys, sitten ykkösen:"
   ]
  },
  {
   "cell_type": "code",
   "execution_count": 5,
   "metadata": {},
   "outputs": [
    {
     "name": "stdout",
     "output_type": "stream",
     "text": [
      "[[ 0.65140346  0.34859654]]\n",
      "[[ 0.85777045  0.14222955]\n",
      " [ 0.63753326  0.36246674]\n",
      " [ 0.79823181  0.20176819]\n",
      " [ 0.65507518  0.34492482]\n",
      " [ 0.67345337  0.32654663]\n",
      " [ 0.39638691  0.60361309]\n",
      " [ 0.8882776   0.1117224 ]\n",
      " [ 0.63963744  0.36036256]\n",
      " [ 0.82735527  0.17264473]\n",
      " [ 0.74758218  0.25241782]\n",
      " [ 0.69868354  0.30131646]\n",
      " [ 0.59035944  0.40964056]\n",
      " [ 0.43353126  0.56646874]\n",
      " [ 0.81135591  0.18864409]\n",
      " [ 0.65263733  0.34736267]\n",
      " [ 0.6966153   0.3033847 ]\n",
      " [ 0.32659405  0.67340595]\n",
      " [ 0.51230482  0.48769518]\n",
      " [ 0.59023081  0.40976919]\n",
      " [ 0.46870953  0.53129047]\n",
      " [ 0.68739633  0.31260367]\n",
      " [ 0.78721402  0.21278598]\n",
      " [ 0.72646613  0.27353387]\n",
      " [ 0.5260647   0.4739353 ]\n",
      " [ 0.35427021  0.64572979]\n",
      " [ 0.56390268  0.43609732]\n",
      " [ 0.79665115  0.20334885]\n",
      " [ 0.30352556  0.69647444]\n",
      " [ 0.37390235  0.62609765]\n",
      " [ 0.5032527   0.4967473 ]\n",
      " [ 0.72539331  0.27460669]\n",
      " [ 0.36658587  0.63341413]\n",
      " [ 0.79110565  0.20889435]\n",
      " [ 0.37888678  0.62111322]\n",
      " [ 0.76796762  0.23203238]\n",
      " [ 0.71586034  0.28413966]\n",
      " [ 0.62969223  0.37030777]\n",
      " [ 0.45875006  0.54124994]\n",
      " [ 0.46899025  0.53100975]\n",
      " [ 0.51870129  0.48129871]\n",
      " [ 0.41701885  0.58298115]\n",
      " [ 0.28325121  0.71674879]\n",
      " [ 0.84376238  0.15623762]\n",
      " [ 0.44952907  0.55047093]\n",
      " [ 0.34001084  0.65998916]\n",
      " [ 0.31890388  0.68109612]\n",
      " [ 0.66675673  0.33324327]\n",
      " [ 0.68384313  0.31615687]\n",
      " [ 0.52398224  0.47601776]\n",
      " [ 0.75575686  0.24424314]\n",
      " [ 0.36382803  0.63617197]\n",
      " [ 0.81008145  0.18991855]\n",
      " [ 0.61454998  0.38545002]\n",
      " [ 0.77990609  0.22009391]\n",
      " [ 0.61739331  0.38260669]\n",
      " [ 0.60630226  0.39369774]\n",
      " [ 0.67482472  0.32517528]\n",
      " [ 0.54173423  0.45826577]\n",
      " [ 0.4461626   0.5538374 ]\n",
      " [ 0.63289548  0.36710452]]\n"
     ]
    }
   ],
   "source": [
    "print(malli.predict_proba([[50000,45]])) # tulot 50000, ikä 45\n",
    "print(malli.predict_proba(x)) # ennusteet kaikille riveille"
   ]
  },
  {
   "cell_type": "markdown",
   "metadata": {},
   "source": [
    "Mallin osumista voidaan testata `score`-metodilla, joka kertoo yksinkertaisesti kuinka iso osa ennusteista menee oikein:"
   ]
  },
  {
   "cell_type": "code",
   "execution_count": 7,
   "metadata": {},
   "outputs": [
    {
     "name": "stdout",
     "output_type": "stream",
     "text": [
      "0.883333333333\n"
     ]
    }
   ],
   "source": [
    "print(malli.score(x, y))"
   ]
  },
  {
   "cell_type": "markdown",
   "metadata": {},
   "source": [
    "`confusion_matrix` kertoo väärin/oikein menneet tarkemmin:"
   ]
  },
  {
   "cell_type": "code",
   "execution_count": 14,
   "metadata": {},
   "outputs": [
    {
     "name": "stdout",
     "output_type": "stream",
     "text": [
      "[[37  2]\n",
      " [ 5 16]]\n"
     ]
    }
   ],
   "source": [
    "from sklearn.metrics import confusion_matrix\n",
    "\n",
    "y_pred = malli.predict(x) # ennusteet kaikille lähtöarvoille\n",
    "print(confusion_matrix(y, y_pred)) # verrataan totetutuneita arvoja ennusteisin"
   ]
  },
  {
   "cell_type": "markdown",
   "metadata": {},
   "source": [
    "Tässä 1. rivi kertoo mitä ennustettiin niille, joilla toteutuma oli nolla: 37 nollaa ja 2 ykköstä.  2. rivi kertoo miten kävi ykkösille: ennuste antoi 5 nollaa ja 16 ykköstä.\n",
    "\n",
    "Siis oikein meni 37+16=53 ja väärin 2+5=7 ennustetta. Oikein menneet ovat \"kofuusiomatriisin\" päälävistäjällä\n",
    "\n",
    "![oikeat](https://student.labranet.jamk.fi/~varpe/datananalk2019/kerta9/oikeat.png)\n"
   ]
  },
  {
   "cell_type": "markdown",
   "metadata": {},
   "source": [
    "Mallin antamat lineaarisen osan kulmakertoimet b<sub>1</sub>, b<sub>2</sub> ja vakiotermi b<sub>0</sub> saadaan mallista ulos, mutta niiden tulkinta ei ole yhtä suoraviivaista kuin lineaarisessa regressiossa."
   ]
  },
  {
   "cell_type": "code",
   "execution_count": 5,
   "metadata": {},
   "outputs": [
    {
     "name": "stdout",
     "output_type": "stream",
     "text": [
      "[[  2.46509980e-05   2.84543500e-02]]\n",
      "[-3.13820965]\n"
     ]
    }
   ],
   "source": [
    "print(malli.coef_)\n",
    "print(malli.intercept_)"
   ]
  },
  {
   "cell_type": "markdown",
   "metadata": {},
   "source": []
  },
  {
   "cell_type": "markdown",
   "metadata": {},
   "source": [
    "Nyt kun selittäviä muuttujia oli vain kaksi, voidaan jakaumaa havainnollistaa tasolla: piirretään eri värillä ykkösen antamat pisteet ja toisella nollan antamat pisteet:\n"
   ]
  },
  {
   "cell_type": "code",
   "execution_count": 141,
   "metadata": {},
   "outputs": [
    {
     "data": {
      "image/png": "[encoded data removed]",
      "text/plain": [
       "<Figure size 432x288 with 1 Axes>"
      ]
     },
     "metadata": {},
     "output_type": "display_data"
    }
   ],
   "source": [
    "import matplotlib.pyplot as plt\n",
    "\n",
    "tod_ostajat = df[df['ostaa']==1]  # jaetaan aineisto ostaneisiin ja ei-ostaneisiin\n",
    "tod_muut = df[df['ostaa']==0]\n",
    "\n",
    "ax1 = tod_ostajat.plot.scatter('tulot', 'ikä', color='b', label='joo')\n",
    "tod_muut.plot.scatter('tulot', 'ikä', ax=ax1, color='r', label='ei')\n",
    "\n",
    "plt.show()"
   ]
  },
  {
   "cell_type": "markdown",
   "metadata": {},
   "source": [
    "Vastaava kaavio voidaan tehdä ennusteista, jotka oli aiemmin tallennettu y_pred-muuttujaan:"
   ]
  },
  {
   "cell_type": "code",
   "execution_count": 142,
   "metadata": {
    "scrolled": true
   },
   "outputs": [
    {
     "data": {
      "image/png": "[encoded data removed]",
      "text/plain": [
       "<Figure size 432x288 with 1 Axes>"
      ]
     },
     "metadata": {},
     "output_type": "display_data"
    }
   ],
   "source": [
    "\n",
    "mall_ostajat = df[y_pred==1]  \n",
    "mall_muut = df[y_pred==0]\n",
    "\n",
    "ax1 = mall_ostajat.plot.scatter('tulot', 'ikä', color='b', label='joo')\n",
    "mall_muut.plot.scatter('tulot', 'ikä', ax=ax1, color='r', label='ei')\n",
    "\n",
    "plt.show()\n"
   ]
  },
  {
   "cell_type": "markdown",
   "metadata": {},
   "source": [
    "Ennuste siis jakaa (kahden selittävän muuttuja tapauksessa) tason kahteen osaan sopivalla suoralla:\n",
    "\n",
    "![ennuste](https://student.labranet.jamk.fi/~varpe/datananalk2019/kerta9/ennuste.png)\n",
    "\n",
    "Väärin menneet voidaan poimia myös ainestosta:"
   ]
  },
  {
   "cell_type": "code",
   "execution_count": 147,
   "metadata": {},
   "outputs": [
    {
     "data": {
      "image/png": "[encoded data removed]",
      "text/plain": [
       "<Figure size 432x288 with 1 Axes>"
      ]
     },
     "metadata": {},
     "output_type": "display_data"
    }
   ],
   "source": [
    "ykk_nollina = df[(y==1) & (y_pred==0)]\n",
    "noll_ykk = df[(y==0) & (y_pred==1)]\n",
    "\n",
    "\n",
    "ax1 = ykk_nollina.plot.scatter('tulot', 'ikä', color='b', label='1->0')\n",
    "noll_ykk .plot.scatter('tulot', 'ikä', ax=ax1, color='r', label='0->1')\n",
    "\n",
    "plt.show()\n"
   ]
  },
  {
   "cell_type": "markdown",
   "metadata": {},
   "source": [
    "Scatter-kaavion voi tehdä myös niin, että pisteen koko kuvaa mallin antamaa ykkösen todennäköisyyttä:"
   ]
  },
  {
   "cell_type": "code",
   "execution_count": 172,
   "metadata": {},
   "outputs": [
    {
     "data": {
      "image/png": "[encoded data removed]",
      "text/plain": [
       "<Figure size 576x396 with 1 Axes>"
      ]
     },
     "metadata": {},
     "output_type": "display_data"
    }
   ],
   "source": [
    "koot = pd.DataFrame(malli.predict_proba(x))\n",
    "\n",
    "\n",
    "plt.scatter(df['tulot'], df['ikä'], s=koot[1]*200)\n",
    "plt.show()"
   ]
  },
  {
   "cell_type": "markdown",
   "metadata": {},
   "source": [
    "Yleensä selittäviä muuttujia on ennemmän kuin kaksi, jolloin vastaavia visualisointeja ei voi tehdä."
   ]
  },
  {
   "cell_type": "markdown",
   "metadata": {},
   "source": [
    "### Jako opetus- ja testidataan\n",
    "Myös logistisessa regressiomallissa jaetaan isompi datasetti yleensä opetus- ja testidataan, ja testataan opetusdatalla sovitettua mallia testidataan (jota ei siis ole käytetty mallin kertoimien määrityksessä).\n",
    "\n",
    "Jako tapahtuu helpoiten scikit-learnin `model_selection.train_test_split` -luokkalla.  Tässä esimerkissä aineisto on sen verran pieni että tulos (score) vaihtelee satunnaisesti kun arvotaan uusia \"jakoja\"."
   ]
  },
  {
   "cell_type": "code",
   "execution_count": 30,
   "metadata": {},
   "outputs": [
    {
     "name": "stdout",
     "output_type": "stream",
     "text": [
      "(42, 2)\n",
      "(18, 2)\n",
      "\n",
      "oikeiden osuus: 0.944444444444\n",
      "[[12  0]\n",
      " [ 1  5]]\n"
     ]
    },
    {
     "name": "stderr",
     "output_type": "stream",
     "text": [
      "C:\\Users\\Pekka\\Anaconda3\\lib\\site-packages\\sklearn\\linear_model\\logistic.py:432: FutureWarning: Default solver will be changed to 'lbfgs' in 0.22. Specify a solver to silence this warning.\n",
      "  FutureWarning)\n"
     ]
    }
   ],
   "source": [
    "from sklearn.model_selection import train_test_split \n",
    "\n",
    "xTrain, xTest, yTrain, yTest = train_test_split(x, y, test_size = 0.3)\n",
    "\n",
    "print(xTrain.shape)\n",
    "print(xTest.shape)\n",
    "\n",
    "malli2 = LogisticRegression()\n",
    "\n",
    "# tehdään malli opetusdatalla\n",
    "malli2.fit(xTrain,yTrain)\n",
    "\n",
    "# testataan testidatalla\n",
    "print('\\noikeiden osuus:',malli2.score(xTest,yTest)) \n",
    "\n",
    "y_pred = malli2.predict(xTest) # ennusteet kaikille lähtöarvoille\n",
    "print(confusion_matrix(yTest, y_pred)) # verrataan totetutuneita arvoja ennusteisin"
   ]
  },
  {
   "cell_type": "markdown",
   "metadata": {},
   "source": [
    "### Kentät numeerisiksi\n",
    "Myöskään logistista regressiomallia ei voi sovittaa tekstimuotoisiin kenttiin vaan ne on ensin muokattava numeerisiksi (kts kerta8).\n",
    "\n",
    "Myöskään puuttuvia arvoja ei voi olla, usein ne korvataan kentän mediaanilla, keskiarvolla tai moodilla (jos kategorinen muuttuuja)."
   ]
  },
  {
   "cell_type": "markdown",
   "metadata": {},
   "source": [
    "### Selittävien muuttujien valinta\n",
    "Selittäviä muuttujia ei pidä ottaa logistiseen regressiomalliin enempää kuin on tarpeellista. Paras tilanne on, jos tiedän mukaan otettavat selittävät muuttujat aiempien aineistojen tai teorian kautta. Jos aiempaa tietoa tai teoriaa ei ole, niin voin käyttää apuna askeltavaa (Stepwise) menetelmää.\n",
    "\n",
    "**Forward**-menetelmässä aloitetaan mallista, joka sisältää pelkästään vakiotermin. Malliin lisätään selittäviä muuttujia yksi kerrallaan. Lisättävä muuttuja on se, joka lisää eniten mallin selitysvoimaa. Uuden muuttujan lisäämisen jälkeen tarkistetaan, pitäisikö jokin malliin jo lisätyistä muuttujista poistaa.\n",
    "\n",
    "**Backward**-menetelmässä otetaan ensimmäiseen malliin mukaan kaikki ehdokkaat. Tämän jälkeen selittäviä muuttujia poistetaan mallista yksi kerrallaan. Jos muuttujan poistaminen ei muuta merkitsevästi mallin selitysvoimaa, niin muuttuja poistetaan mallista. Muuttujien poistaminen lopetetaan, kun minkä tahansa muuttujan poistaminen heikentää merkittävästi mallin selitysvoimaa.\n",
    "\n",
    "Näitä menetelmiä ei tutkita tällä kurssilla tarkemmin."
   ]
  }
 ],
 "metadata": {
  "kernelspec": {
   "display_name": "Python 3",
   "language": "python",
   "name": "python3"
  },
  "language_info": {
   "codemirror_mode": {
    "name": "ipython",
    "version": 3
   },
   "file_extension": ".py",
   "mimetype": "text/x-python",
   "name": "python",
   "nbconvert_exporter": "python",
   "pygments_lexer": "ipython3",
   "version": "3.7.1"
  }
 },
 "nbformat": 4,
 "nbformat_minor": 2
}
