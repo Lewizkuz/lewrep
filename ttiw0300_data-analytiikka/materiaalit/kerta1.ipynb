{
 "cells": [
  {
   "cell_type": "markdown",
   "metadata": {},
   "source": [
    "# Datan analysointi K2019 - kerta 1\n",
    "\n",
    "## Data-analytiikka\n",
    "\n",
    ">Data-analytiikka kattaa erityyppisiä menetelmiä ja lähestymistapoja, joita yhdistää pyrkimys muodostaa eri tavoin kerätystä tiedosta (data) kiinnostavaa korkeamman tason informaatiota ja malleja, jotka puolestaan mahdollistavat erilaisten hyödyllisten johtopäätösten tekemisen.\n",
    "\n",
    "**Vaiheita datan analysoinnnissa**\n",
    "* Valmistelu\n",
    " * suunnitelu\n",
    " * datan kerääminen\n",
    "* datan esikäsittely \n",
    " * puhdistus, suodatus, täydentäminen, korjaus\n",
    "   * poikkeavat arvot eli _outliers_\n",
    "   * puuttuvat arvot\n",
    "* datan kuvailu\n",
    " * graafiset esitykset, visualisointi\n",
    " * frekvenssitaulukot\n",
    " * tiivistäminen tunnuslukujen avulla (keskiarvo yms)\n",
    " * riippuvuuksien tarkastelu (korrelaatiot yms)\n",
    " * klusterointi\n",
    "* tilastollinen merkitsevyys\n",
    " * millä todennäköisyydellä otokset havainnot toistuvat perusjoukossa\n",
    "* ennakoiva analytiikka ja koneoppiminen\n",
    "\n",
    " \n",
    " \n",
    "    \n",
    " \n",
    "\n",
    "## Python\n",
    "Eniten käytetyt ohjelmointikielet datan analysoinnissa ovat **Python** ja **R**.\n",
    "\n",
    "**Pythonin** hyvinä puolina pidetään:\n",
    "* yksinkertainen ja helppolukuinen syntaksi\n",
    "* kattavat tietorakenteet\n",
    "* paljon laajennuskirjastoja (mm. koneoppimiseen)\n",
    "* monikäyttöinen\n",
    "* nopea tehdä \"prototyyppejä\"\n",
    "\n",
    "## Jupyter notebook\n",
    "Kurssilla käytetään ympäristönä Anacondaa, joka sisältää mm.\n",
    "\n",
    "* Python-tulkin\n",
    "* data-analysointiin tarvittavat ohjelmakirjastot (Numpy, Pandas, jne.)\n",
    "* Jupyter notebookin ohjelmien kirjoittamiseen ja suorittamiseen.\n",
    "\n",
    "Anacondan voi asentaa Windowsille, Macille ja Linuxille osoitteesta\n",
    "\n",
    "https://www.anaconda.com/download/\n",
    "\n",
    "Anacondan voi asentaa oletusasetuksilla. Anacondan sovellus on nimeltään **Anaconda Navigator**.   \n",
    "\n",
    "Environments-osiossa voi turvallisesti päivittää ohjelmakirjastoja uusimpiin versiohin siten, että kirjastojen sidonnaisuudet toisiinsa toimivat.\n",
    "\n",
    "Itse ohjelmien kirjoittamiseen ja ajamiseen käytetään **Jupyter Notebookia**. Se löytyy Anaconda Navigatorista, mutta sille voi tehdä myös oman käynnistyskuvakkeen esim. työpöydälle.\n",
    "\n",
    "Jupyter käynnistyy selaimeen ja aloitusnäkymässä on tiedostorakenne niin, että juurihakemistona on Jupyterin oletuskansio, Win10-koneilla yleensä C:/Users/’käyttäjänimi’/.\n",
    "\n",
    "Uuden tyhjän notebookin voi luoda Jupyterin etusivun oikean yläreunan New – Python 3 -toiminnolla. Uusi notebook avautuu uudelle välilehdelle.\n",
    "\n",
    "![uusi notebook](http://student.labranet.jamk.fi/~varpe/datananalk2019/kerta1/newnotebook.png)\n",
    "\n",
    "Notebookissa sisältö on soluissa (cell). Oletuksena solut ovat Code-tyyppisiä, eli niihin kirjoitetaan ajettavaa Python-koodia, mutta solun voi \n",
    "vaihtaa myös Markdown-tyyppiseksi, jolloin niihin saa muotoiltua tekstiä käyttäen GitHubin Markdown-syntaksia: [ohje](https://guides.github.com/features/mastering-markdown/) \n",
    "\n",
    "Code-tyyppisen solun koodin voi suorittaa:\n",
    "* Cell-valikon kautta\n",
    "* työkalurivin painikkeella\n",
    "* näppäinyhdistelmällä Ctrl-Enter tai Shift-Enter\n",
    "\n",
    "Suorituksesta seuraavat tulosteet ja virheilmoitukset tulostuvat solun alapuolelle. Koodia voi muuttaa ja suorittaa uudestaan  milloin vaan. \n",
    "\n",
    "Aikaisemmin suoritetun koodin tallentamat muuttujat ja muut tiedot säilyvät koko istunnon ajan, joten osan ohjelmasta voi suorittaa yhdessä solussa ja jatkaa toisessa solussa.\n",
    "\n",
    "Tarvittaessa  istunnon tallentamat tiedot voit tyhjentää Kernel-valikosta komennolla Restart & Clear Output. Jokaisella notebookilla on oma kernelinsä ja Restart & Clear Output vaikuttaa ainostaan aktiiviseen notebookiin.\n",
    "\n",
    "Notebookit tallentuvat päätteellä  **.ipynb** (IPYthon NoteBook).\n",
    "\n",
    "Python-ohjemia voi toki kirjoittaa ja ajaa muillakin tavoilla, esim. kirjoittamalla tekstieditorilla .py-päätteisiä tiedostoja ja ajamalla ne komentorivillä. Yksi esimerkki ilmaisesta Python-IDE:stä on [PyCharm](https://www.jetbrains.com/pycharm/).\n",
    "\n",
    "## Pythonin versiot\n",
    "Tällä hetkellä Python on versiossa 3.7. Suurehko muutos koodissa tapahtui 2008 version 3.0 myötä. 2.x-versioilla tehty koodi ei yleensä toimi 3.x-versioissa, näkyvin muutos lienee print-funktiossa:\n",
    "    \n",
    "    print 'Hello World'  # 2.x-versiot\n",
    "    print('Hello World') # 3.x-versiot\n",
    "    \n",
    "Virallinen [Python-tutoriaali](https://docs.python.org/3/tutorial/)    \n",
    "\n",
    "## Pythonin syntaksi\n",
    "Monista muista ohjelmointikielistä Python eroaa syntaksiltaan:\n",
    "* komentojen perään ei tule puolipisteitä, vaan komennot erotetaan toisistaan rivinvaihdoilla\n",
    "* ohjelmalohkoja ei rajata aaltosuluilla, vaan käytetään sisennyksiä rivien alussa\n",
    "   * sisennetään välilyönneillä, ei tabulaattorilla\n",
    "* kommentit kirjoitetaan #-merkin perään\n",
    "   * monirivisille kommenteille ei ole erillistä syntaksia\n"
   ]
  },
  {
   "cell_type": "code",
   "execution_count": 7,
   "metadata": {},
   "outputs": [
    {
     "name": "stdout",
     "output_type": "stream",
     "text": [
      "3\n",
      "6\n",
      "9\n",
      "12\n",
      "tehty\n"
     ]
    }
   ],
   "source": [
    "# esimerkkikoodia\n",
    "\n",
    "\n",
    "def summa(a, b):    # laskee lukujen summan\n",
    "  summa = a + b\n",
    "  return summa\n",
    "\n",
    "for i in range(1, 5): # range-funktio luo listan halutulta numeroväliltä\n",
    "  print(summa(i, 2*i))\n",
    "    \n",
    "print(\"tehty\")    "
   ]
  },
  {
   "cell_type": "markdown",
   "metadata": {},
   "source": [
    "## Muuttujat\n",
    "Muuttujia ei tarvitse erikseen määritellä. Muuttujille ei määritellä myöskään tyyppiä vaan se määräytyy automaattisesti kun muuttujalle sijoitetaan arvo (*dynaaminen tyypitys*).\n",
    "\n",
    "Muuttujien tyyppiä voi joutua kuitenkin muuntamaan seuraavilla funktioilla.\n",
    "* int(x)\n",
    "* float(x)\n",
    "* str(x) \n",
    "\n",
    "Muuttujan tyypin saa selville funktiolla **type**"
   ]
  },
  {
   "cell_type": "code",
   "execution_count": 5,
   "metadata": {},
   "outputs": [
    {
     "name": "stdout",
     "output_type": "stream",
     "text": [
      "<class 'int'>\n",
      "<class 'int'>\n",
      "<class 'float'>\n",
      "<class 'float'>\n",
      "<class 'bool'>\n",
      "<class 'bool'>\n",
      "<class 'str'>\n",
      "<class 'str'>\n",
      "<class 'int'>\n",
      "<class 'str'>\n"
     ]
    }
   ],
   "source": [
    "# esimerkkikoodia\n",
    "\n",
    "\n",
    "# kokonaislukuja\n",
    "x = 1\n",
    "y = -35656222554887711\n",
    "\n",
    "print(type(x))\n",
    "print(type(y))\n",
    "\n",
    "# liukulukuja\n",
    "x = 1.10\n",
    "y = -4e45  #kymmenpotenssimuoto\n",
    "\n",
    "print(type(x))\n",
    "print(type(y))\n",
    "\n",
    "# totuusarvoja\n",
    "x = True\n",
    "y = False\n",
    "\n",
    "print(type(x))\n",
    "print(type(y))\n",
    "\n",
    "# merkkijonoja\n",
    "x = 'kissa'\n",
    "y = \"koira\"\n",
    "\n",
    "print(type(x))\n",
    "print(type(y))\n",
    "\n",
    "# tyyppimuunnoksia\n",
    "x = 1\n",
    "y = str(x)\n",
    "\n",
    "print(type(x))\n",
    "print(type(y))"
   ]
  },
  {
   "cell_type": "markdown",
   "metadata": {},
   "source": [
    "## Merkkijonot\n",
    "Merkkijonot voidaan esittää\n",
    "* Käyttäen sitaattimerkiä (')\n",
    "* Käyttäen lainausmerkkiä (\")\n",
    "* Käyttäen kolmea sitaatti- tai lainausmerkkiä (''', \"\"\"), tämä voi sisältää useamman rivin pituisen merkkijonon\n",
    "* Merkkijonojen sisällä olevat erikoismerkit (',\", \\) merkitään \\-merkin avulla esim. \\' tai \\\" tai \\\\ \n",
    "  * tai '-merkki \"-merkeillä esitetyn merkkijonon sisällä tai päinvastoin\n",
    "* Merkkijonojen yhdistäminen tapahtuu  + -operaattorilla. Merkkijonoja voidaan myös toistaa *-operaattorilla \n",
    "  * muuttujia voi yhdistää merkkijonoon myös str.format-funktiolla tai C-kielen tapaisella %-syntaksilla (esimerkkejä myöhemmin)"
   ]
  },
  {
   "cell_type": "code",
   "execution_count": 27,
   "metadata": {},
   "outputs": [
    {
     "name": "stdout",
     "output_type": "stream",
     "text": [
      "3 koiraa meni vaa'alle 3 koiraa meni vaa'alle 3 koiraa meni vaa'alle \n"
     ]
    }
   ],
   "source": [
    "# esimerkkikoodia\n",
    "\n",
    "z = 3\n",
    "x = ' koiraa meni '\n",
    "y = 'vaa\\'alle '\n",
    "\n",
    "print(3*(str(z) + x + y))   # huom. kokonaisluku z pitää muuttaa merkkijonoksi jotta se voidaan yhdistää merkkijonoihin"
   ]
  },
  {
   "cell_type": "markdown",
   "metadata": {},
   "source": [
    "Merkkijonoista voidaan poimia merkkejä indeksien avulla, ensimmäisen merkin indeksi on nolla"
   ]
  },
  {
   "cell_type": "code",
   "execution_count": 28,
   "metadata": {},
   "outputs": [
    {
     "name": "stdout",
     "output_type": "stream",
     "text": [
      "e\n",
      "llo\n",
      "Hello\n",
      ", World!\n",
      "ld\n",
      "Hello, Wor\n",
      "ello, Wor\n"
     ]
    }
   ],
   "source": [
    "a = \"Hello, World!\"\n",
    "print(a[1]) # palauttaa toisen merkin\n",
    "print(a[2:5]) # palauttaa 5-2 = 3 merkin merkkijonon, jossa merkit paikoista 2, 3 ja 4. Siis paikka 5 ei tule mukaan.\n",
    "print(a[:5]) # sama kuin [0:5]\n",
    "print(a[5:]) # sama kuin [5:loppuun asti]\n",
    "print(a[-3:-1]) # negatiivinen indeksi luetaan lopusta, viimeinen merkki on -1 (ei tule tässä mukaan)\n",
    "print(a[:-3]) # kolme viimeistä merkkiä jää pois\n",
    "print(a[1:-3]) \n"
   ]
  },
  {
   "cell_type": "markdown",
   "metadata": {},
   "source": [
    "Merkkijonoja ei voi muuttaa, eli esim a[2] = 'b' ei toimi.\n",
    "\n",
    "[Merkkijonofunktiota](http://docs.python.org/library/stdtypes.html#string-methods)\n"
   ]
  },
  {
   "cell_type": "code",
   "execution_count": 9,
   "metadata": {},
   "outputs": [
    {
     "name": "stdout",
     "output_type": "stream",
     "text": [
      "kukka\n"
     ]
    }
   ],
   "source": [
    "# esimerkki\n",
    "mjono1 = 'kukka'\n",
    "mjono1.upper()\n",
    "print(mjono1)\n",
    "# upper-metodi ei muuta merkkijonoa, vaan palauttaa uuden merkkijonon jolle on tehnyt toimenpiteet"
   ]
  },
  {
   "cell_type": "code",
   "execution_count": 10,
   "metadata": {},
   "outputs": [
    {
     "name": "stdout",
     "output_type": "stream",
     "text": [
      "KUKKA\n"
     ]
    }
   ],
   "source": [
    "mjono1 = 'kukka'\n",
    "mjono2 = mjono1.upper()\n",
    "print(mjono2)"
   ]
  },
  {
   "cell_type": "code",
   "execution_count": 32,
   "metadata": {},
   "outputs": [
    {
     "name": "stdout",
     "output_type": "stream",
     "text": [
      "Varis Pekka\n",
      "Varis Pekka\n"
     ]
    }
   ],
   "source": [
    "# esimerkki, nimenkääntö\n",
    "a = 'Pekka Varis'\n",
    "n = a.find(' ')  # monesko merkki on välilyönti\n",
    "etunimi = a[:n]\n",
    "sukunimi = a[n+1:]\n",
    "print(sukunimi + ' ' + etunimi)\n",
    "\n",
    "# toinen tapa\n",
    "a = 'Pekka Varis'\n",
    "osat = a.split(' ')\n",
    "print(osat[1]+\" \"+osat[0])"
   ]
  },
  {
   "cell_type": "markdown",
   "metadata": {},
   "source": [
    "## Operaattorit\n",
    "Seuraavassa on listattu Pythonin tärkeimpiä operaattoreita:\n",
    "* = sijoitus\n",
    "* \\+ yhteenlasku\n",
    "* \\- vähennyslasku\n",
    "* \\* tulo\n",
    "* \\** potenssi\n",
    "* / jakaminen\n",
    "* // \"tasajako\"\n",
    "* % jakojäännös\n",
    "* == vertailu\n",
    "* <\n",
    "* \\>\n",
    "* <=\n",
    "* \\>=\n",
    "* !=\n",
    "* not\n",
    "* and\n",
    "* or\n",
    "\n",
    "Myös lyhempiä sijoitusoperaattoreita voi käyttää\n",
    "* x += 3  tarkoittaa x = x + 3\n",
    "* kuitenkaan x++ ei toimi\n"
   ]
  },
  {
   "cell_type": "markdown",
   "metadata": {},
   "source": [
    "## Tiedon lukeminen käyttäjältä\n",
    "\n",
    "Käyttäjän syötettä voidaan lukea käskyn input -avulla. Esimerkiksi käsky\n",
    "\n",
    "`celsius = input(\"Anna lämpötila: \")`\n",
    "\n",
    "tulostaa ensin kuvaruudulle tekstin \"Anna lämpötila: \", lukee sitten käyttäjän antaman tekstin ja sijoittaa sen muuttujan celsius arvoksi. Teksti tallentuu aina merkkijonona, eli laskentaa varten se pitää muuttaa lukutyypiksi funktioilla `int()` tai `float()`."
   ]
  },
  {
   "cell_type": "code",
   "execution_count": 11,
   "metadata": {},
   "outputs": [
    {
     "name": "stdout",
     "output_type": "stream",
     "text": [
      "Anna lämpötila: 34.4\n",
      "Lämpötila 34.4 celsius-astetta on Kelvineinä  307.54999999999995\n"
     ]
    }
   ],
   "source": [
    "celsius = input(\"Anna lämpötila: \")\n",
    "print(\"Lämpötila\",celsius,\"celsius-astetta on Kelvineinä \",float(celsius)+273.15)"
   ]
  },
  {
   "cell_type": "markdown",
   "metadata": {},
   "source": [
    "## Tietorakenteet\n",
    "\n",
    "Tässä käydään läpi Pythonin sisäänrakennettuja tietorakenteita, myöhemmin kurssillä käytetään kuitenkin enimmäkseen eri kirjastoista löytyviä monipuolisempi rakenteita, esim NumPy-array, Pandas-Series ja etenkin Pandas-DataFrame.\n",
    "\n",
    "### Lista\n",
    "Pythonissa on muutamia erityyppisiä (sisäänrakennettuja) tietorakenteita, joista yleisin on lista (**List**)\n",
    "\n",
    "Lista määritellään hakasulkujen sisään ja alkiot erotetaan pilkulla. Listan alkiot voivat olla eri tietotyyppiä tai vaikka toisia listoja.\n",
    "```\n",
    "lista1 = [1, 2.2, 'kissa', 3, [False, True]]\n",
    "```\n",
    "\n",
    "Listan alkioihin viitataan indekseillä ihan kuten merkkijonoissakin\n",
    "```\n",
    "print(lista1[2:3])\n",
    "```\n",
    "\n",
    "Listat ovat dynaamisia, eli niitä voi muokata luomisen jälkeen.\n",
    "[Metodeja listojen käsittelyyn](https://docs.python.org/3/library/stdtypes.html#typesseq-mutable)\n",
    "\n",
    "\n"
   ]
  },
  {
   "cell_type": "code",
   "execution_count": 61,
   "metadata": {},
   "outputs": [
    {
     "name": "stdout",
     "output_type": "stream",
     "text": [
      "[1, 2.2, 'kissa', 3, [False, True]]\n",
      "False\n",
      "[1, 300000000.0, 'kissa', 3, [False, True]]\n",
      "[1, 300000000.0, 'kissa', 'koira', 3, [False, True]]\n",
      "[1, 300000000.0, 'kissa', 'koira', [False, True]]\n",
      "\n",
      "\n",
      "1 tyyppiä <class 'int'>\n",
      "300000000.0 tyyppiä <class 'float'>\n",
      "kissa tyyppiä <class 'str'>\n",
      "koira tyyppiä <class 'str'>\n",
      "[False, True] tyyppiä <class 'list'>\n"
     ]
    }
   ],
   "source": [
    "# esimerkkikoodia\n",
    "lista1 = [1, 2.2, 'kissa', 3, [False, True]]\n",
    "print(lista1)\n",
    "print(lista1[-1][0])\n",
    "\n",
    "# muutetaan yksi alkio\n",
    "lista1[1] = 3e8\n",
    "print(lista1)\n",
    "\n",
    "# lisätään yksi alkio väliin\n",
    "lista1.insert(3, 'koira')\n",
    "print(lista1)\n",
    "\n",
    "#poistetaan 2. viimeinen alkio\n",
    "del lista1[-2]\n",
    "print(lista1)\n",
    "\n",
    "print('\\n')\n",
    "\n",
    "# läpikäydään lista\n",
    "for i in lista1:\n",
    "  print(str(i) + \" tyyppiä \" + str(type(i)))"
   ]
  },
  {
   "cell_type": "code",
   "execution_count": 65,
   "metadata": {},
   "outputs": [
    {
     "name": "stdout",
     "output_type": "stream",
     "text": [
      "joo\n",
      "[1, 2, 3, 1, 2, 3]\n",
      "[1, 2, 3, 4, 5, 6, 7]\n",
      "['2', '15', '3', '8']\n",
      "[0, 2, 3]\n",
      "[1, 2, 3]\n"
     ]
    }
   ],
   "source": [
    "# LISTAN TOIMINTOJA\n",
    "\n",
    "# Luo tyhjä lista:\n",
    "alkulukuja = []\n",
    "\n",
    "# Luo uusi lista ja lisää siihen alkioita:\n",
    "alkulukuja = [2, 3, 5, 7, 11, 13, 17]\n",
    "\n",
    "# Luo uusi lista ja tietty määrä alkioita:\n",
    "alkulukuja = [5] * 6\n",
    "\n",
    "# Lisää uusi alkio listan loppuun:\n",
    "alkulukuja.append(19)\n",
    "\n",
    "# Lisää uusi alkio tiettyyn kohtaan:\n",
    "alkulukuja.insert(2, 23)\n",
    "\n",
    "# Poista alkio listasta:\n",
    "alkulukuja.remove(5)\n",
    "\n",
    "\n",
    "# Onko alkio listassa:\n",
    "if 19 in alkulukuja:\n",
    "  print(\"joo\") \n",
    "      \n",
    "# Toistuvien alkioiden määrä listassa:\n",
    "kpl = alkulukuja.count(5)\n",
    "\n",
    "\n",
    "# Hae alkion paikka eli indeksi listassa:\n",
    "nro = alkulukuja.index(23)\n",
    "\n",
    "# Lajittele lista:\n",
    "alkulukuja.sort()\n",
    "\n",
    "# Käännä listan järjestys:\n",
    "alkulukuja.reverse()\n",
    "\n",
    "\n",
    "# Alkioiden kokonaismäärä:\n",
    "alkioita = len(alkulukuja)\n",
    "\n",
    "# Muuta alkiota:\n",
    "alkulukuja[5] = 29\n",
    "\n",
    "# Hae tietty alkio:\n",
    "luku = alkulukuja[4]\n",
    "\n",
    "# listan toistaminen\n",
    "lista1 = [1, 2, 3]\n",
    "lista2 = lista1 * 2\n",
    "print(lista2)\n",
    "\n",
    "# listojen yhdistäminen\n",
    "lista1 = [1, 2, 3]\n",
    "lista2 = [4, 5, 6]\n",
    "lista3 = lista1 + lista2\n",
    "lista3 = lista3 + [7]\n",
    "print(lista3)\n",
    "\n",
    "# merkkijonon split-funktio palauttaa listan merkkijonoista\n",
    "lasku = \"2+15+3+8\"\n",
    "osat = lasku.split(\"+\")\n",
    "print(osat)\n",
    "\n",
    "# tässä lista2 viittaa samaan olioon kuin lista1\n",
    "lista1 = [1, 2, 3]\n",
    "lista2 = lista1\n",
    "lista2[0] = 0\n",
    "print(lista1)\n",
    "\n",
    "# tässä taas tehdään kopio lista1:stä, jolloin lista2:n muokkaaminen ei vaikuta lista1:een\n",
    "lista1 = [1, 2, 3]\n",
    "lista2 = lista1[:]\n",
    "lista2[0] = 0\n",
    "print(lista1)\n",
    "\n"
   ]
  },
  {
   "cell_type": "markdown",
   "metadata": {},
   "source": [
    "### Tuple\n",
    "Tuplet ovat rakenteeltaan samanlaisia kuin listat, mutta niissä on yksi merkittävä ero: ne\n",
    "ovat alkioiltaan kiinteitä, eli tupleilla ei ole metodeja eikä muitakaan tapoja manipuloida niitä. \n",
    "\n",
    "Tuple määritellään tavallisten sulkujen sisään kun lista määritellään hakasulkujen sisään.\n",
    "\n",
    "```\n",
    "lista_2 = ['kissa', 'koira', 'kana'] # Tämä on lista\n",
    "tuple_2 = ('kissa', 'koira', 'kana') # Tämä on tuple\n",
    "```\n",
    "\n",
    "Tupleja käytetään usein  silloin, kun halutaan varmistaa, että esimerkiksi funktiolle annettu listamainen parametri ei tule muuttumaan missään vaiheessa."
   ]
  },
  {
   "cell_type": "markdown",
   "metadata": {},
   "source": [
    "### Sanakirja (Dictionary)\n",
    "Sanakirja (Dictionary, usein myös associative array) on järjestämätön taulukko, jossa alkioihin viitataan uniikeilla avaimilla. Sanakirja sisältää kaksi päätyyppiä, avaimet (key) ja arvot (value). Sanakirjan tapauksessa päätyypeistä\n",
    "avaimen tulee olla ainutlaatuinen, eli sanakirja ei voi sisältää kahta samaa avainta.\n",
    "\n",
    "Sanakirjan määrittely\n",
    "```\n",
    "sanakirja1 = {'kortti' : 'Visa', 'raja' : 2000, 'nimi' : 'Varis'}\n",
    "\n",
    "\n",
    "```\n",
    "\n",
    "Sanakirjan alkioon viitataan antamalla indeksin sijasta alkion avain\n",
    "\n",
    "```\n",
    "print(sanakirja1['raja'])\n",
    "```\n",
    "\n",
    "Läpikäyntiin on useita vaihtoehtoja:\n",
    "* *for x in sanakirja1*  käy läpi avaimet, kuten myös *for x in sanakirja1.keys()*\n",
    "* *for x in sanakirja1.values():* käy läpi arvot\n",
    "* *for x,y in sanakirja1.items():* käy läpi sekä avaimet että arvot\n",
    "\n",
    "\n",
    "Sanakirjan voi luoda myös hieman erilaisella syntaksilla\n",
    "```\n",
    "sanakirja1 = dict(kortti = 'Visa', raja =  2000, nimi = 'Varis')\n",
    "```"
   ]
  },
  {
   "cell_type": "code",
   "execution_count": 59,
   "metadata": {},
   "outputs": [
    {
     "name": "stdout",
     "output_type": "stream",
     "text": [
      "2000\n",
      "------------\n",
      "\n",
      "kortti\n",
      "raja\n",
      "nimi\n",
      "------------\n",
      "\n",
      "kortti\n",
      "raja\n",
      "nimi\n",
      "------------\n",
      "\n",
      "Visa\n",
      "2000\n",
      "Varis\n",
      "------------\n",
      "\n",
      "Visa\n",
      "2000\n",
      "Varis\n",
      "------------\n",
      "\n",
      "kortti : Visa\n",
      "raja : 2000\n",
      "nimi : Varis\n",
      "------------\n",
      "\n",
      "kortti : Visa\n",
      "raja : 2000\n",
      "nimi : Varis\n",
      "loppuu : 11/19\n"
     ]
    }
   ],
   "source": [
    "sanakirja1 = {'kortti' : 'Visa', 'raja' : 2000, 'nimi' : 'Varis'}\n",
    "\n",
    "\n",
    "print(sanakirja1['raja'])\n",
    "\n",
    "print('------------\\n')\n",
    "\n",
    "for x in sanakirja1:\n",
    "  print(x)\n",
    "\n",
    "print('------------\\n')\n",
    "\n",
    "for x in sanakirja1.keys():\n",
    "  print(x)\n",
    "\n",
    "print('------------\\n')\n",
    "\n",
    "for x in sanakirja1:\n",
    "  print(sanakirja1[x])\n",
    "\n",
    "print('------------\\n')\n",
    "\n",
    "for x in sanakirja1.values():\n",
    "  print(x)\n",
    "\n",
    "print('------------\\n')\n",
    "\n",
    "for x,y in sanakirja1.items():\n",
    "  print(x + \" : \" + str(y))\n",
    "\n",
    "print('------------\\n')\n",
    "\n",
    "sanakirja1['loppuu'] = '11/19'\n",
    "\n",
    "for x,y in sanakirja1.items():\n",
    "  print(x + \" : \" + str(y))\n",
    "\n"
   ]
  },
  {
   "cell_type": "markdown",
   "metadata": {},
   "source": [
    "## Ehto- ja toistorakenteet\n",
    "### if...elif...else"
   ]
  },
  {
   "cell_type": "code",
   "execution_count": 63,
   "metadata": {},
   "outputs": [
    {
     "name": "stdout",
     "output_type": "stream",
     "text": [
      "a on suurempi kuin 0\n"
     ]
    }
   ],
   "source": [
    "a = 5\n",
    "if a > 0:\n",
    "  print('a on suurempi kuin 0')\n",
    "elif a < 0:\n",
    "  print('a on pienempi kuin 0')\n",
    "else:\n",
    "  print('a on yhtäsuuri kuin 0')"
   ]
  },
  {
   "cell_type": "markdown",
   "metadata": {},
   "source": [
    "ehtolauseissa käytetään and/or/not -operaattoreita"
   ]
  },
  {
   "cell_type": "code",
   "execution_count": 12,
   "metadata": {},
   "outputs": [
    {
     "name": "stdout",
     "output_type": "stream",
     "text": [
      "a on suurempi kuin 0 ja b on koira\n",
      "a on suurempi kuin 0 ja b on koira\n"
     ]
    }
   ],
   "source": [
    "a = 5\n",
    "b = 'koira'\n",
    "if a > 0 and b == 'koira':\n",
    "  print('a on suurempi kuin 0 ja b on koira')\n",
    "\n",
    "# sulut selkeyttävät\n",
    "\n",
    "if (a > 0) and (b == 'koira'):\n",
    "  print('a on suurempi kuin 0 ja b on koira')\n",
    "\n"
   ]
  },
  {
   "cell_type": "markdown",
   "metadata": {},
   "source": [
    "if...elif...else -rakenteita voi kirjoittaa myös yhdelle riville, vrt. muissa kielissä (a>b?a:b)"
   ]
  },
  {
   "cell_type": "code",
   "execution_count": 14,
   "metadata": {},
   "outputs": [
    {
     "name": "stdout",
     "output_type": "stream",
     "text": [
      "B\n",
      "B\n",
      "B\n",
      "B\n"
     ]
    }
   ],
   "source": [
    "a = 3\n",
    "b = 5\n",
    "\n",
    "if a > b: print(\"a on suurempi kuin b\")\n",
    "    \n",
    "print(\"A\") if a > b else print(\"B\")  \n",
    "\n",
    "print(\"A\") if a > b else print(\"=\") if a == b else print(\"B\") \n",
    "\n",
    "# sulut selkeyttävät\n",
    "\n",
    "(print(\"A\") if a > b else (print(\"=\") if a == b else print(\"B\")))\n",
    "\n",
    "# lyhempi tapa\n",
    "\n",
    "print((\"A\" if a > b else (\"=\" if a == b else \"B\")))\n",
    "\n"
   ]
  },
  {
   "cell_type": "markdown",
   "metadata": {},
   "source": [
    "### while"
   ]
  },
  {
   "cell_type": "code",
   "execution_count": 69,
   "metadata": {},
   "outputs": [
    {
     "name": "stdout",
     "output_type": "stream",
     "text": [
      "1\n",
      "2\n",
      "3\n",
      "4\n",
      "5\n",
      "------------\n",
      "\n",
      "1\n",
      "2\n",
      "3\n",
      "------------\n",
      "\n",
      "1\n",
      "2\n",
      "4\n",
      "5\n",
      "6\n"
     ]
    }
   ],
   "source": [
    "i = 1\n",
    "while i < 6:\n",
    "  print(i)\n",
    "  i += 1\n",
    "\n",
    "print('------------\\n')    \n",
    "\n",
    "i = 1\n",
    "while i < 6:\n",
    "  print(i)\n",
    "  if i == 3:\n",
    "    break\n",
    "  i += 1 \n",
    "\n",
    "print('------------\\n')\n",
    "\n",
    "i = 0\n",
    "while i < 6:\n",
    "  i += 1\n",
    "  if i == 3:\n",
    "    continue\n",
    "  print(i)\n",
    "    "
   ]
  },
  {
   "cell_type": "markdown",
   "metadata": {},
   "source": [
    "### for\n",
    "For käy järjestyksessä läpi rakenteen kaikki alkiot, rakenne voi olla esim. lista (kuten nähty jo aikaisemmissa esimerkeissä).\n",
    "\n",
    "For-silmukassa käytetään usein myös **range** -funktiota:\n",
    "* range(6) antaa luvut 0, 1, 2, 3, 4, 5 (mutta ei lukua 6)\n",
    "* range(2,6) antaa 2,3,4,5 (mutta ei 6)\n",
    "* range(2,50,10) antaa 2, 12, 22, 32, 42 eli 10:n välein\n",
    "* range(6,1,-1) antaa 6,5,4,3,2\n"
   ]
  },
  {
   "cell_type": "code",
   "execution_count": 71,
   "metadata": {},
   "outputs": [
    {
     "name": "stdout",
     "output_type": "stream",
     "text": [
      "0\n",
      "1\n",
      "2\n",
      "3\n",
      "4\n",
      "5\n",
      "------------\n",
      "\n",
      "2\n",
      "3\n",
      "4\n",
      "5\n",
      "------------\n",
      "\n",
      "2\n",
      "12\n",
      "22\n",
      "32\n",
      "42\n",
      "------------\n",
      "\n",
      "6\n",
      "5\n",
      "4\n",
      "3\n",
      "2\n"
     ]
    }
   ],
   "source": [
    "for i in range(6):\n",
    "  print(i)\n",
    "\n",
    "print('------------\\n')\n",
    "\n",
    "for i in range(2,6):\n",
    "  print(i)\n",
    "\n",
    "print('------------\\n')\n",
    "\n",
    "for i in range(2,50,10):\n",
    "  print(i)\n",
    "\n",
    "print('------------\\n')\n",
    "\n",
    "for i in range(6,1,-1):\n",
    "  print(i)\n"
   ]
  },
  {
   "cell_type": "markdown",
   "metadata": {},
   "source": [
    "## Funktiot\n",
    "Funktio on koodinpätkä joka suoritetaan vain kun sitä kutsutaan\n",
    "\n",
    "Pythonissa funktiot määritetään def-avainsanalla\n"
   ]
  },
  {
   "cell_type": "code",
   "execution_count": 4,
   "metadata": {},
   "outputs": [
    {
     "name": "stdout",
     "output_type": "stream",
     "text": [
      "Hello from a function\n"
     ]
    }
   ],
   "source": [
    "def my_function():\n",
    "  print(\"Hello from a function\")\n",
    "\n",
    "\n",
    "# kutsutaan funktiota\n",
    "my_function()"
   ]
  },
  {
   "cell_type": "markdown",
   "metadata": {},
   "source": [
    "### Parametrit\n",
    "Funktioille voi välittää arvoja parametreilla.\n",
    "\n",
    "Parametreille voi antaa myös oletusarvoja."
   ]
  },
  {
   "cell_type": "code",
   "execution_count": 74,
   "metadata": {},
   "outputs": [
    {
     "name": "stdout",
     "output_type": "stream",
     "text": [
      "Hei Pekka\n",
      "Hei Jukka\n"
     ]
    }
   ],
   "source": [
    "def hei_funktio(nimi):\n",
    "  print(\"Hei \" + nimi)\n",
    "\n",
    "hei_funktio(\"Pekka\")\n",
    "hei_funktio(\"Jukka\")"
   ]
  },
  {
   "cell_type": "code",
   "execution_count": 82,
   "metadata": {},
   "outputs": [
    {
     "name": "stdout",
     "output_type": "stream",
     "text": [
      "Summa on 16\n"
     ]
    }
   ],
   "source": [
    "def tulosta_summa(a, b, c):\n",
    "  print(\"Summa on \"+ str(a + b + c))\n",
    "\n",
    "tulosta_summa(3, 5, 8)"
   ]
  },
  {
   "cell_type": "code",
   "execution_count": 5,
   "metadata": {},
   "outputs": [
    {
     "name": "stdout",
     "output_type": "stream",
     "text": [
      "64\n",
      "512\n",
      "16\n",
      "64\n",
      "1296\n"
     ]
    }
   ],
   "source": [
    "def tulosta_summan_potenssi(a, b, c = 2):\n",
    "  print((a + b)**c)\n",
    "\n",
    "\n",
    "tulosta_summan_potenssi(3, 5)\n",
    "tulosta_summan_potenssi(3, 5, 3)\n",
    "\n",
    "def tulosta_summan_potenssi2(a, b = 1, c = 2):\n",
    "  print((a + b)**c)\n",
    "\n",
    "tulosta_summan_potenssi2(3)\n",
    "tulosta_summan_potenssi2(3, c = 3)\n",
    "tulosta_summan_potenssi2(3, b = 3, c = 4)\n"
   ]
  },
  {
   "cell_type": "markdown",
   "metadata": {},
   "source": [
    "### Nimiavaruudet\n",
    "Funktiot eivät näe niiden ulkopuolella määriteltyjä muuttujia. Jos luodaan funktion sisälle muuttuja\n",
    "x, niin tämä muuttuja on käytettävissä ainoastaan sen funktion sisällä, jossa se luotiin. Tämä tarkoittaa siis sitä, että\n",
    "funktioiden välillä muuttujilla ei ole minkäänlaista yhteyttä.\n",
    "\n",
    "Kuitenkin esi. listan välittäminen funktioon parametrina välittää viittauksen alkuperäiseen listaan, jolloin sen muuttaminen funktiossa vaikuttaa myös funktion ulkopuolella. Kopion listasta saa syntaksilla lista2 = lista1[:]"
   ]
  },
  {
   "cell_type": "code",
   "execution_count": 29,
   "metadata": {},
   "outputs": [
    {
     "name": "stdout",
     "output_type": "stream",
     "text": [
      "x on ennen funktiota 50\n",
      "x on funktioon sisään tullessaan 50\n",
      "x muutettu funktion sisällä arvoon 2\n",
      "x on funktion kutsumisen jälkeen edelleen 50\n"
     ]
    }
   ],
   "source": [
    "def funktio(x):\n",
    "  print(\"x on funktioon sisään tullessaan\", x)\n",
    "  x = 2\n",
    "  print(\"x muutettu funktion sisällä arvoon\", x)\n",
    "\n",
    "x = 50\n",
    "print(\"x on ennen funktiota\", x)\n",
    "funktio(x)\n",
    "print(\"x on funktion kutsumisen jälkeen edelleen\", x)"
   ]
  },
  {
   "cell_type": "markdown",
   "metadata": {},
   "source": [
    "### Palautusarvo\n",
    "Funktio voi palauttaa arvoja return-lauseella.\n",
    "\n",
    "Palautusarvoja voi olla myös useampia."
   ]
  },
  {
   "cell_type": "code",
   "execution_count": 91,
   "metadata": {},
   "outputs": [
    {
     "name": "stdout",
     "output_type": "stream",
     "text": [
      "Suurempi arvo on 100\n"
     ]
    }
   ],
   "source": [
    "def maksimi(x, y):\n",
    "  if x > y:\n",
    "    return x\n",
    "  else:\n",
    "    return y\n",
    "\n",
    "luku1 = 100\n",
    "luku2 = 50\n",
    "suurempi = maksimi(luku1, luku2)\n",
    "print(\"Suurempi arvo on\", suurempi)"
   ]
  },
  {
   "cell_type": "code",
   "execution_count": 97,
   "metadata": {},
   "outputs": [
    {
     "name": "stdout",
     "output_type": "stream",
     "text": [
      "-3 11\n",
      "[-3, 0, 4, 5, 8, 11]\n"
     ]
    }
   ],
   "source": [
    "def suurin_ja_pienin(lista):\n",
    " lista.sort()\n",
    " return lista[0], lista[-1]\n",
    "\n",
    "omalista = [4, 5, 8, 0, -3, 11]\n",
    "p, s = suurin_ja_pienin(omalista)\n",
    "print(str(p)+ \" \" + str(s))\n",
    "print(omalista)"
   ]
  },
  {
   "cell_type": "markdown",
   "metadata": {},
   "source": [
    "alimmasta tulosteesta huomataan, että funktio on muuttanut pääohjelmassa määriteltyä listaa (sort-funktiolla). Lukujen ja merkkijonojen (int, float, string) välittäminen funktion parametrina antaa funktiolle vain muuttujan kopion (call-by-value). Mutta listan antaminen parametrina välittää viittauksen alkuperäiseen listaan (call-by-reference)."
   ]
  },
  {
   "cell_type": "markdown",
   "metadata": {},
   "source": [
    "## Luokat/oliot\n",
    "Luokat/oliot toimivat Pythonissa kuten muissakin kielissä.\n",
    "\n",
    "Jotta voimme luoda uuden olion, meidän pitää ensin määritellä luokka (engl. class) joka kuvaa olion ominaisuudet. Luokat kirjoitetaan yleensä isolla alkukirjaimella. \n",
    "\n",
    "Alla Ympyra-luokka sisältää kaksi funktiomäärittelyä. Näitä funktioita kutsutaan **metodeiksi** (engl. method) erotuksena tavallisista funktioista, jotka eivät kuulu mihinkään luokkaan.\n",
    "\n",
    "Ympyra-luokka sisältää käynnistysmetodin **\\__init\\__** ja metodin teeyhtalo. Huomaa, että molempien metodien ensimmäinen parametri on self. Tämä parametri viittaa aina olioon itseensä. Python hoitaa self-parametrin automaattisesti, eli sitä ei anneta, kun metodia kutsutaan. \\__init\\__ -metodi ajetaan aina oliota luodessa.\n",
    "\n",
    "Käynnistysmetodissa \\__init\\__ luodaan oliolle neljä **kenttää**: x0, y0, r ja ala. Kenttiin pitää viitata luokan sisällä metodin self-parametrin avulla."
   ]
  },
  {
   "cell_type": "code",
   "execution_count": 3,
   "metadata": {},
   "outputs": [
    {
     "name": "stdout",
     "output_type": "stream",
     "text": [
      "Ympyrän, jonka keskipiste on ( -3 , -4 ) ja säde  5  yhtälö on  (x + 3)^2 + (y + 4)^2 = 5^2 ja ala  78.53981625\n",
      "Leikkaako y1 ja y2?  True\n"
     ]
    }
   ],
   "source": [
    "class Ympyra:\n",
    "\n",
    "  def __init__(self, x0, y0, sade = 1):\n",
    "    self.x0 = x0\n",
    "    self.y0 = y0\n",
    "    self.r = sade\n",
    "    self.ala = 3.14159265 * sade ** 2\n",
    "    self.teeyhtalo()\n",
    "    \n",
    "  def teeyhtalo(self): \n",
    "    yhtalo =   \"(x \"\n",
    "    if(self.x0>0):\n",
    "      yhtalo += \"- \" + str(self.x0)\n",
    "    else:\n",
    "      yhtalo += \"+ \" + str(-1*self.x0) \n",
    "    yhtalo +=   \")^2 + (y \"\n",
    "    if(self.y0>0):\n",
    "      yhtalo += \"- \" + str(self.y0)\n",
    "    else:\n",
    "      yhtalo += \"+ \" + str(-1*self.y0)\n",
    "    yhtalo +=  \")^2 = \" + str(self.r) + \"^2\"\n",
    "    self.yhtalo = yhtalo\n",
    "    \n",
    "  def leikkaako(self, toinenYmpyra): \n",
    "    etaisyys = ((self.x0-toinenYmpyra.x0)**2+(self.y0-toinenYmpyra.y0)**2)**0.5\n",
    "    if etaisyys <= self.r + toinenYmpyra.r:\n",
    "        return True\n",
    "    else:\n",
    "        return False\n",
    "    \n",
    "    \n",
    "    \n",
    "y1 = Ympyra(-3,-4,5)       \n",
    "print(\"Ympyrän, jonka keskipiste on (\",y1.x0,\",\",y1.y0,\") ja säde \",y1.r,\" yhtälö on \",y1.yhtalo,\"ja ala \", y1.ala)\n",
    "\n",
    "y2 = Ympyra(1,1,1)\n",
    "print(\"Leikkaako y1 ja y2? \",y1.leikkaako(y2))\n",
    "\n"
   ]
  },
  {
   "cell_type": "markdown",
   "metadata": {},
   "source": [
    "## Tiedostojen käsittely\n",
    "Tiedostot avataan **open**-funktiolla. Syntaksi on\n",
    "\n",
    "`tiedostomuuttuja = open(tiedoston_nimi, kasittelytapa)`\n",
    "\n",
    "Parametrin *käsittelytapa* yleisimmät arvot ovat\n",
    "* **\"r\"** eli read: avataan tiedosto lukemista varten:\n",
    "* **\"w\"** eli write: avataan tiedosto kirjoittamista varten:\n",
    "    * Jos tiedostoa ei ole olemassa, open luo uuden tiedoston\n",
    "    * Jos tiedosto on jo olemassa, open luo uuden tyhjän tiedoston olemassaolevan tiedoston päälle!\n",
    "\n",
    "\n",
    "* **\"a\"** eli append: avataan tiedosto kirjoittamista varten:\n",
    "    * Jos tiedostoa ei ole olemassa, open luo uuden tiedoston\n",
    "    * Jos tiedosto on jo olemassa, tiedostoon kirjoitettavat tiedot lisätään sen loppuun (ei tyhjennä tiedostoa kuten \"w\"\n",
    "    \n",
    "Oletuksena avattava tiedosto avataan samasta hakemistosta, missä .py/.ipynb-tiedosto on, mutta avattaessa voi antaa myös kokonaisen tiedostopolun.\n",
    "\n",
    "\n",
    "Tiedostot suljetaan **close** -funktiolla."
   ]
  },
  {
   "cell_type": "code",
   "execution_count": 9,
   "metadata": {
    "collapsed": true
   },
   "outputs": [],
   "source": [
    "datat = open(\"data.txt\", \"r\")\n",
    "datat2 = open(\"C:\\\\Users\\\\Pekka\\\\data.txt\", \"r\")\n",
    "\n",
    "\n",
    "# tehdään jotain avatuille tiedostoille\n",
    "\n",
    "datat.close()\n",
    "datat2.close()\n",
    "\n",
    "\n"
   ]
  },
  {
   "cell_type": "markdown",
   "metadata": {},
   "source": [
    "### Tekstin lukeminen avatusta tiedostosta\n",
    "\n",
    "Yleisin tapa on lukea rivi kerrallaan, joka voidaan tehdä suoraan **for**-rakenteella:\n",
    "\n",
    "```\n",
    "tiedosto = open(tiedoston_nimi, kasittelytapa)\n",
    "for rivi in tiedosto:\n",
    "    ... # Tehdään jotain rivillä\n",
    "``` \n",
    "\n",
    "Iteroitaessa tiedoston rivien yli for-lauseella on jokaisen rivin lopussa kuitenkin rivinvaihtomerkki.\n",
    "Helppo tapa päästä eroon rivinvaihdosta, mikäli sillä ei ole käyttöä, on kutsua metodia **str.rstrip()**."
   ]
  },
  {
   "cell_type": "code",
   "execution_count": 16,
   "metadata": {},
   "outputs": [
    {
     "name": "stdout",
     "output_type": "stream",
     "text": [
      "['kissa\\n', 'koira\\n']\n",
      "['kissa', 'koira']\n"
     ]
    }
   ],
   "source": [
    "# data.txt sisältää 2 riviä\n",
    "# kissa\n",
    "# koira\n",
    "\n",
    "sisaltolista = [] # luodaan tyhjä lista\n",
    "\n",
    "datat = open(\"data.txt\", \"r\")\n",
    "\n",
    "for rivi in datat:\n",
    "  sisaltolista.append(rivi)\n",
    "\n",
    "datat.close()\n",
    "\n",
    "print(sisaltolista)\n",
    "\n",
    "# tulostaa ['kissa\\n', 'koira\\n']\n",
    "\n",
    "# UUSI YRITYS\n",
    "\n",
    "sisaltolista = [] # luodaan tyhjä lista\n",
    "\n",
    "datat = open(\"data.txt\", \"r\")\n",
    "\n",
    "for rivi in datat:\n",
    "  sisaltolista.append(rivi.rstrip())\n",
    "\n",
    "datat.close()\n",
    "\n",
    "print(sisaltolista)\n",
    "\n",
    "# tulostaa ['kissa', 'koira']"
   ]
  },
  {
   "cell_type": "markdown",
   "metadata": {},
   "source": [
    "### Tekstin kirjoittaminen avattuun tiedostoon\n",
    "Tekstiä kirjoitetaan **write**-funktiolla\n",
    "```\n",
    "tiedosto = open(\"data3.txt\", \"w\")\n",
    "\n",
    "tiedosto.write(\"Ensimmainen rivi\\n\")\n",
    "tiedosto.write(\"Toinen rivi\\n\")\n",
    "\n",
    "tiedosto.close()\n",
    "\n",
    "```\n",
    "\n",
    "Teksti ei välttämättä mene tiedostoon vielä write-funktion kutsussa, vaan kirjoitettavaa dataa kerätään ensin keskusmuistissa\n",
    "olevaan puskuriin, jonka sisältö siirretään itse tiedostoon suurempina\n",
    "osina. Ennen close-metodin suorittamista tulostettu tieto ei vielä välttämättä ole\n",
    "itse tiedostossa, vaan vasta puskurissa, eikä se näy, jos tiedostoa yrittää lukea jollain\n",
    "tavalla.\n",
    "\n",
    "write-funktiolla voidaan kirjoittaa vain merkkijonoja, eli luvut pitää muuttaa merkkijonoiksi ensin **str** -funktiolla.\n",
    "```\n",
    "tiedosto = open(\"data4.txt\", \"w\")\n",
    "kanta = 1.5\n",
    "ekspo = 4\n",
    "tulos = kanta ** ekspo\n",
    "tiedosto.write(str(kanta) + \" potenssiin \" + str(ekspo) + \" on \" + str(tulos) + \"\\n\")\n",
    "tiedosto.close()\n",
    "```\n",
    "\n",
    "Ylläoleva kirjoittaa tiedostoon\n",
    "1.5 potenssiin 4 on 5.0625\n",
    "\n",
    "### str.format()\n",
    "\n",
    "+-operaattorin ja str-funktion käyttö täysin kelvollinen tapa muotoilla merkkijonoja, mutta +-merkkejä ja str -kutsuja tulee helposti runsaasti. Muotoilulausekkeista on tällöin vaikea ilman ohjelman suorittamista nähdä, millaisia merkkijonoja ollaan tekemässä.\n",
    "\n",
    "Parempi on kuitenkin käyttää valmista metodia **str.format**. Tässä parametrit voi suoraviivaisesti lisätä oikeisiin kohtiin merkkijonossa käyttäen merkintää {}."
   ]
  },
  {
   "cell_type": "code",
   "execution_count": 1,
   "metadata": {},
   "outputs": [
    {
     "name": "stdout",
     "output_type": "stream",
     "text": [
      "Arvot ovat aasi, 1, 3.14 ja True\n"
     ]
    }
   ],
   "source": [
    "luku = 3.14\n",
    "print(\"Arvot ovat {}, {}, {} ja {}\".format(\"aasi\", 1, luku, True))"
   ]
  },
  {
   "cell_type": "markdown",
   "metadata": {},
   "source": [
    "Lisäämällä numeron aaltosulkujen väliin, voimme käyttää samoja parametreja useita kertoja ja mielivaltaisessa järjestyksessä:"
   ]
  },
  {
   "cell_type": "code",
   "execution_count": 25,
   "metadata": {},
   "outputs": [
    {
     "name": "stdout",
     "output_type": "stream",
     "text": [
      "---------------\n",
      "Kärjessä on Jyp\n",
      "---------------\n",
      "Toisena Kärpät\n",
      "---------------\n"
     ]
    }
   ],
   "source": [
    "print(\"{2}{3}Kärjessä on {0}{3}{2}{3}Toisena {1}{3}{2}\".format(\"Jyp\",\"Kärpät\", 15*\"-\", \"\\n\"))"
   ]
  },
  {
   "cell_type": "markdown",
   "metadata": {},
   "source": [
    "Numeroiden sijasta kentät voi myös nimetä:"
   ]
  },
  {
   "cell_type": "code",
   "execution_count": 27,
   "metadata": {},
   "outputs": [
    {
     "name": "stdout",
     "output_type": "stream",
     "text": [
      "Jyp edellä, Kärpät perässä \n",
      "Jyp siis johtaa\n"
     ]
    }
   ],
   "source": [
    "print(\"{eka} edellä, {toka} perässä \\n{eka} siis johtaa\".format(eka=\"Jyp\", toka=\"Kärpät\"))"
   ]
  },
  {
   "cell_type": "markdown",
   "metadata": {},
   "source": [
    "str.format-funktion {}-kenttää voi muotoilla lukuisilla eri tavoilla. Sen tyypillisin käyttötapa on {:Leveys.TarkkuusTyyppi}. Muutamia esimerkkejä:\n",
    "\n",
    "   * liukuluku (f), 6 merkkiä leveä kenttä, pyöristettynä nollan desimaalin tarkkuuteen: {:6.0f}\n",
    "   * liukuluku (f) pyöristettynä kolmen desimaalin tarkkuuteen, automaattinen kentän leveys: {:.3f}\n",
    "   *  kokonaisluku (d), automaattinen kentän leveys {:d}\n",
    "   * kokonaisluku (d), 5 merkkiä leveä kenttä: {:5d}\n",
    "\n",
    "Ennen kaksoispistettä voi käyttää nimeä, joka yhdistää kentän format-funktion parametriin:\n"
   ]
  },
  {
   "cell_type": "code",
   "execution_count": 38,
   "metadata": {},
   "outputs": [
    {
     "name": "stdout",
     "output_type": "stream",
     "text": [
      "Olosuhteet ovat: 310 K, 1.499 atm\n"
     ]
    }
   ],
   "source": [
    "print(\"Olosuhteet ovat: {T:d} K, {p:.3f} atm\".format(T = 310, p = 1.498760))"
   ]
  },
  {
   "cell_type": "markdown",
   "metadata": {},
   "source": [
    "Lisää esimerkkejä löytyy [Pythonin dokumentaatiosta](https://docs.python.org/3.7/library/string.html#format-examples)\n",
    "\n",
    "Esim. "
   ]
  },
  {
   "cell_type": "code",
   "execution_count": 34,
   "metadata": {},
   "outputs": [
    {
     "name": "stdout",
     "output_type": "stream",
     "text": [
      "*************jee**************\n"
     ]
    }
   ],
   "source": [
    "print(\"{:*^30}\".format('jee'))  # * = täytemerkki, ^ = keskitetty, 30 = kentän leveys"
   ]
  },
  {
   "cell_type": "markdown",
   "metadata": {},
   "source": [
    "Siispä ylempi esimerkki str.format-funktiota käyttäen"
   ]
  },
  {
   "cell_type": "code",
   "execution_count": 6,
   "metadata": {},
   "outputs": [],
   "source": [
    "tiedosto = open(\"data5.txt\", \"w\")\n",
    "kanta = 1.5\n",
    "ekspo = 4\n",
    "tulos = kanta ** ekspo\n",
    "tiedosto.write(\"{} potenssiin {} on {} \\n\".format(kanta, ekspo, tulos))\n",
    "tiedosto.close()"
   ]
  },
  {
   "cell_type": "markdown",
   "metadata": {},
   "source": [
    "Pythonissa voi käyttää myös C-kielen tyylistä syntaksia muuttujien lisäämiseen merkkijonoon %-merkkien avulla:"
   ]
  },
  {
   "cell_type": "code",
   "execution_count": 8,
   "metadata": {},
   "outputs": [
    {
     "name": "stdout",
     "output_type": "stream",
     "text": [
      "1.500000 potenssiin 4 on 5.062500 \n",
      "\n",
      "1.5 potenssiin 4 on 5.062 \n",
      "\n"
     ]
    }
   ],
   "source": [
    "kanta = 1.5\n",
    "ekspo = 4\n",
    "tulos = kanta ** ekspo\n",
    "print(\"%f potenssiin %i on %f \\n\" %(kanta, ekspo, tulos))\n",
    "print(\"%.1f potenssiin %i on %.3f \\n\" %(kanta, ekspo, tulos))\n"
   ]
  },
  {
   "cell_type": "markdown",
   "metadata": {
    "collapsed": true
   },
   "source": [
    "**Merkkijonoja voi koostaa siis usealla tavalla:**"
   ]
  },
  {
   "cell_type": "code",
   "execution_count": 26,
   "metadata": {},
   "outputs": [
    {
     "name": "stdout",
     "output_type": "stream",
     "text": [
      "1.5 potenssiin 4 on 5.0625\n",
      "1.5 potenssiin 4 on 5.0625\n",
      "1.500000 potenssiin 4 on 5.062500\n",
      "\n",
      " 1.5 potenssiin 4 on 5.0625 \n",
      "\n"
     ]
    }
   ],
   "source": [
    "kanta = 1.5\n",
    "ekspo = 4\n",
    "tulos = kanta ** ekspo\n",
    "mjono1 = str(kanta) + \" potenssiin \" + str(ekspo) + \" on \" + str(tulos)\n",
    "mjono2 = \"{} potenssiin {} on {}\".format(kanta, ekspo, tulos)\n",
    "mjono3 =\"%f potenssiin %i on %f\" %(kanta, ekspo, tulos)\n",
    "\n",
    "print(mjono1)\n",
    "print(mjono2)\n",
    "print(mjono3)\n",
    "\n",
    "\n",
    "\n",
    "#  print-funktiolle voi antaa myös useita paremetreja. Tällöin parametrien väliin tulee (oletuksena) välilyönti\n",
    "print(kanta,\"potenssiin\", ekspo, \"on\", tulos, \"\\n\")\n",
    "\n"
   ]
  },
  {
   "cell_type": "markdown",
   "metadata": {},
   "source": [
    "## Poikkeukset\n",
    "Ohjelman suorituksen aikana voi aiheutua erilaisia virhetilanteita. Tätä varten voidaan määritellä virhetilanteita (eli poikkeuksia) käsittelevä rakenne. Poikkeukset käsitellään try-rakenteilla, jotka sisältävät yhden try-osan ja vähintään yhden except-osan."
   ]
  },
  {
   "cell_type": "code",
   "execution_count": 36,
   "metadata": {},
   "outputs": [
    {
     "ename": "ZeroDivisionError",
     "evalue": "division by zero",
     "output_type": "error",
     "traceback": [
      "\u001b[1;31m---------------------------------------------------------------------------\u001b[0m",
      "\u001b[1;31mZeroDivisionError\u001b[0m                         Traceback (most recent call last)",
      "\u001b[1;32m<ipython-input-36-458a06271040>\u001b[0m in \u001b[0;36m<module>\u001b[1;34m()\u001b[0m\n\u001b[0;32m      2\u001b[0m \u001b[0mjakaja\u001b[0m \u001b[1;33m=\u001b[0m \u001b[1;36m0\u001b[0m\u001b[1;33m\u001b[0m\u001b[0m\n\u001b[0;32m      3\u001b[0m \u001b[1;33m\u001b[0m\u001b[0m\n\u001b[1;32m----> 4\u001b[1;33m \u001b[0mosamaara\u001b[0m \u001b[1;33m=\u001b[0m \u001b[0mjaettava\u001b[0m\u001b[1;33m/\u001b[0m\u001b[0mjakaja\u001b[0m\u001b[1;33m\u001b[0m\u001b[0m\n\u001b[0m",
      "\u001b[1;31mZeroDivisionError\u001b[0m: division by zero"
     ]
    }
   ],
   "source": [
    "jaettava = 34\n",
    "jakaja = 0\n",
    "\n",
    "osamaara = jaettava/jakaja"
   ]
  },
  {
   "cell_type": "code",
   "execution_count": 38,
   "metadata": {},
   "outputs": [
    {
     "name": "stdout",
     "output_type": "stream",
     "text": [
      "nollalla ei voi jakaa\n"
     ]
    }
   ],
   "source": [
    "jaettava = 34\n",
    "jakaja = 0\n",
    "try:\n",
    "  osamaara = jaettava/jakaja\n",
    "except:\n",
    "  print(\"nollalla ei voi jakaa\")"
   ]
  },
  {
   "cell_type": "markdown",
   "metadata": {},
   "source": [
    "Voidaan myös \"pyydystää\" vain tietyn tyyppisiä virheitä, yleisimpiä:\n",
    "* **ValueError**: tyyppimuunnos merkkijonosta luvuksi ei onnistunut\n",
    "* **OSError**: avattavaa tiedostoa ei löydy tai sen käsittelemisessä tapahtui virhe\n",
    "* **IndexError**: indeksi ei ole sallitulla välillä\n",
    "* **KeyError**: avainta ei ole sanakirjassa\n",
    "* **ZeroDivisionError**: ohjelmassa on yritetty jakaa nollalla\n"
   ]
  },
  {
   "cell_type": "code",
   "execution_count": 44,
   "metadata": {},
   "outputs": [
    {
     "name": "stdout",
     "output_type": "stream",
     "text": [
      "34.0\n"
     ]
    }
   ],
   "source": [
    "jaettava = 34\n",
    "jakaja = 1\n",
    "try:\n",
    "  osamaara = float(jaettava)/float(jakaja)\n",
    "  print(osamaara)\n",
    "except ZeroDivisionError:\n",
    "  print(\"nollalla ei voi jakaa\")\n",
    "except ValueError:\n",
    "  print(\"väärää tyyppiä\") "
   ]
  },
  {
   "cell_type": "markdown",
   "metadata": {},
   "source": [
    "Poikkeusta voidaan käyttää esim. kokonaisluvun pyytämiseen käyttäjältä. Tässä lukua kysytään niin kauan että syöte on luku:"
   ]
  },
  {
   "cell_type": "code",
   "execution_count": 50,
   "metadata": {},
   "outputs": [
    {
     "name": "stdout",
     "output_type": "stream",
     "text": [
      "Anna kokonaisluku:rr\n",
      "Virheellinen kokonaisluku!\n",
      "Anna uusi!\n",
      "Anna kokonaisluku:453\n",
      "luku tuplana on 906\n"
     ]
    }
   ],
   "source": [
    "def lue_kokonaisluku():\n",
    "  luku_onnistui = False\n",
    "  while not luku_onnistui:\n",
    "    try:\n",
    "      syote = input(\"Anna kokonaisluku:\")\n",
    "      luku = int(syote)\n",
    "      luku_onnistui = True\n",
    "    except ValueError:\n",
    "      print(\"Virheellinen kokonaisluku! Anna uusi!\")\n",
    "  return luku\n",
    "\n",
    "\n",
    "luku1 = lue_kokonaisluku()\n",
    "print(\"luku tuplana on\", 2 * luku1)"
   ]
  },
  {
   "cell_type": "markdown",
   "metadata": {},
   "source": [
    "try- ja except-lohkojen lisäksi rakenteessa voi olla else-osa, joka suoritetaan jos try-lohkossa ei tule poikkeuksia ja finally-osa, joka suoritetaan joka tapauksessa. Esimerkiksi tiedoston lukuvirheen jälkeen tiedoston sulkeminen voidaan tehdä  finally-osassa:"
   ]
  },
  {
   "cell_type": "code",
   "execution_count": 57,
   "metadata": {},
   "outputs": [
    {
     "name": "stdout",
     "output_type": "stream",
     "text": [
      "tiedotossa on 5 riviä\n"
     ]
    }
   ],
   "source": [
    "path = 'tdst.txt'\n",
    "tiedosto = None\n",
    "try:\n",
    "    tiedosto = open(path) \n",
    "    lineCount = 0\n",
    "    for line in tiedosto:\n",
    "      lineCount += 1\n",
    "    print(\"tiedotossa on {} riviä\".format(lineCount))\n",
    "except OSError:\n",
    "    print(\"ei onnistunut\")\n",
    "finally:\n",
    "    tiedosto.close()"
   ]
  },
  {
   "cell_type": "markdown",
   "metadata": {},
   "source": [
    "Kuitenkin OSError voi tulla jo rivillä \n",
    "> tiedosto = open(path)\n",
    "\n",
    "jos tiedoston avaaminen ei onnistu. Tällöin myös tiedosto.close() aiheuttaa virheen. Sitä ennen pitäisikin testata onko tiedosto auki:"
   ]
  },
  {
   "cell_type": "code",
   "execution_count": 59,
   "metadata": {},
   "outputs": [
    {
     "name": "stdout",
     "output_type": "stream",
     "text": [
      "ei onnistunut\n"
     ]
    }
   ],
   "source": [
    "path = 'tdst1.txt'\n",
    "tiedosto = None\n",
    "try:\n",
    "    tiedosto = open(path) \n",
    "    lineCount = 0\n",
    "    for line in tiedosto:\n",
    "      lineCount += 1\n",
    "    print(\"tiedotossa on {} riviä\".format(lineCount))\n",
    "except OSError:\n",
    "    print(\"ei onnistunut\")\n",
    "finally:\n",
    "    if tiedosto:\n",
    "      tiedosto.close()"
   ]
  },
  {
   "cell_type": "markdown",
   "metadata": {},
   "source": [
    "### with-rakenne\n",
    "Pythonissa on kuitenkin with-rakenne, jonka avulla voidaan hallitusti käyttää olioita, jotka edellyttävät siivoustoimenpiteitä käytön lopussa. Tiedoston avaaminen lukemista varten ja sulkeminen lopuksi hoituu siististi with-rakenteella. Oheinen sulkee mahdollisesti avoimen tiedoston tuli poikkeuksia tai ei, mutta poikkeukset pääsevät kuitenkin within ulkopuolelle, joten niihin on tarvittaessa varauduttava:"
   ]
  },
  {
   "cell_type": "code",
   "execution_count": 62,
   "metadata": {},
   "outputs": [
    {
     "name": "stdout",
     "output_type": "stream",
     "text": [
      "tiedotossa on 5 riviä\n"
     ]
    }
   ],
   "source": [
    "path = 'tdst.txt'\n",
    "try: \n",
    "  with open(path) as tiedosto:\n",
    "    lineCount = 0\n",
    "    for line in tiedosto:\n",
    "      lineCount += 1\n",
    "    print(\"tiedotossa on {} riviä\".format(lineCount))\n",
    "except OSError:\n",
    "   print(\"ei onnistunut\")\n"
   ]
  }
 ],
 "metadata": {
  "kernelspec": {
   "display_name": "Python 3",
   "language": "python",
   "name": "python3"
  },
  "language_info": {
   "codemirror_mode": {
    "name": "ipython",
    "version": 3
   },
   "file_extension": ".py",
   "mimetype": "text/x-python",
   "name": "python",
   "nbconvert_exporter": "python",
   "pygments_lexer": "ipython3",
   "version": "3.7.1"
  }
 },
 "nbformat": 4,
 "nbformat_minor": 2
}