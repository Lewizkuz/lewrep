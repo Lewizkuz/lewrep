{
 "cells": [
  {
   "cell_type": "markdown",
   "metadata": {},
   "source": [
    "\n",
    "# Datan analysointi K2019 - kerta 2\n",
    "## NumPy- ja Pandas-kirjastojen tietorakenteita\n",
    "### NumPy-kirjasto\n",
    "\n",
    "NumPy-kirjasto sisältää numeerisen laskennan työkaluja, tärkeimpänä **ndarray (tai array)**, eli taulukko, jolla voidaan kuvata vektoreita, matriiseja ja mitä tahansa moniulotteisia taulukoita. Numpy-taulukot mahdollistavat numeerisen laskennan eri tavoilla kuin tavalliset listat (ndarray = n-dimensional array).\n",
    "\n",
    "Lisäksi NumPy sisältää lukuisia funktioita taulukoiden käsittelyyn, matriisilaskentaan ja tilastolliseen laskentaan.  Numpy-taulukoiden ja –funktioiden toteutukset on hiottu erittäin nopeiksi.\n",
    "\n",
    "[NumPy-sivut](https://docs.scipy.org/doc/numpy/user/index.html)\n",
    "\n",
    "### Numpy-kirjaston tuonti\n",
    "numpy-kirjasto otetaan käyttöön koodissa `import numpy` -käskyllä. Vakiintunut käytäntö on käyttää aliasta `np`:\n",
    "\n",
    "`import numpy as np`\n",
    "\n",
    "Tämän jälkeen koodissa NumPyn funktioita voi kutsua lyhennettä `np` käyttäen.\n",
    "\n",
    "### NumPy-taulukko (array)\n",
    "Taulukoita (array) voi luoda  Pythonin listoista (tai tupleista) numpy.array-funktiolla. \n",
    "\n"
   ]
  },
  {
   "cell_type": "code",
   "execution_count": 11,
   "metadata": {},
   "outputs": [],
   "source": [
    "import numpy as np\n",
    "\n",
    "# Luodaan yksiulotteinen neljan alkion taulukko (eli vektori)\n",
    "\n",
    "vektori = np.array([10, 20, 30, 40])"
   ]
  },
  {
   "cell_type": "markdown",
   "metadata": {},
   "source": [
    "Taulukon alkiohin viittaaminen toimii kuten listojen kanssa:"
   ]
  },
  {
   "cell_type": "code",
   "execution_count": 12,
   "metadata": {},
   "outputs": [],
   "source": [
    "eka = vektori[0] # 10\n",
    "toka = vektori[1] # 20\n",
    "vika_1 = vektori[3] # 40\n",
    "vika_2 = vektori[-1] # 40, viimeinen alkio\n",
    "vika_2 = vektori[-2] # 30, toiseksi viimeinen alkio"
   ]
  },
  {
   "cell_type": "markdown",
   "metadata": {},
   "source": [
    "Toisin kuin listat, NumPy-taulukot eivät kuitenkaan voi sisältää eri tyyppisiä alkioita. Jos luontiin käytettävän listan alkiot ovat eri tyyppisiä, NumPy muuttaa kaikki alkiot \"yleisimmäksi\" datatyypiksi."
   ]
  },
  {
   "cell_type": "code",
   "execution_count": 13,
   "metadata": {},
   "outputs": [
    {
     "name": "stdout",
     "output_type": "stream",
     "text": [
      "[1.  3.  3.1]\n",
      "['1' '2.1' '3']\n"
     ]
    }
   ],
   "source": [
    "lista1 = [1, 3, 3.1]\n",
    "nptaulukko1 = np.array(lista1)\n",
    "print(nptaulukko1)  # kaikki floateja\n",
    "\n",
    "lista2 = [1, 2.1, \"3\"]\n",
    "nptaulukko2 = np.array(lista2)\n",
    "print(nptaulukko2)  # kaikki stringejä\n",
    "\n"
   ]
  },
  {
   "cell_type": "markdown",
   "metadata": {},
   "source": [
    "Kaksiulotteisen NumPy-taulukon eli matriisin, voi luoda samalla tavalla listojen listasta:"
   ]
  },
  {
   "cell_type": "code",
   "execution_count": 14,
   "metadata": {},
   "outputs": [
    {
     "name": "stdout",
     "output_type": "stream",
     "text": [
      "[[10 20 30]\n",
      " [40 50 60]]\n"
     ]
    }
   ],
   "source": [
    "matriisi = np.array([[10, 20, 30],\n",
    "                     [40, 50, 60]])\n",
    "\n",
    "print(matriisi)"
   ]
  },
  {
   "cell_type": "markdown",
   "metadata": {},
   "source": [
    "Kaksiulotteisten NumPy-taulukkojen alkioihin voi viitata  `taulukko[rivi, sarake]` -merkinnällä.\n",
    "Myös tavallisista listoista tuttu merkintä `taulukko[rivi][sarake]`  toimii, mutta on kömpelömpi."
   ]
  },
  {
   "cell_type": "code",
   "execution_count": 15,
   "metadata": {},
   "outputs": [
    {
     "name": "stdout",
     "output_type": "stream",
     "text": [
      "60\n"
     ]
    }
   ],
   "source": [
    "ekan_eka = matriisi[0, 0] # 10\n",
    "tokan_toka = matriisi[1, 1] # 50\n",
    "tokan_vika = matriisi[1, -1] # 60\n",
    "tokan_vika2 = matriisi[1][-1] # 60\n",
    "\n",
    "print(tokan_vika)\n"
   ]
  },
  {
   "cell_type": "markdown",
   "metadata": {},
   "source": [
    "Vastaavasti matriisi voi olla myös useampiulotteinen:"
   ]
  },
  {
   "cell_type": "code",
   "execution_count": 16,
   "metadata": {},
   "outputs": [
    {
     "name": "stdout",
     "output_type": "stream",
     "text": [
      "9\n",
      "[[[ 1  2  3]\n",
      "  [ 4  5  6]]\n",
      "\n",
      " [[ 7  8  9]\n",
      "  [10 11 12]]]\n"
     ]
    }
   ],
   "source": [
    "kolmed_matr = np.array([[[1, 2, 3],\n",
    "                         [4, 5, 6]],\n",
    "                        [[7, 8, 9],\n",
    "                         [10, 11, 12]]])\n",
    "print(kolmed_matr[1,0,2])\n",
    "print(kolmed_matr)"
   ]
  },
  {
   "cell_type": "markdown",
   "metadata": {},
   "source": [
    "Taulukon ulottuvuudet voi selvittää `numpy.ndim` -funktiolla.  \n",
    "`numpy.shape`-funktio palauttaa taulukon ulottuvuuksien dimensiot.  \n",
    "Yksittäisen ulottuvuuden dimension (alkioiden määrän) saa `len`-funktiolla.\n"
   ]
  },
  {
   "cell_type": "code",
   "execution_count": 17,
   "metadata": {},
   "outputs": [
    {
     "name": "stdout",
     "output_type": "stream",
     "text": [
      "3\n",
      "(2, 2, 3)\n",
      "3\n"
     ]
    }
   ],
   "source": [
    "print(np.ndim(kolmed_matr)) # toimii myös kolmed_matr.ndim\n",
    "print(np.shape(kolmed_matr))\n",
    "print(len(kolmed_matr[1,1]))\n"
   ]
  },
  {
   "cell_type": "markdown",
   "metadata": {},
   "source": [
    "Taulukon voi tehdä myös valmiilla NumPyn alustusfunktioilla:\n",
    "* `numpy.zeros` tekee taulukon jossa kaikki alkiot on nollia\n",
    "* `numpy.arange` toimii kuten for-silmukan kanssa käytettävä range-funktio\n",
    "* `numpy.linspace` täyttää taulukon tasavälein olevilla liukuluvuilla \n"
   ]
  },
  {
   "cell_type": "code",
   "execution_count": 18,
   "metadata": {},
   "outputs": [
    {
     "name": "stdout",
     "output_type": "stream",
     "text": [
      "[0. 0. 0. 0. 0. 0. 0. 0. 0. 0.]\n",
      "[[0. 0. 0.]\n",
      " [0. 0. 0.]\n",
      " [0. 0. 0.]\n",
      " [0. 0. 0.]\n",
      " [0. 0. 0.]]\n",
      "\n",
      "\n",
      "[ 1  2  3  4  5  6  7  8  9 10]\n",
      "[  0  10  20  30  40  50  60  70  80  90 100]\n",
      "[10  9  8  7  6  5  4  3  2  1]\n",
      "\n",
      "\n",
      "[ 0.   2.5  5.   7.5 10. ]\n"
     ]
    }
   ],
   "source": [
    "print(np.zeros(10))\n",
    "print(np.zeros([5, 3])) # toimisi myös tuplella np.zeros((5, 3))\n",
    "\n",
    "print(\"\\n\")\n",
    "\n",
    "print(np.arange(1, 11)) # alku, loppu. Loppu ei tule mukaan\n",
    "print(np.arange(0, 101, 10)) # alku, loppu, askel\n",
    "print(np.arange(10, 0, -1)) # alku, loppu, askel\n",
    "\n",
    "print(\"\\n\")\n",
    "\n",
    "print(np.linspace(0, 10, 5)) # alku, loppu, lukujen määrä\n"
   ]
  },
  {
   "cell_type": "markdown",
   "metadata": {},
   "source": [
    "`reshape`-funktiolla voidaan muuttaa matriisin muotoa:"
   ]
  },
  {
   "cell_type": "code",
   "execution_count": 19,
   "metadata": {},
   "outputs": [
    {
     "name": "stdout",
     "output_type": "stream",
     "text": [
      "[ 0  2  4  6  8 10 12 14 16 18 20 22]\n",
      "\n",
      "\n",
      "[[ 0  2  4  6]\n",
      " [ 8 10 12 14]\n",
      " [16 18 20 22]]\n",
      "\n",
      "\n",
      "[[ 0  2]\n",
      " [ 4  6]\n",
      " [ 8 10]\n",
      " [12 14]\n",
      " [16 18]\n",
      " [20 22]]\n"
     ]
    }
   ],
   "source": [
    "taul1 = np.arange(0,24,2)\n",
    "print(taul1)\n",
    "\n",
    "print(\"\\n\")\n",
    "\n",
    "taul2 = taul1.reshape((3, 4))\n",
    "print(taul2)\n",
    "\n",
    "print(\"\\n\")\n",
    "\n",
    "taul3 = taul1.reshape((6, 2))\n",
    "print(taul3)\n"
   ]
  },
  {
   "cell_type": "markdown",
   "metadata": {},
   "source": [
    "### NumPy-taulukon siivuttaminen (slicing)\n",
    "NumPy-taulukoiden siivuttaminen toimii samaan tapaan kuin listojen siivuttaminen. Merkinnässä [start:stop:askel], \n",
    "stop-alkio ei siis kuulu enää siivuun. askel-osuus ei ole pakollinen."
   ]
  },
  {
   "cell_type": "code",
   "execution_count": 20,
   "metadata": {},
   "outputs": [
    {
     "name": "stdout",
     "output_type": "stream",
     "text": [
      "[ 10  20  30  40  50  60  70  80  90 100]\n",
      "\n",
      "\n",
      "[30 40 50]\n",
      "\n",
      "\n",
      "[90 80 70 60 50]\n",
      "\n",
      "\n",
      "[[ 1  2  3  4]\n",
      " [ 5  6  7  8]\n",
      " [ 9 10 11 12]]\n",
      "\n",
      "\n",
      "[6 7]\n",
      "\n",
      "\n",
      "[11 12]\n"
     ]
    }
   ],
   "source": [
    "vektori = np.arange(10, 110, 10)\n",
    "print(vektori)\n",
    "\n",
    "print(\"\\n\")\n",
    "\n",
    "siivu1 = vektori[2:5]\n",
    "print(siivu1)\n",
    "\n",
    "print(\"\\n\")\n",
    "\n",
    "print(vektori[-2:3:-1])\n",
    "\n",
    "print(\"\\n\")\n",
    "\n",
    "matriisi = np.array([[1, 2, 3, 4],\n",
    "                     [5, 6, 7, 8],\n",
    "                     [9, 10, 11, 12]])\n",
    "print(matriisi)\n",
    "\n",
    "print(\"\\n\")\n",
    "\n",
    "print(matriisi[1, 1:3])\n",
    "\n",
    "print(\"\\n\")\n",
    "\n",
    "print(matriisi[2, -2:])\n"
   ]
  },
  {
   "cell_type": "markdown",
   "metadata": {},
   "source": [
    "NumPy-tarjoaa myös käytännöllisen `:` -indeksoinnin. `:` -indeksi tarkoittaa kyseisen ulottuvuuden kaikkia indeksejä:"
   ]
  },
  {
   "cell_type": "code",
   "execution_count": 21,
   "metadata": {},
   "outputs": [
    {
     "name": "stdout",
     "output_type": "stream",
     "text": [
      "[ 3  7 11]\n",
      "[5 6 7 8]\n",
      "[5 6 7 8]\n"
     ]
    }
   ],
   "source": [
    "M = np.array([[1, 2, 3, 4],\n",
    "              [5, 6, 7, 8],\n",
    "              [9, 10, 11, 12]])\n",
    "# Matriisin M kaikkien rivien kolmas sarake\n",
    "print(M[:, 2]) # array([ 3,  7, 11])\n",
    "# Matriisin M toisen rivin kaikki sarakkeet\n",
    "print(M[1, :]) # array([5, 6, 7, 8])\n",
    "# Tätä vastaa myös lyhennetty merkintä, jossa sarakkeet voi jättää pois\n",
    "print(M[1])    # array([5, 6, 7, 8])\n"
   ]
  },
  {
   "cell_type": "markdown",
   "metadata": {},
   "source": [
    "NumPy-taulukoiden siivuttaminen on toteutuu siis paljon yksinkertaisemmalla syntaksilla kuin python-listojen:"
   ]
  },
  {
   "cell_type": "code",
   "execution_count": 22,
   "metadata": {},
   "outputs": [
    {
     "name": "stdout",
     "output_type": "stream",
     "text": [
      "['a', 'c']\n",
      "['a' 'c']\n"
     ]
    }
   ],
   "source": [
    "# kaivetaan \"2D\"-python listasta \"1. sarake\"\n",
    "x = [[\"a\", \"b\"], [\"c\", \"d\"]]\n",
    "print([x[0][0], x[1][0]])\n",
    "\n",
    "# sama NumPy-taulukolla\n",
    "np_x = np.array(x)\n",
    "print(np_x[:,0])"
   ]
  },
  {
   "cell_type": "markdown",
   "metadata": {},
   "source": [
    "Siivuttaminen ei kuitenkaan anna uutta taulukkoa vaan eräänlaisen \"näkymän\" (view) alkuperäiseen taulukkoon (tämä liittyy muistin käsittelyn optimointiin). Niinpä näkymään tehtävät muutokset vaikuttavat myös alkuperäiseen taulukkoon:"
   ]
  },
  {
   "cell_type": "code",
   "execution_count": 23,
   "metadata": {},
   "outputs": [
    {
     "name": "stdout",
     "output_type": "stream",
     "text": [
      "[3 4 5]\n",
      "[ 3 10  5]\n",
      "[ 1  2  3 10  5  6  7  8]\n",
      "[  6 100   8]\n",
      "[ 1  2  3 10  5  6  7  8]\n"
     ]
    }
   ],
   "source": [
    "taul1 = np.array([1, 2, 3, 4, 5, 6, 7, 8])\n",
    "taul2 = taul1[2:5]\n",
    "\n",
    "print(taul2)  # [3 4 5]\n",
    "\n",
    "taul2[1] = 10\n",
    "\n",
    "print(taul2) # [ 3 10  5] \n",
    "print(taul1)  # myös taul1 on muuttunut!  [ 1  2  3 10  5  6  7  8]\n",
    "\n",
    "# uuden taulukon saa copy()-funktiolla\n",
    "\n",
    "taul3 = taul1[5:8].copy()\n",
    "taul3[1] = 100\n",
    "\n",
    "print(taul3)\n",
    "print(taul1)  # ei ole muuttunut\n"
   ]
  },
  {
   "cell_type": "markdown",
   "metadata": {},
   "source": [
    "### Laskutoimitukset NumPy-taulukoilla\n",
    "NumPy-taulukon voi kertoa/jakaa/summata yms. skalaariarvon (luvun) kanssa, jolloin NumPy tekee operaation jokaiselle alkiolle erikseen:"
   ]
  },
  {
   "cell_type": "code",
   "execution_count": 24,
   "metadata": {},
   "outputs": [
    {
     "name": "stdout",
     "output_type": "stream",
     "text": [
      "[ 6  8 12 14 16]\n",
      "\n",
      "\n",
      "[ 0.5  4.5 24.5 40.5 60.5]\n"
     ]
    }
   ],
   "source": [
    "vektori = np.array([1, 3, 7, 9, 11]) \n",
    "v2 = vektori + 5\n",
    "print(v2)\n",
    "\n",
    "print(\"\\n\")\n",
    "\n",
    "v3 = (vektori ** 2)/2\n",
    "print(v3)\n"
   ]
  },
  {
   "cell_type": "markdown",
   "metadata": {},
   "source": [
    "NumPy-taulukoita voi myos lisätä, kertoa ja jakaa keskenään. \n",
    "Operaatiot tehdaan alkioittain, joten taulukoiden dimensioiden tulee täsmätä."
   ]
  },
  {
   "cell_type": "code",
   "execution_count": 27,
   "metadata": {},
   "outputs": [
    {
     "name": "stdout",
     "output_type": "stream",
     "text": [
      "[ 1.5  2.   8.   9.1 14. ]\n",
      "\n",
      "\n",
      "[ 0.5 -3.   7.   0.9 33. ]\n",
      "\n",
      "\n",
      "[4.00000000e+00 9.00000000e+00 4.90000000e+01 8.10000000e+03\n",
      " 1.34444444e+01]\n",
      "\n",
      "\n"
     ]
    },
    {
     "ename": "ValueError",
     "evalue": "operands could not be broadcast together with shapes (5,) (3,) ",
     "output_type": "error",
     "traceback": [
      "\u001b[1;31m---------------------------------------------------------------------------\u001b[0m",
      "\u001b[1;31mValueError\u001b[0m                                Traceback (most recent call last)",
      "\u001b[1;32m<ipython-input-27-fbb50070d193>\u001b[0m in \u001b[0;36m<module>\u001b[1;34m\u001b[0m\n\u001b[0;32m     14\u001b[0m \u001b[0mprint\u001b[0m\u001b[1;33m(\u001b[0m\u001b[1;34m\"\\n\"\u001b[0m\u001b[1;33m)\u001b[0m\u001b[1;33m\u001b[0m\u001b[1;33m\u001b[0m\u001b[0m\n\u001b[0;32m     15\u001b[0m \u001b[1;33m\u001b[0m\u001b[0m\n\u001b[1;32m---> 16\u001b[1;33m \u001b[0mprint\u001b[0m\u001b[1;33m(\u001b[0m\u001b[0mvektori1\u001b[0m \u001b[1;33m+\u001b[0m \u001b[0mnp\u001b[0m\u001b[1;33m.\u001b[0m\u001b[0marray\u001b[0m\u001b[1;33m(\u001b[0m\u001b[1;33m[\u001b[0m\u001b[1;36m3\u001b[0m\u001b[1;33m,\u001b[0m\u001b[1;36m4\u001b[0m\u001b[1;33m,\u001b[0m\u001b[1;36m5\u001b[0m\u001b[1;33m]\u001b[0m\u001b[1;33m)\u001b[0m\u001b[1;33m)\u001b[0m \u001b[1;31m# virheilmoitus\u001b[0m\u001b[1;33m\u001b[0m\u001b[1;33m\u001b[0m\u001b[0m\n\u001b[0m",
      "\u001b[1;31mValueError\u001b[0m: operands could not be broadcast together with shapes (5,) (3,) "
     ]
    }
   ],
   "source": [
    "vektori1 = np.array([1, 3, 7, 9, 11]) \n",
    "vektori2 = np.array([0.5 , -1, 1, 0.1, 3])\n",
    "\n",
    "print(vektori1 + vektori2)\n",
    "\n",
    "print(\"\\n\")\n",
    "\n",
    "print(vektori1 * vektori2)\n",
    "\n",
    "print(\"\\n\")\n",
    "\n",
    "print((vektori1 / vektori2)**2)\n",
    "\n",
    "print(\"\\n\")\n",
    "\n",
    "print(vektori1 + np.array([3,4,5])) # virheilmoitus"
   ]
  },
  {
   "cell_type": "markdown",
   "metadata": {},
   "source": [
    "Seuraavassa matriisin M jokainen rivi kerrotaan alkioittain vektorilla a (kyseessä ei ole matriisien pistetulo)."
   ]
  },
  {
   "cell_type": "code",
   "execution_count": 28,
   "metadata": {},
   "outputs": [
    {
     "name": "stdout",
     "output_type": "stream",
     "text": [
      "[[ 1  4  9 16]\n",
      " [ 5 12 21 32]\n",
      " [ 9 20 33 48]]\n"
     ]
    }
   ],
   "source": [
    "M = np.array([[1, 2, 3, 4],\n",
    "              [5, 6, 7, 8],\n",
    "              [9, 10, 11, 12]])\n",
    "a = np.array([1, 2, 3, 4])\n",
    "print(M * a)"
   ]
  },
  {
   "cell_type": "markdown",
   "metadata": {},
   "source": [
    "NumPyn omia matemaattisia funktioita käyttäen voidaan laskutoimitukset tehdä alkoittain NumPy-taulukolle"
   ]
  },
  {
   "cell_type": "code",
   "execution_count": 31,
   "metadata": {},
   "outputs": [
    {
     "name": "stdout",
     "output_type": "stream",
     "text": [
      "[  0  10  20  30  40  50  60  70  80  90 100 110 120 130 140 150 160 170\n",
      " 180 190 200 210 220 230 240 250 260 270 280 290 300 310 320 330 340 350\n",
      " 360]\n",
      "\n",
      "\n",
      "[0.         0.17453293 0.34906585 0.52359878 0.6981317  0.87266463\n",
      " 1.04719755 1.22173048 1.3962634  1.57079633 1.74532925 1.91986218\n",
      " 2.0943951  2.26892803 2.44346095 2.61799388 2.7925268  2.96705973\n",
      " 3.14159265 3.31612558 3.4906585  3.66519143 3.83972435 4.01425728\n",
      " 4.1887902  4.36332313 4.53785606 4.71238898 4.88692191 5.06145483\n",
      " 5.23598776 5.41052068 5.58505361 5.75958653 5.93411946 6.10865238\n",
      " 6.28318531]\n",
      "\n",
      "\n",
      "[ 0.00000000e+00  1.73648178e-01  3.42020143e-01  5.00000000e-01\n",
      "  6.42787610e-01  7.66044443e-01  8.66025404e-01  9.39692621e-01\n",
      "  9.84807753e-01  1.00000000e+00  9.84807753e-01  9.39692621e-01\n",
      "  8.66025404e-01  7.66044443e-01  6.42787610e-01  5.00000000e-01\n",
      "  3.42020143e-01  1.73648178e-01  1.22464680e-16 -1.73648178e-01\n",
      " -3.42020143e-01 -5.00000000e-01 -6.42787610e-01 -7.66044443e-01\n",
      " -8.66025404e-01 -9.39692621e-01 -9.84807753e-01 -1.00000000e+00\n",
      " -9.84807753e-01 -9.39692621e-01 -8.66025404e-01 -7.66044443e-01\n",
      " -6.42787610e-01 -5.00000000e-01 -3.42020143e-01 -1.73648178e-01\n",
      " -2.44929360e-16]\n"
     ]
    }
   ],
   "source": [
    "import math\n",
    "vektori  = np.arange(0,370,10)\n",
    "print(vektori)\n",
    "print('\\n')\n",
    "print(np.radians(vektori))\n",
    "print('\\n')\n",
    "print(np.sin(np.radians(vektori)))\n"
   ]
  },
  {
   "cell_type": "markdown",
   "metadata": {},
   "source": [
    "Myös Jupyter notebookissa on yksinkertainen toiminto käytettävissä olevien funktioiden listaamiseen: kirjoitetaan `np.` ja painetaan sarkainnäppäintä, jolloin saadaan lista funktioista.\n",
    "\n",
    "![funktiolista](http://student.labranet.jamk.fi/~varpe/datananalk2019/kerta2/funktiolista.png)"
   ]
  },
  {
   "cell_type": "markdown",
   "metadata": {},
   "source": [
    "NumPy sisältää myös taulukolle tehtäviä tilastollisia funktioita:\n",
    "* `numpy.sum` laskee alkoiden summan\n",
    "* `numpy.prod` laskee alkoiden tulon\n",
    "* `numpy.mean` laskee alkoiden keskiarvon\n",
    "* `numpy.median` laskee alkoiden mediaanin\n",
    "* `numpy.std` laskee alkoiden keskihajonnan\n",
    "* `numpy.amax` antaa suurimman arvon\n",
    "* `numpy.amin` antaa pienimmän arvon\n",
    "\n",
    "näitä voi kutsua myös tyyliin `taulukko.sum()`\n"
   ]
  },
  {
   "cell_type": "code",
   "execution_count": 32,
   "metadata": {},
   "outputs": [
    {
     "name": "stdout",
     "output_type": "stream",
     "text": [
      "keskiarvo: 14.166666666666666\n",
      "mediaani: 7.5\n",
      "suurin: 56\n",
      "pienin: 1\n",
      "summa: 85\n",
      "summa, toinen tapa: 85\n"
     ]
    }
   ],
   "source": [
    "taul = np.array([1, 56, 5, 10, 11, 2])\n",
    "print(\"keskiarvo:\", np.mean(taul))\n",
    "print(\"mediaani:\", np.median(taul))\n",
    "print(\"suurin:\", np.max(taul))\n",
    "print(\"pienin:\", np.amin(taul))\n",
    "print(\"summa:\", np.sum(taul))\n",
    "print(\"summa, toinen tapa:\", taul.sum())"
   ]
  },
  {
   "cell_type": "markdown",
   "metadata": {},
   "source": [
    "### NumPy-taulukko vs. lista\n",
    "NumPy-taulukoilla laskeminen eroaa siis periaatteltaan vastaavista operaatioista Python-listoilla:"
   ]
  },
  {
   "cell_type": "code",
   "execution_count": 3,
   "metadata": {},
   "outputs": [
    {
     "name": "stdout",
     "output_type": "stream",
     "text": [
      "[1, 2, 3, 10, 20, 30]\n",
      "[1, 2, 3, 1, 2, 3]\n",
      "---------------\n",
      "[11 22 33]\n",
      "[10 20 30]\n"
     ]
    }
   ],
   "source": [
    "import numpy as np\n",
    "l1 = [1, 2, 3]\n",
    "l2 = [10, 20, 30]\n",
    "print(l1+l2)\n",
    "print(l1*2)\n",
    "\n",
    "print(15*'-')\n",
    "\n",
    "np_l1 = np.array(l1)\n",
    "np_l2 = np.array(l2)\n",
    "print(np_l1+np_l2)\n",
    "print(np_l2)\n"
   ]
  },
  {
   "cell_type": "markdown",
   "metadata": {},
   "source": [
    "Jos Python-listassa haluaisi kertoa kaikki alkiot kahdella, pitäisi käyttää for-silmukkaa"
   ]
  },
  {
   "cell_type": "code",
   "execution_count": 33,
   "metadata": {},
   "outputs": [
    {
     "name": "stdout",
     "output_type": "stream",
     "text": [
      "[2, 4, 6]\n",
      "{2, 4, 6}\n"
     ]
    }
   ],
   "source": [
    "l1 = [1, 2, 3]\n",
    "l2 = []\n",
    "for i in l1:\n",
    "  l2.append(i*2)\n",
    "\n",
    "print(l2)\n",
    "\n",
    "# voidaan käyttää myös list comprehension -rakennetta:\n",
    "l3 = {x * 2 for x in l1}\n",
    "print(l3)"
   ]
  },
  {
   "cell_type": "markdown",
   "metadata": {},
   "source": [
    "### NumPy-taulukon suodatus Boolean-taulukolla\n",
    "NumPy-taulukkoa voi suodattaa antamalla \"siivutukseen\" samanmittainen Boolean-taulukko, jossa jokainen alkio on joko True tai False:"
   ]
  },
  {
   "cell_type": "code",
   "execution_count": 34,
   "metadata": {},
   "outputs": [
    {
     "name": "stdout",
     "output_type": "stream",
     "text": [
      "[1 4 5]\n"
     ]
    }
   ],
   "source": [
    "arr = np.array([1, 2, 3, 4, 5, 6])\n",
    "arr2 = np.array([True, False, False, True, True, False])\n",
    "print(arr[arr2])"
   ]
  },
  {
   "cell_type": "markdown",
   "metadata": {},
   "source": [
    "True/False -taulukon saa helposti NumPy-taulukosta esim. vertailuoperaattoreilla"
   ]
  },
  {
   "cell_type": "code",
   "execution_count": 35,
   "metadata": {},
   "outputs": [
    {
     "name": "stdout",
     "output_type": "stream",
     "text": [
      "[False  True False  True False  True]\n"
     ]
    }
   ],
   "source": [
    "arr = np.array([1, 2, 3, 4, 5, 6])\n",
    "arr2 = arr % 2 == 0 # jakojäännös on 0, eli parillinen luku\n",
    "print(arr2)"
   ]
  },
  {
   "cell_type": "markdown",
   "metadata": {},
   "source": [
    "Yhdistämällä nämä kaksi juttua nähdään, että NumPy-taulukkoa voi suodattaa helposti:"
   ]
  },
  {
   "cell_type": "code",
   "execution_count": 36,
   "metadata": {},
   "outputs": [
    {
     "name": "stdout",
     "output_type": "stream",
     "text": [
      "[2 4 6]\n",
      "[3 4 5 6]\n"
     ]
    }
   ],
   "source": [
    "arr = np.array([1, 2, 3, 4, 5, 6])\n",
    "arr3 = arr[arr % 2 == 0]\n",
    "arr4 = arr[arr > 2]\n",
    "print(arr3)\n",
    "print(arr4)"
   ]
  },
  {
   "cell_type": "code",
   "execution_count": 37,
   "metadata": {},
   "outputs": [
    {
     "name": "stdout",
     "output_type": "stream",
     "text": [
      "[15 32 34]\n",
      "[15 13 32 34  6]\n"
     ]
    }
   ],
   "source": [
    "# oletetaan että tyypit ja lukemat vastaavat järjestyksessä toisiaan:\n",
    "\n",
    "tyypit = np.array(['A', 'C', 'B', 'A', 'A', 'D', 'B', 'C'])\n",
    "lukemat = np.array([15, 21, 13, 32, 34, 45, 6, 1])\n",
    "\n",
    "# valitaan lukemat tyypeistä A\n",
    "print(lukemat[tyypit == 'A'])\n",
    "\n",
    "# valitaan lukemat tyypeistä A ja B. \n",
    "# Avainsanat and tai or eivät toimi Boolean-listoilla, vaan pitää käyttää & tai |\n",
    "print(lukemat[(tyypit == 'A') | (tyypit == 'B')])\n"
   ]
  },
  {
   "cell_type": "markdown",
   "metadata": {},
   "source": [
    "Boolean-taulukon avulla voidaan myös muuttaa vain suodatettuja arvoja:"
   ]
  },
  {
   "cell_type": "code",
   "execution_count": 38,
   "metadata": {},
   "outputs": [
    {
     "name": "stdout",
     "output_type": "stream",
     "text": [
      "[False  True False  True False  True]\n",
      "[1 0 3 0 5 0]\n"
     ]
    }
   ],
   "source": [
    "taul1 = np.array([1, 2, 3, 4, 5, 6])\n",
    "\n",
    "# suodatetaan parilliset luvut ja muutetaan ne nolliksi\n",
    "\n",
    "taul2 = taul1 % 2 == 0\n",
    "print(taul2)  # Boolean-taulukko\n",
    "\n",
    "\n",
    "taul1[taul2] = 0   # tai suoraan taul1[taul1 % 2 == 0] = 0\n",
    "\n",
    "print(taul1)\n"
   ]
  },
  {
   "cell_type": "markdown",
   "metadata": {},
   "source": [
    "Boolean-taulukolla suodattaminen antaa kopion taulukosta/taulukon osasta, ei näkymää kuten siivuttaminen:"
   ]
  },
  {
   "cell_type": "code",
   "execution_count": 39,
   "metadata": {},
   "outputs": [
    {
     "name": "stdout",
     "output_type": "stream",
     "text": [
      "[2 4 6]\n",
      "[100   4   6]\n",
      "[1 2 3 4 5 6]\n"
     ]
    }
   ],
   "source": [
    "taul1 = np.array([1, 2, 3, 4, 5, 6])\n",
    "\n",
    "taul2 =  taul1[taul1 % 2 == 0]\n",
    "print(taul2)\n",
    "\n",
    "taul2[0] = 100\n",
    "\n",
    "print(taul2)\n",
    "print(taul1)"
   ]
  },
  {
   "cell_type": "markdown",
   "metadata": {},
   "source": [
    "### Lajittelu\n",
    "`taulukko.sort()` lajittelee taulukon, `numpy.sort(taulukko)` antaa taulukosta lajitellun kopion.\n",
    "Kumpaankaan lajittelutapaan ei ole mahdollista määrittää järjestystä nouseva/laskeva. Usein käytetään kikkaa `taulukko[::-1]` kääntämään taulukon alkoiden järjestys.\n"
   ]
  },
  {
   "cell_type": "code",
   "execution_count": 40,
   "metadata": {},
   "outputs": [
    {
     "name": "stdout",
     "output_type": "stream",
     "text": [
      "[ 3  5  1 -2  0  4]\n",
      "[-2  0  1  3  4  5]\n",
      "\n",
      "----------\n",
      "\n",
      "[ 3  5  1 -2  0  4]\n",
      "[-2  0  1  3  4  5]\n",
      "[ 3  5  1 -2  0  4]\n",
      "[ 5  4  3  1  0 -2]\n"
     ]
    }
   ],
   "source": [
    "taul1 = np.array([3, 5, 1, -2, 0, 4])\n",
    "print(taul1)\n",
    "\n",
    "taul1.sort()\n",
    "print(taul1)\n",
    "\n",
    "print('\\n----------\\n')\n",
    "\n",
    "taul1 = np.array([3, 5, 1, -2, 0, 4])\n",
    "print(taul1)\n",
    "\n",
    "taul2 = np.sort(taul1)\n",
    "print(taul2)\n",
    "print(taul1)\n",
    "\n",
    "taul3 = np.sort(taul1)[::-1]\n",
    "print(taul3)\n",
    "\n"
   ]
  },
  {
   "cell_type": "markdown",
   "metadata": {},
   "source": [
    "## pandas-kirjasto \n",
    "Pythonin käytetyin kirjasto data-analyysissa on **pandas**. pandas tarjoaa nopeat, helpot ja monipuoliset välineet taulukkomuotoisen datan käsittelyyn, erityisesti Series- ja DataFrame-tietorakenteet. pandas on rakennettu NumPyn pohjalle, joten NumPy-taulukon käsittelyn periaatteet toimivat myös pandasissa,(mm. alkioittan tehtävät laskutoimitukset ilman for-silmukoita).\n",
    "\n",
    "Suurin ero kirjastojen välillä on pandasin käyttökelpoisuus taulukkomuotoisen, mahdollisesti heterogeenisen datan kanssa, kun NumPy soveltuu parhaiten numeriseen homogeenisen datan käsittelyyn.\n",
    "\n",
    "[pandas-sivut](http://pandas.pydata.org/pandas-docs/stable/)\n",
    "\n",
    "### pandas-kirjaston tuonti\n",
    "pandas-kirjasto otetaan käyttöön koodissa `import pandas` -käskyllä. Vakiintunut käytäntö on käyttää aliasta `pd`:\n",
    "\n",
    "`import pandas as pd`\n",
    "\n",
    "Tämän jälkeen koodissa NumPyn funktioita voi kutsua lyhennettä `pd` käyttäen.\n",
    "\n",
    "## pandas-Series\n",
    "Series on yksiulotteinen listan tyyppinen datarakenne, jossa alkoiden lisäksi niille on määritelty indeksi (index), eli eräänlaiset nimikkeet (label). \n",
    "\n",
    "Yksinkertaisin Series saadaan tehtyä tavallisesta listasta (tai NumPy-taulukosta):\n"
   ]
  },
  {
   "cell_type": "code",
   "execution_count": 41,
   "metadata": {},
   "outputs": [
    {
     "name": "stdout",
     "output_type": "stream",
     "text": [
      "0    1.0\n",
      "1    5.0\n",
      "2    3.4\n",
      "3    6.0\n",
      "4    8.0\n",
      "dtype: float64\n"
     ]
    }
   ],
   "source": [
    "import pandas as pd\n",
    "\n",
    "ser1 = pd.Series([1, 5, 3.4, 6, 8])\n",
    "print(ser1)"
   ]
  },
  {
   "cell_type": "markdown",
   "metadata": {},
   "source": [
    "Tulosteessa´ensimmäinen sarake on indeksi. Koska Seriesiä määriettäessä ei määriteltu indeksiä, pandas teki sen luvuista 0, 1, 2 jne.\n",
    "\n",
    "Seriesin arvot saa taulukkona values-funktiolla ja indeksin index-funktiolla:"
   ]
  },
  {
   "cell_type": "code",
   "execution_count": 42,
   "metadata": {},
   "outputs": [
    {
     "name": "stdout",
     "output_type": "stream",
     "text": [
      "[1.  5.  3.4 6.  8. ]\n",
      "RangeIndex(start=0, stop=5, step=1)\n"
     ]
    }
   ],
   "source": [
    "ser1 = pd.Series([1, 5, 3.4, 6, 8])\n",
    "print(ser1.values)\n",
    "print(ser1.index)\n"
   ]
  },
  {
   "cell_type": "markdown",
   "metadata": {},
   "source": [
    "Seriesiä luodessa voidaan määritellä myös indeksi:"
   ]
  },
  {
   "cell_type": "code",
   "execution_count": 43,
   "metadata": {},
   "outputs": [
    {
     "name": "stdout",
     "output_type": "stream",
     "text": [
      "2     1.0\n",
      "4     5.0\n",
      "6     3.4\n",
      "8     6.0\n",
      "10    8.0\n",
      "dtype: float64\n",
      "\n",
      "------------------\n",
      "\n",
      "a      a\n",
      "b      b\n",
      "c     dd\n",
      "d      6\n",
      "e    joo\n",
      "dtype: object\n",
      "\n",
      "------------------\n",
      "\n"
     ]
    }
   ],
   "source": [
    "ser1 = pd.Series([1, 5, 3.4, 6, 8], index=[2, 4 ,6 ,8, 10])\n",
    "print(ser1)\n",
    "\n",
    "print('\\n------------------\\n')\n",
    "\n",
    "ser2 = pd.Series([\"a\", \"b\", \"dd\", 6, \"joo\"], index=['a', 'b' ,'c' ,'d', 'e'])\n",
    "print(ser2)\n",
    "\n",
    "print('\\n------------------\\n')\n"
   ]
  },
  {
   "cell_type": "markdown",
   "metadata": {},
   "source": [
    "pandas Seriesin voi tehdä myös Python-sanakirjasta (dict), jolloin indeksiksi tulee sanakirjan avaimet lajitellussa järjestyksessä:"
   ]
  },
  {
   "cell_type": "code",
   "execution_count": 44,
   "metadata": {},
   "outputs": [
    {
     "name": "stdout",
     "output_type": "stream",
     "text": [
      "Rovaniemi     62000\n",
      "Jyväskylä    140000\n",
      "Helsinki     645000\n",
      "Kuopio       118000\n",
      "dtype: int64\n"
     ]
    }
   ],
   "source": [
    "kaupungit = {'Rovaniemi': 62000, 'Jyväskylä': 140000, 'Helsinki': 645000 , 'Kuopio': 118000}\n",
    "             \n",
    "ser1 = pd.Series(kaupungit)\n",
    "            \n",
    "print(ser1)"
   ]
  },
  {
   "cell_type": "markdown",
   "metadata": {},
   "source": [
    "Indeksin voi antaa myös erikseen. Alla vakiluvut-sanakirjasta ei löydy avainta Oulu, jolloin sen arvoksi tulee NaN (Not a Number), joka on pandasin tapa kuvata puuttuvaa arvoa. Ja koska Rovaniemeä ei löydy annetusta indeksistä, sitä ei oteta Seriesiin."
   ]
  },
  {
   "cell_type": "code",
   "execution_count": 45,
   "metadata": {},
   "outputs": [
    {
     "name": "stdout",
     "output_type": "stream",
     "text": [
      "Helsinki     645000.0\n",
      "Kuopio       118000.0\n",
      "Oulu              NaN\n",
      "Jyväskylä    140000.0\n",
      "dtype: float64\n"
     ]
    }
   ],
   "source": [
    "vakiluvut = {'Rovaniemi': 62000, 'Jyväskylä': 140000, 'Helsinki': 645000 , 'Kuopio': 118000}\n",
    "kaupungit = ['Helsinki', 'Kuopio', 'Oulu', 'Jyväskylä']\n",
    "\n",
    "ser1 = pd.Series(vakiluvut, index=kaupungit)\n",
    "\n",
    "print(ser1)\n"
   ]
  },
  {
   "cell_type": "markdown",
   "metadata": {},
   "source": [
    "Indeksin labelia voi käyttää arvojen valitsemiseen Seriesistä:"
   ]
  },
  {
   "cell_type": "code",
   "execution_count": 46,
   "metadata": {},
   "outputs": [
    {
     "name": "stdout",
     "output_type": "stream",
     "text": [
      "a     0.0\n",
      "b     2.5\n",
      "c     5.0\n",
      "d     7.5\n",
      "e    10.0\n",
      "dtype: float64\n",
      "\n",
      "------------------\n",
      "\n",
      "5.0\n",
      "\n",
      "------------------\n",
      "\n",
      "c    5.0\n",
      "a    0.0\n",
      "d    7.5\n",
      "dtype: float64\n",
      "\n",
      "------------------\n",
      "\n",
      "a    100.0\n",
      "b      2.5\n",
      "c      5.0\n",
      "d    100.0\n",
      "e     10.0\n",
      "dtype: float64\n"
     ]
    }
   ],
   "source": [
    "ser2 = pd.Series(np.linspace(0, 10 ,5), index=['a', 'b' ,'c' ,'d', 'e'])\n",
    "print(ser2)\n",
    "\n",
    "print('\\n------------------\\n')\n",
    "\n",
    "print(ser2['c']) \n",
    "\n",
    "print('\\n------------------\\n')\n",
    "\n",
    "print(ser2[['c', 'a', 'd']])\n",
    "\n",
    "print('\\n------------------\\n')\n",
    "\n",
    "ser2[['d', 'a']]  = 100\n",
    "print(ser2)\n"
   ]
  },
  {
   "cell_type": "markdown",
   "metadata": {},
   "source": [
    "Aritmeettiset operaatiot yhdistävät Seriesit indeksien mukaan:"
   ]
  },
  {
   "cell_type": "code",
   "execution_count": 47,
   "metadata": {},
   "outputs": [
    {
     "name": "stdout",
     "output_type": "stream",
     "text": [
      "Helsinki     3000.000000\n",
      "Jyväskylä      95.497954\n",
      "Kuopio         27.276930\n",
      "Oulu                 NaN\n",
      "Rovaniemi            NaN\n",
      "dtype: float64\n"
     ]
    }
   ],
   "source": [
    "vakiluvut = pd.Series({'Rovaniemi': 62000, 'Jyväskylä': 140000, 'Helsinki': 645000 , 'Kuopio': 118000})\n",
    "pintaalat = pd.Series({'Oulu': 3050, 'Helsinki': 215, 'Jyväskylä': 1466, 'Kuopio': 4326})\n",
    "\n",
    "vaentiheydet = vakiluvut/pintaalat\n",
    "\n",
    "print(vaentiheydet)"
   ]
  },
  {
   "cell_type": "markdown",
   "metadata": {},
   "source": [
    "Sekä Seriesillä että sen indeksillä on `name`-attribuutti:"
   ]
  },
  {
   "cell_type": "code",
   "execution_count": 48,
   "metadata": {},
   "outputs": [
    {
     "name": "stdout",
     "output_type": "stream",
     "text": [
      "Kaupunki\n",
      "Rovaniemi     62000\n",
      "Jyväskylä    140000\n",
      "Helsinki     645000\n",
      "Kuopio       118000\n",
      "Name: Väkiluku, dtype: int64\n"
     ]
    }
   ],
   "source": [
    "vakiluvut = pd.Series({'Rovaniemi': 62000, 'Jyväskylä': 140000, 'Helsinki': 645000 , 'Kuopio': 118000})\n",
    "vakiluvut.name = \"Väkiluku\"\n",
    "vakiluvut.index.name = \"Kaupunki\"\n",
    "print(vakiluvut)"
   ]
  },
  {
   "cell_type": "markdown",
   "metadata": {},
   "source": [
    "## pandas-DataFrame\n",
    "Datan analysoinnissa hyödyllisin tietorakenne on **DataFrame**, joka on suorakulmion muotoinen datataulukko. DataFrame koostuu riveistä ja sarakkeista, sarakkeita voidaan ajatella Serieseinä, joilla on sama indeksi (rivi-indeksi, riviotsikot). Sarakkeiden nimistä (sarakeotsikoista) muodostuu \"sarake-indeksi\".\n",
    "\n",
    "Yksi tapa luoda DataFrame on käyttää sanakirjaa samanmittaisista listoista, NumPy-taulukoista tai Seriesista :"
   ]
  },
  {
   "cell_type": "code",
   "execution_count": 49,
   "metadata": {},
   "outputs": [
    {
     "name": "stdout",
     "output_type": "stream",
     "text": [
      "        nimi  väkiluku  pinta-ala      maakunta\n",
      "0  Rovaniemi     62000       8016         Lappi\n",
      "1  Jyväskylä    140000       1466   Keski-Suomi\n",
      "2   Helsinki    645000        215       Uusimaa\n",
      "3     Kuopio    118000       4326  Pohjois-Savo\n"
     ]
    },
    {
     "data": {
      "text/html": [
       "<div>\n",
       "<style scoped>\n",
       "    .dataframe tbody tr th:only-of-type {\n",
       "        vertical-align: middle;\n",
       "    }\n",
       "\n",
       "    .dataframe tbody tr th {\n",
       "        vertical-align: top;\n",
       "    }\n",
       "\n",
       "    .dataframe thead th {\n",
       "        text-align: right;\n",
       "    }\n",
       "</style>\n",
       "<table border=\"1\" class=\"dataframe\">\n",
       "  <thead>\n",
       "    <tr style=\"text-align: right;\">\n",
       "      <th></th>\n",
       "      <th>nimi</th>\n",
       "      <th>väkiluku</th>\n",
       "      <th>pinta-ala</th>\n",
       "      <th>maakunta</th>\n",
       "    </tr>\n",
       "  </thead>\n",
       "  <tbody>\n",
       "    <tr>\n",
       "      <th>0</th>\n",
       "      <td>Rovaniemi</td>\n",
       "      <td>62000</td>\n",
       "      <td>8016</td>\n",
       "      <td>Lappi</td>\n",
       "    </tr>\n",
       "    <tr>\n",
       "      <th>1</th>\n",
       "      <td>Jyväskylä</td>\n",
       "      <td>140000</td>\n",
       "      <td>1466</td>\n",
       "      <td>Keski-Suomi</td>\n",
       "    </tr>\n",
       "    <tr>\n",
       "      <th>2</th>\n",
       "      <td>Helsinki</td>\n",
       "      <td>645000</td>\n",
       "      <td>215</td>\n",
       "      <td>Uusimaa</td>\n",
       "    </tr>\n",
       "    <tr>\n",
       "      <th>3</th>\n",
       "      <td>Kuopio</td>\n",
       "      <td>118000</td>\n",
       "      <td>4326</td>\n",
       "      <td>Pohjois-Savo</td>\n",
       "    </tr>\n",
       "  </tbody>\n",
       "</table>\n",
       "</div>"
      ],
      "text/plain": [
       "        nimi  väkiluku  pinta-ala      maakunta\n",
       "0  Rovaniemi     62000       8016         Lappi\n",
       "1  Jyväskylä    140000       1466   Keski-Suomi\n",
       "2   Helsinki    645000        215       Uusimaa\n",
       "3     Kuopio    118000       4326  Pohjois-Savo"
      ]
     },
     "execution_count": 49,
     "metadata": {},
     "output_type": "execute_result"
    }
   ],
   "source": [
    "data = {'nimi': ['Rovaniemi', 'Jyväskylä', 'Helsinki', 'Kuopio'],\n",
    "         'väkiluku': [62000, 140000, 645000 , 118000],\n",
    "         'pinta-ala': [8016, 1466, 215 , 4326],\n",
    "         'maakunta': ['Lappi', 'Keski-Suomi', 'Uusimaa', 'Pohjois-Savo']}\n",
    "\n",
    "df = pd.DataFrame(data)\n",
    "\n",
    "print(df)  # indeksi luotiin automaattisesti, sarakkeet lajiteltiin aakkosjärjestykseen\n",
    "\n",
    "df # Jupyter näyttää DataFramen hienona taulukkona ilman print-komentoa"
   ]
  },
  {
   "cell_type": "code",
   "execution_count": 50,
   "metadata": {},
   "outputs": [
    {
     "data": {
      "text/html": [
       "<div>\n",
       "<style scoped>\n",
       "    .dataframe tbody tr th:only-of-type {\n",
       "        vertical-align: middle;\n",
       "    }\n",
       "\n",
       "    .dataframe tbody tr th {\n",
       "        vertical-align: top;\n",
       "    }\n",
       "\n",
       "    .dataframe thead th {\n",
       "        text-align: right;\n",
       "    }\n",
       "</style>\n",
       "<table border=\"1\" class=\"dataframe\">\n",
       "  <thead>\n",
       "    <tr style=\"text-align: right;\">\n",
       "      <th></th>\n",
       "      <th>nimi</th>\n",
       "      <th>väkiluku</th>\n",
       "      <th>pinta-ala</th>\n",
       "      <th>työttömyys</th>\n",
       "    </tr>\n",
       "  </thead>\n",
       "  <tbody>\n",
       "    <tr>\n",
       "      <th>0</th>\n",
       "      <td>Rovaniemi</td>\n",
       "      <td>62000</td>\n",
       "      <td>8016</td>\n",
       "      <td>NaN</td>\n",
       "    </tr>\n",
       "    <tr>\n",
       "      <th>1</th>\n",
       "      <td>Jyväskylä</td>\n",
       "      <td>140000</td>\n",
       "      <td>1466</td>\n",
       "      <td>NaN</td>\n",
       "    </tr>\n",
       "    <tr>\n",
       "      <th>2</th>\n",
       "      <td>Helsinki</td>\n",
       "      <td>645000</td>\n",
       "      <td>215</td>\n",
       "      <td>NaN</td>\n",
       "    </tr>\n",
       "    <tr>\n",
       "      <th>3</th>\n",
       "      <td>Kuopio</td>\n",
       "      <td>118000</td>\n",
       "      <td>4326</td>\n",
       "      <td>NaN</td>\n",
       "    </tr>\n",
       "  </tbody>\n",
       "</table>\n",
       "</div>"
      ],
      "text/plain": [
       "        nimi  väkiluku  pinta-ala työttömyys\n",
       "0  Rovaniemi     62000       8016        NaN\n",
       "1  Jyväskylä    140000       1466        NaN\n",
       "2   Helsinki    645000        215        NaN\n",
       "3     Kuopio    118000       4326        NaN"
      ]
     },
     "execution_count": 50,
     "metadata": {},
     "output_type": "execute_result"
    }
   ],
   "source": [
    "data = {'nimi': ['Rovaniemi', 'Jyväskylä', 'Helsinki', 'Kuopio'],\n",
    "         'väkiluku': [62000, 140000, 645000 , 118000],\n",
    "         'pinta-ala': [8016, 1466, 215 , 4326],\n",
    "         'maakunta': ['Lappi', 'Keski-Suomi', 'Uusimaa', 'Pohjois-Savo']}\n",
    "\n",
    "df = pd.DataFrame(data, columns=['nimi', 'väkiluku', 'pinta-ala', 'työttömyys'])\n",
    "\n",
    "df  # luodessa annetulla columns-parametrilla määritetään sarakkeet"
   ]
  },
  {
   "cell_type": "code",
   "execution_count": 51,
   "metadata": {},
   "outputs": [
    {
     "data": {
      "text/html": [
       "<div>\n",
       "<style scoped>\n",
       "    .dataframe tbody tr th:only-of-type {\n",
       "        vertical-align: middle;\n",
       "    }\n",
       "\n",
       "    .dataframe tbody tr th {\n",
       "        vertical-align: top;\n",
       "    }\n",
       "\n",
       "    .dataframe thead th {\n",
       "        text-align: right;\n",
       "    }\n",
       "</style>\n",
       "<table border=\"1\" class=\"dataframe\">\n",
       "  <thead>\n",
       "    <tr style=\"text-align: right;\">\n",
       "      <th></th>\n",
       "      <th>väkiluku</th>\n",
       "      <th>pinta-ala</th>\n",
       "      <th>maakunta</th>\n",
       "    </tr>\n",
       "  </thead>\n",
       "  <tbody>\n",
       "    <tr>\n",
       "      <th>Rovaniemi</th>\n",
       "      <td>62000</td>\n",
       "      <td>8016</td>\n",
       "      <td>Lappi</td>\n",
       "    </tr>\n",
       "    <tr>\n",
       "      <th>Jyväskylä</th>\n",
       "      <td>140000</td>\n",
       "      <td>1466</td>\n",
       "      <td>Keski-Suomi</td>\n",
       "    </tr>\n",
       "    <tr>\n",
       "      <th>Helsinki</th>\n",
       "      <td>645000</td>\n",
       "      <td>215</td>\n",
       "      <td>Uusimaa</td>\n",
       "    </tr>\n",
       "    <tr>\n",
       "      <th>Kuopio</th>\n",
       "      <td>118000</td>\n",
       "      <td>4326</td>\n",
       "      <td>Pohjois-Savo</td>\n",
       "    </tr>\n",
       "  </tbody>\n",
       "</table>\n",
       "</div>"
      ],
      "text/plain": [
       "           väkiluku  pinta-ala      maakunta\n",
       "Rovaniemi     62000       8016         Lappi\n",
       "Jyväskylä    140000       1466   Keski-Suomi\n",
       "Helsinki     645000        215       Uusimaa\n",
       "Kuopio       118000       4326  Pohjois-Savo"
      ]
     },
     "execution_count": 51,
     "metadata": {},
     "output_type": "execute_result"
    }
   ],
   "source": [
    "data = { 'väkiluku': [62000, 140000, 645000 , 118000],\n",
    "         'pinta-ala': [8016, 1466, 215 , 4326],\n",
    "         'maakunta': ['Lappi', 'Keski-Suomi', 'Uusimaa', 'Pohjois-Savo']}\n",
    "\n",
    "df = pd.DataFrame(data, index=['Rovaniemi', 'Jyväskylä', 'Helsinki', 'Kuopio'])\n",
    "\n",
    "df  # index annettu luodessa"
   ]
  },
  {
   "cell_type": "markdown",
   "metadata": {},
   "source": [
    "Sarakkeen voi \"poimia\" Seriesina kahdella tavalla: `df['sarake']` tai `df.sarake`.  \n",
    "Seriesin nimeksi tulee sarakkeen otsikko."
   ]
  },
  {
   "cell_type": "code",
   "execution_count": 52,
   "metadata": {},
   "outputs": [
    {
     "name": "stdout",
     "output_type": "stream",
     "text": [
      "           väkiluku  pinta-ala      maakunta\n",
      "Rovaniemi     62000       8016         Lappi\n",
      "Jyväskylä    140000       1466   Keski-Suomi\n",
      "Helsinki     645000        215       Uusimaa\n",
      "Kuopio       118000       4326  Pohjois-Savo\n",
      "\n",
      "----------------\n",
      "\n",
      "Rovaniemi    8016\n",
      "Jyväskylä    1466\n",
      "Helsinki      215\n",
      "Kuopio       4326\n",
      "Name: pinta-ala, dtype: int64\n",
      "\n",
      "----------------\n",
      "\n",
      "Rovaniemi     62000\n",
      "Jyväskylä    140000\n",
      "Helsinki     645000\n",
      "Kuopio       118000\n",
      "Name: väkiluku, dtype: int64\n"
     ]
    }
   ],
   "source": [
    "data = { 'väkiluku': [62000, 140000, 645000 , 118000],\n",
    "         'pinta-ala': [8016, 1466, 215 , 4326],\n",
    "         'maakunta': ['Lappi', 'Keski-Suomi', 'Uusimaa', 'Pohjois-Savo']}\n",
    "\n",
    "df = pd.DataFrame(data, index=['Rovaniemi', 'Jyväskylä', 'Helsinki', 'Kuopio'])\n",
    "\n",
    "print(df)\n",
    "\n",
    "print('\\n----------------\\n')\n",
    "\n",
    "ser1 = df['pinta-ala']\n",
    "print(ser1)  # index annettu luodessa\n",
    "\n",
    "print('\\n----------------\\n')\n",
    "\n",
    "ser2 = df.väkiluku\n",
    "print(ser2)"
   ]
  },
  {
   "cell_type": "markdown",
   "metadata": {},
   "source": [
    "Rivin voi poimia `loc`-attribuutilla (alempana tästä lisää):"
   ]
  },
  {
   "cell_type": "code",
   "execution_count": 53,
   "metadata": {},
   "outputs": [
    {
     "name": "stdout",
     "output_type": "stream",
     "text": [
      "väkiluku     62000\n",
      "pinta-ala     8016\n",
      "maakunta     Lappi\n",
      "Name: Rovaniemi, dtype: object\n"
     ]
    }
   ],
   "source": [
    "print(df.loc['Rovaniemi'])"
   ]
  },
  {
   "cell_type": "markdown",
   "metadata": {},
   "source": [
    "Sarakkeita voi muokata tai lisätä (jos sarakenimeä ei löydy) sijoitusoperaatiolla ja poistaa `del`-avainsanalla:"
   ]
  },
  {
   "cell_type": "code",
   "execution_count": 54,
   "metadata": {},
   "outputs": [
    {
     "name": "stdout",
     "output_type": "stream",
     "text": [
      "           väkiluku  pinta-ala      maakunta  uusisarake\n",
      "Rovaniemi     62000       8016         Lappi          15\n",
      "Jyväskylä    140000       1466   Keski-Suomi          15\n",
      "Helsinki     645000        215       Uusimaa          15\n",
      "Kuopio       118000       4326  Pohjois-Savo          15\n",
      "\n",
      "--------------------\n",
      "\n",
      "           väkiluku  pinta-ala      maakunta  uusisarake\n",
      "Rovaniemi     62000       8016         Lappi           0\n",
      "Jyväskylä    140000       1466   Keski-Suomi           1\n",
      "Helsinki     645000        215       Uusimaa           2\n",
      "Kuopio       118000       4326  Pohjois-Savo           3\n",
      "\n",
      "--------------------\n",
      "\n",
      "           väkiluku  pinta-ala      maakunta  uusisarake    iso\n",
      "Rovaniemi     62000       8016         Lappi           0  False\n",
      "Jyväskylä    140000       1466   Keski-Suomi           1   True\n",
      "Helsinki     645000        215       Uusimaa           2   True\n",
      "Kuopio       118000       4326  Pohjois-Savo           3   True\n",
      "\n",
      "--------------------\n",
      "\n",
      "           väkiluku  pinta-ala      maakunta    iso\n",
      "Rovaniemi     62000       8016         Lappi  False\n",
      "Jyväskylä    140000       1466   Keski-Suomi   True\n",
      "Helsinki     645000        215       Uusimaa   True\n",
      "Kuopio       118000       4326  Pohjois-Savo   True\n",
      "\n",
      "--------------------\n",
      "\n",
      "           väkiluku  pinta-ala      maakunta    iso joukkue\n",
      "Rovaniemi     62000       8016         Lappi  False     NaN\n",
      "Jyväskylä    140000       1466   Keski-Suomi   True     Jyp\n",
      "Helsinki     645000        215       Uusimaa   True    HIFK\n",
      "Kuopio       118000       4326  Pohjois-Savo   True   KalPa\n"
     ]
    }
   ],
   "source": [
    "data = { 'väkiluku': [62000, 140000, 645000 , 118000],\n",
    "         'pinta-ala': [8016, 1466, 215 , 4326],\n",
    "         'maakunta': ['Lappi', 'Keski-Suomi', 'Uusimaa', 'Pohjois-Savo']}\n",
    "\n",
    "df = pd.DataFrame(data, index=['Rovaniemi', 'Jyväskylä', 'Helsinki', 'Kuopio'])\n",
    "\n",
    "\n",
    "df['uusisarake'] = 15\n",
    "print(df)\n",
    "\n",
    "print('\\n--------------------\\n')\n",
    "\n",
    "df['uusisarake'] = np.arange(0,4)  # np.arange(0,4) antaa NumPy-taulukon [0, 1, 2, 3]\n",
    "print(df)\n",
    "\n",
    "print('\\n--------------------\\n')\n",
    "\n",
    "df['iso'] = df['väkiluku'] >100000 # antaa Boolean-tyyppisen Seriesin, jossa arvot sen mukaan onko väkiluku >100000\n",
    "print(df)\n",
    "\n",
    "print('\\n--------------------\\n')\n",
    "\n",
    "del df['uusisarake']\n",
    "print(df)\n",
    "\n",
    "print('\\n--------------------\\n')\n",
    "joukkueet = pd.Series({'Helsinki': 'HIFK' , 'Jyväskylä': 'Jyp', 'Kuopio': 'KalPa'})\n",
    "df['joukkue'] = joukkueet              \n",
    "print(df)"
   ]
  },
  {
   "cell_type": "markdown",
   "metadata": {},
   "source": [
    "DataFramen voi luoda myös sisäkkäisistä sanakirjoista. Tällöin ulommat avaimet menevät sarakeotsikoiksi ja sisemmät riviotsikoiksi (indeksiksi). Rivit ja sarakkeet voi vaihtaa päittäin T-metodilla (transpose)."
   ]
  },
  {
   "cell_type": "code",
   "execution_count": 55,
   "metadata": {},
   "outputs": [
    {
     "name": "stdout",
     "output_type": "stream",
     "text": [
      "      Jyp  Sport  Jukurit\n",
      "2014    5    NaN      NaN\n",
      "2015    3   14.0      NaN\n",
      "2016    4   10.0      NaN\n",
      "2017    3   14.0     11.0\n",
      "2018    5   15.0     13.0\n",
      "\n",
      "---------\n",
      "\n",
      "         2014  2015  2016  2017  2018\n",
      "Jyp       5.0   3.0   4.0   3.0   5.0\n",
      "Sport     NaN  14.0  10.0  14.0  15.0\n",
      "Jukurit   NaN   NaN   NaN  11.0  13.0\n"
     ]
    }
   ],
   "source": [
    "df = pd.DataFrame({'Jyp': {2014: 5, 2015: 3,  2016: 4,  2017: 3 , 2018: 5},\n",
    "                   'Sport' : {2015: 14, 2016: 10, 2017: 14, 2018: 15 },\n",
    "                    'Jukurit' : {2017: 11, 2018: 13}   \n",
    "                  })\n",
    "\n",
    "print(df)\n",
    "\n",
    "print('\\n---------\\n')\n",
    "\n",
    "df2 = df.T\n",
    "\n",
    "print(df2)\n",
    "\n"
   ]
  },
  {
   "cell_type": "markdown",
   "metadata": {},
   "source": [
    "### Uudelleenindeksointi (reindex)\n",
    "`reindex`-metodilla voidaan DataFramesta (tai Seriesista) ottaa annetun uuden indeksin mukaiset rivit. "
   ]
  },
  {
   "cell_type": "code",
   "execution_count": 56,
   "metadata": {},
   "outputs": [
    {
     "name": "stdout",
     "output_type": "stream",
     "text": [
      "      Jyp  Sport  Jukurit\n",
      "2014    5    NaN      NaN\n",
      "2015    3   14.0      NaN\n",
      "2016    4   10.0      NaN\n",
      "2017    3   14.0     11.0\n",
      "2018    5   15.0     13.0\n",
      "\n",
      "---------\n",
      "\n",
      "      Jyp  Sport  Jukurit\n",
      "2019  NaN    NaN      NaN\n",
      "2018  5.0   15.0     13.0\n",
      "2017  3.0   14.0     11.0\n"
     ]
    }
   ],
   "source": [
    "df = pd.DataFrame({'Jyp': {2014: 5, 2015: 3,  2016: 4,  2017: 3 , 2018: 5},\n",
    "                   'Sport' : {2015: 14, 2016: 10, 2017: 14, 2018: 15 },\n",
    "                    'Jukurit' : {2017: 11, 2018: 13}   \n",
    "                  })\n",
    "\n",
    "print(df)\n",
    "\n",
    "print('\\n---------\\n')\n",
    "\n",
    "df2 = df.reindex([2019, 2018, 2017])\n",
    "\n",
    "print(df2)"
   ]
  },
  {
   "cell_type": "markdown",
   "metadata": {},
   "source": [
    "Parametrilla `columns` voidaan uudelleenindeksoida sarakkeiden mukaan:"
   ]
  },
  {
   "cell_type": "code",
   "execution_count": 57,
   "metadata": {},
   "outputs": [
    {
     "name": "stdout",
     "output_type": "stream",
     "text": [
      "      Jyp  Sport  Jukurit\n",
      "2014    5    NaN      NaN\n",
      "2015    3   14.0      NaN\n",
      "2016    4   10.0      NaN\n",
      "2017    3   14.0     11.0\n",
      "2018    5   15.0     13.0\n",
      "\n",
      "---------\n",
      "\n",
      "      Tappara  Jukurit  Jyp\n",
      "2014      NaN      NaN    5\n",
      "2015      NaN      NaN    3\n",
      "2016      NaN      NaN    4\n",
      "2017      NaN     11.0    3\n",
      "2018      NaN     13.0    5\n"
     ]
    }
   ],
   "source": [
    "df = pd.DataFrame({'Jyp': {2014: 5, 2015: 3,  2016: 4,  2017: 3 , 2018: 5},\n",
    "                   'Sport' : {2015: 14, 2016: 10, 2017: 14, 2018: 15 },\n",
    "                    'Jukurit' : {2017: 11, 2018: 13}   \n",
    "                  })\n",
    "\n",
    "print(df)\n",
    "\n",
    "print('\\n---------\\n')\n",
    "\n",
    "df2 = df.reindex(columns = ['Tappara', 'Jukurit', 'Jyp'])\n",
    "\n",
    "print(df2)"
   ]
  },
  {
   "cell_type": "markdown",
   "metadata": {},
   "source": [
    "### Rivien tai sarakkeiden poistaminen (drop)\n",
    "`drop`-metodilla voi poistaa rivejä (oletus) tai sarakkeita parametrilla `axis=1`:"
   ]
  },
  {
   "cell_type": "code",
   "execution_count": 58,
   "metadata": {},
   "outputs": [
    {
     "name": "stdout",
     "output_type": "stream",
     "text": [
      "      Jyp  Sport  Jukurit\n",
      "2014    5    NaN      NaN\n",
      "2015    3   14.0      NaN\n",
      "2016    4   10.0      NaN\n",
      "2017    3   14.0     11.0\n",
      "2018    5   15.0     13.0\n",
      "\n",
      "---------\n",
      "\n",
      "      Jyp  Sport  Jukurit\n",
      "2014    5    NaN      NaN\n",
      "2016    4   10.0      NaN\n",
      "2017    3   14.0     11.0\n",
      "2018    5   15.0     13.0\n",
      "\n",
      "---------\n",
      "\n",
      "      Jyp  Sport  Jukurit\n",
      "2014    5    NaN      NaN\n",
      "2017    3   14.0     11.0\n",
      "2018    5   15.0     13.0\n",
      "\n",
      "---------\n",
      "\n",
      "      Sport  Jukurit\n",
      "2014    NaN      NaN\n",
      "2015   14.0      NaN\n",
      "2016   10.0      NaN\n",
      "2017   14.0     11.0\n",
      "2018   15.0     13.0\n"
     ]
    }
   ],
   "source": [
    "df = pd.DataFrame({'Jyp': {2014: 5, 2015: 3,  2016: 4,  2017: 3 , 2018: 5},\n",
    "                   'Sport' : {2015: 14, 2016: 10, 2017: 14, 2018: 15 },\n",
    "                    'Jukurit' : {2017: 11, 2018: 13}   \n",
    "                  })\n",
    "\n",
    "print(df)\n",
    "\n",
    "print('\\n---------\\n')\n",
    "\n",
    "print(df.drop(2015))\n",
    "\n",
    "print('\\n---------\\n')\n",
    "\n",
    "print(df.drop([2015, 2016]))\n",
    "\n",
    "print('\\n---------\\n')\n",
    "\n",
    "print(df.drop('Jyp', axis=1))\n"
   ]
  },
  {
   "cell_type": "markdown",
   "metadata": {},
   "source": [
    "`drop`-metodi antaa siis uuden DataFramen (tai Seriesin), josta rivit on poistettu. Parametrilla `inplace=True` saadaan poistaminen tehtyä alkuperäiselle DataFramelle."
   ]
  },
  {
   "cell_type": "markdown",
   "metadata": {},
   "source": [
    "### Valinta ja suodatus\n",
    "Seriesissa valitseminen menee samaan tyyliin kuin NumPy-taulukoissa, mutta voit käyttää myös Seriesin indeksiä valintaan. \n",
    "Viimeinen esimerkki näyttää että indeksiä käytettäessä siivutus `['s':'d']` sisällyttää myös loppuindeksin mukaisen alkion, tosin kuin \"paikkoja\" eli rivinumeroita käyttävä `[2:4]`"
   ]
  },
  {
   "cell_type": "code",
   "execution_count": 59,
   "metadata": {},
   "outputs": [
    {
     "name": "stdout",
     "output_type": "stream",
     "text": [
      "p     0\n",
      "s     2\n",
      "v     4\n",
      "d     6\n",
      "j     8\n",
      "f    10\n",
      "dtype: int32\n",
      "---------\n",
      "2\n",
      "---------\n",
      "4\n",
      "---------\n",
      "v    4\n",
      "d    6\n",
      "dtype: int32\n",
      "---------\n",
      "j    8\n",
      "v    4\n",
      "dtype: int32\n",
      "---------\n",
      "p     0\n",
      "f    10\n",
      "dtype: int32\n",
      "---------\n",
      "s    2\n",
      "v    4\n",
      "d    6\n",
      "dtype: int32\n"
     ]
    }
   ],
   "source": [
    "ser1 = pd.Series(np.arange(0,12,2), index=['p','s','v','d','j','f'])\n",
    "print(ser1)\n",
    "\n",
    "print('---------')\n",
    "\n",
    "print(ser1['s']) # indeksin s\n",
    "\n",
    "print('---------')\n",
    "\n",
    "print(ser1[2]) # rivinro 2\n",
    "\n",
    "print('---------')\n",
    "\n",
    "print(ser1[2:4])  # rivit 2 ja 3, 4 ei mukana\n",
    "\n",
    "print('---------')\n",
    "\n",
    "print(ser1[['j', 'v']]) # indeksistä j ja v\n",
    "\n",
    "print('---------')\n",
    "\n",
    "print(ser1[[0,5]]) # rivinrot 0 ja 5\n",
    "\n",
    "print('---------')\n",
    "\n",
    "print(ser1['s':'d'])  # d myös mukana\n"
   ]
  },
  {
   "cell_type": "markdown",
   "metadata": {},
   "source": [
    "DataFramessa `df[sarake]` -tyylinen syntaksi antaa perustapauksissa sarakkeen tai sarakkeita:"
   ]
  },
  {
   "cell_type": "code",
   "execution_count": 60,
   "metadata": {},
   "outputs": [
    {
     "name": "stdout",
     "output_type": "stream",
     "text": [
      "      Jyp  Sport  Jukurit\n",
      "2014    5    NaN      NaN\n",
      "2015    3   14.0      NaN\n",
      "2016    4   10.0      NaN\n",
      "2017    3   14.0     11.0\n",
      "2018    5   15.0     13.0\n",
      "\n",
      "---------\n",
      "\n",
      "2014    5\n",
      "2015    3\n",
      "2016    4\n",
      "2017    3\n",
      "2018    5\n",
      "Name: Jyp, dtype: int64\n",
      "\n",
      "---------\n",
      "\n",
      "      Jyp  Sport\n",
      "2014    5    NaN\n",
      "2015    3   14.0\n",
      "2016    4   10.0\n",
      "2017    3   14.0\n",
      "2018    5   15.0\n"
     ]
    }
   ],
   "source": [
    "df = pd.DataFrame({'Jyp': {2014: 5, 2015: 3,  2016: 4,  2017: 3 , 2018: 5},\n",
    "                   'Sport' : {2015: 14, 2016: 10, 2017: 14, 2018: 15 },\n",
    "                    'Jukurit' : {2017: 11, 2018: 13}   \n",
    "                  })\n",
    "\n",
    "print(df)\n",
    "\n",
    "print('\\n---------\\n')\n",
    "\n",
    "print(df['Jyp'])\n",
    "\n",
    "print('\\n---------\\n')\n",
    "\n",
    "print(df[['Jyp', 'Sport']])"
   ]
  },
  {
   "cell_type": "markdown",
   "metadata": {},
   "source": [
    "Tässä on kuitenkin jotain eikoistapauksia:  \n",
    "* `df[2]` ei toimi jos sarakeotsikoissa ei ole 2:sta  \n",
    "* `df[1:3]` antaakin **rivit** 1 ja 2 (loppurivi 3 ei ole mukana)\n",
    "* `df[df['Jyp']<4]` antaa ehdon täyttävät **rivit**\n",
    "\n"
   ]
  },
  {
   "cell_type": "code",
   "execution_count": 61,
   "metadata": {},
   "outputs": [
    {
     "name": "stdout",
     "output_type": "stream",
     "text": [
      "      Jyp  Sport  Jukurit\n",
      "2014    5    NaN      NaN\n",
      "2015    3   14.0      NaN\n",
      "2016    4   10.0      NaN\n",
      "2017    3   14.0     11.0\n",
      "2018    5   15.0     13.0\n",
      "\n",
      "---------\n",
      "\n",
      "      Jyp  Sport  Jukurit\n",
      "2014    5    NaN      NaN\n",
      "2015    3   14.0      NaN\n",
      "\n",
      "---------\n",
      "\n",
      "      Jyp  Sport  Jukurit\n",
      "2015    3   14.0      NaN\n",
      "2017    3   14.0     11.0\n",
      "\n",
      "---------\n",
      "\n",
      "2014    False\n",
      "2015     True\n",
      "2016    False\n",
      "2017     True\n",
      "2018    False\n",
      "Name: Jyp, dtype: bool\n"
     ]
    }
   ],
   "source": [
    "df = pd.DataFrame({'Jyp': {2014: 5, 2015: 3,  2016: 4,  2017: 3 , 2018: 5},\n",
    "                   'Sport' : {2015: 14, 2016: 10, 2017: 14, 2018: 15 },\n",
    "                    'Jukurit' : {2017: 11, 2018: 13}   \n",
    "                  })\n",
    "\n",
    "print(df)\n",
    "\n",
    "print('\\n---------\\n')\n",
    "\n",
    "print(df[:2])\n",
    "\n",
    "print('\\n---------\\n')\n",
    "\n",
    "print(df[df['Jyp']<4]) \n",
    "\n",
    "print('\\n---------\\n')\n",
    "\n",
    "print(df['Jyp']<4) # tämä antaa True/False-Seriesin, joka df[df['Jyp']<4]:ssa suodattaa rivit indeksin mukaan\n",
    "\n",
    "\n"
   ]
  },
  {
   "cell_type": "markdown",
   "metadata": {},
   "source": [
    "Boolean-taulukon voi tehdä myös koko DataFramesta. Tämän avulla voi helposti muuttaa tietyn ehdon täyttäviä arvoja:"
   ]
  },
  {
   "cell_type": "code",
   "execution_count": 62,
   "metadata": {},
   "outputs": [
    {
     "name": "stdout",
     "output_type": "stream",
     "text": [
      "      Jyp  Sport  Jukurit\n",
      "2014    5    NaN      NaN\n",
      "2015    3   14.0      NaN\n",
      "2016    4   10.0      NaN\n",
      "2017    3   14.0     11.0\n",
      "2018    5   15.0     13.0\n",
      "\n",
      "---------\n",
      "\n",
      "        Jyp  Sport  Jukurit\n",
      "2014   True  False    False\n",
      "2015  False   True    False\n",
      "2016   True   True    False\n",
      "2017  False   True     True\n",
      "2018   True   True     True\n",
      "\n",
      "---------\n",
      "\n",
      "             Jyp       Sport     Jukurit\n",
      "2014  ei mitalia         NaN         NaN\n",
      "2015           3  ei mitalia         NaN\n",
      "2016  ei mitalia  ei mitalia         NaN\n",
      "2017           3  ei mitalia  ei mitalia\n",
      "2018  ei mitalia  ei mitalia  ei mitalia\n"
     ]
    }
   ],
   "source": [
    "df = pd.DataFrame({'Jyp': {2014: 5, 2015: 3,  2016: 4,  2017: 3 , 2018: 5},\n",
    "                   'Sport' : {2015: 14, 2016: 10, 2017: 14, 2018: 15 },\n",
    "                    'Jukurit' : {2017: 11, 2018: 13}   \n",
    "                  })\n",
    "\n",
    "print(df)\n",
    "\n",
    "print('\\n---------\\n')\n",
    "\n",
    "print(df>3) # True/False -dataframe\n",
    "\n",
    "print('\\n---------\\n')\n",
    "\n",
    "df[df>3] = \"ei mitalia\"\n",
    "print(df)\n",
    "\n"
   ]
  },
  {
   "cell_type": "markdown",
   "metadata": {},
   "source": [
    "#### loc- ja iloc -operaattorit\n",
    "Riviotsikoiden mukaan valintaa voi tehdä `loc`-operaattorilla, joka tarjoaa NumPy-tyylisen merkintätavan `df[rivi,sarake]`.  \n",
    "**loc** käyttää rivi- ja sarakeotsikkoja, kun taas **iloc** vastaavasti rivi- ja sarakenumeroita (1. rivi = 0 jne). "
   ]
  },
  {
   "cell_type": "code",
   "execution_count": 63,
   "metadata": {},
   "outputs": [
    {
     "name": "stdout",
     "output_type": "stream",
     "text": [
      "      Jyp  Sport  Jukurit\n",
      "2014    5    NaN      NaN\n",
      "2015    3   14.0      NaN\n",
      "2016    4   10.0      NaN\n",
      "2017    3   14.0     11.0\n",
      "2018    5   15.0     13.0\n",
      "\n",
      "---------\n",
      "\n",
      "3\n",
      "\n",
      "---------\n",
      "\n",
      "      Jyp  Sport\n",
      "2015    3   14.0\n",
      "2016    4   10.0\n",
      "\n",
      "---------\n",
      "\n",
      "2015   NaN\n",
      "2016   NaN\n",
      "Name: Jukurit, dtype: float64\n",
      "\n",
      "---------\n",
      "\n",
      "      Jyp  Sport  Jukurit\n",
      "2014    5    NaN      NaN\n",
      "2015    3   14.0    100.0\n",
      "2016    4   10.0    100.0\n",
      "2017    3   14.0     11.0\n",
      "2018    5   15.0     13.0\n"
     ]
    }
   ],
   "source": [
    "df = pd.DataFrame({'Jyp': {2014: 5, 2015: 3,  2016: 4,  2017: 3 , 2018: 5},\n",
    "                   'Sport' : {2015: 14, 2016: 10, 2017: 14, 2018: 15 },\n",
    "                    'Jukurit' : {2017: 11, 2018: 13}   \n",
    "                  })\n",
    "\n",
    "print(df)\n",
    "\n",
    "print('\\n---------\\n')\n",
    "\n",
    "print(df.loc[2015, 'Jyp'])\n",
    "\n",
    "print('\\n---------\\n')\n",
    "\n",
    "print(df.loc[[2015, 2016], ['Jyp', 'Sport']])\n",
    "\n",
    "print('\\n---------\\n')\n",
    "\n",
    "print(df.iloc[[1,2], 2])\n",
    "\n",
    "print('\\n---------\\n')\n",
    "\n",
    "\n",
    "df.iloc[[1,2], 2] = 100\n",
    "print(df)\n",
    "\n"
   ]
  },
  {
   "cell_type": "markdown",
   "metadata": {},
   "source": [
    "Siivutus toimii myös loc- ja iloc-operaattoreilla. Huomaa että otsikoilla siivutettaessa (loc) myös loppurivi/sarake on mukana, rivi/sarakenumeroilla (iloc) ei ole. \n",
    "\n",
    "Pelkkä `:` tarkoittaa kaikkia rivejä/sarakkeita.\n",
    "\n",
    "Sarake-osan voi jättää myös pois, jolloin tutkitaan vain rivejä. Jos halutaan tutkia vain sarakkeita, rivi-osan voi merkitä `:`"
   ]
  },
  {
   "cell_type": "code",
   "execution_count": 64,
   "metadata": {},
   "outputs": [
    {
     "name": "stdout",
     "output_type": "stream",
     "text": [
      "      Jyp  Sport  Jukurit\n",
      "2014    5    NaN      NaN\n",
      "2015    3   14.0      NaN\n",
      "2016    4   10.0      NaN\n",
      "2017    3   14.0     11.0\n",
      "2018    5   15.0     13.0\n",
      "\n",
      "---------\n",
      "\n",
      "2014    5\n",
      "2015    3\n",
      "Name: Jyp, dtype: int64\n",
      "\n",
      "---------\n",
      "\n",
      "      Jyp  Sport\n",
      "2016    4   10.0\n",
      "2017    3   14.0\n",
      "2018    5   15.0\n",
      "\n",
      "---------\n",
      "\n",
      "      Jyp  Sport  Jukurit\n",
      "2014    5    NaN      NaN\n",
      "2015    3   14.0      NaN\n",
      "2016    4   10.0      NaN\n",
      "\n",
      "---------\n",
      "\n"
     ]
    }
   ],
   "source": [
    "df = pd.DataFrame({'Jyp': {2014: 5, 2015: 3,  2016: 4,  2017: 3 , 2018: 5},\n",
    "                   'Sport' : {2015: 14, 2016: 10, 2017: 14, 2018: 15 },\n",
    "                    'Jukurit' : {2017: 11, 2018: 13}   \n",
    "                  })\n",
    "\n",
    "print(df)\n",
    "\n",
    "print('\\n---------\\n')\n",
    "\n",
    "print(df.loc[:2015, 'Jyp'])   # 2015-rivi on mukana.\n",
    "\n",
    "print('\\n---------\\n')\n",
    "\n",
    "print(df.loc[2016:2018, ['Jyp', 'Sport']])\n",
    "\n",
    "df2 = df.loc[2016:2018, ['Jyp', 'Sport']]\n",
    "\n",
    "print('\\n---------\\n')\n",
    "\n",
    "print(df.iloc[0:3, :]) # 4. rivi (rivi nro 3) ei mukana\n",
    "\n",
    "print('\\n---------\\n')\n"
   ]
  },
  {
   "cell_type": "markdown",
   "metadata": {},
   "source": [
    "Myös Boolean-taulukkoa voi käyttää valitsemiseen:"
   ]
  },
  {
   "cell_type": "code",
   "execution_count": 65,
   "metadata": {},
   "outputs": [
    {
     "name": "stdout",
     "output_type": "stream",
     "text": [
      "      Jyp  Sport  Jukurit\n",
      "2014    5    NaN      NaN\n",
      "2015    3   14.0      NaN\n",
      "2016    4   10.0      NaN\n",
      "2017    3   14.0     11.0\n",
      "2018    5   15.0     13.0\n",
      "\n",
      "---------\n",
      "\n",
      "      Jyp  Sport  Jukurit\n",
      "2015    3   14.0      NaN\n",
      "2017    3   14.0     11.0\n",
      "\n",
      "---------\n",
      "\n",
      "      Jyp  Jukurit\n",
      "2015    3      NaN\n",
      "2017    3     11.0\n",
      "\n",
      "---------\n",
      "\n",
      "      Sport  Jukurit\n",
      "2014    NaN      NaN\n",
      "2015   14.0      NaN\n",
      "2016   10.0      NaN\n",
      "2017   14.0     11.0\n",
      "2018   15.0     13.0\n",
      "\n",
      "---------\n",
      "\n",
      "      Sport  Jukurit\n",
      "2015   14.0      NaN\n",
      "2017   14.0     11.0\n",
      "2018   15.0     13.0\n",
      "\n",
      "---------\n",
      "\n",
      "      Sport  Jukurit\n",
      "2015   14.0      NaN\n",
      "2017   14.0     11.0\n"
     ]
    }
   ],
   "source": [
    "df = pd.DataFrame({'Jyp': {2014: 5, 2015: 3,  2016: 4,  2017: 3 , 2018: 5},\n",
    "                   'Sport' : {2015: 14, 2016: 10, 2017: 14, 2018: 15 },\n",
    "                    'Jukurit' : {2017: 11, 2018: 13}   \n",
    "                  })\n",
    "\n",
    "print(df)\n",
    "\n",
    "print('\\n---------\\n')\n",
    "\n",
    "# kaikki rivit, joissa Jyp < 4. Kaikki sarakkeet\n",
    "print(df[df['Jyp']<4]) \n",
    "\n",
    "print('\\n---------\\n')\n",
    "\n",
    "# kaikki rivit, joissa Jyp < 4. Sarakkeet Jyp ja Jukurit\n",
    "print(df.loc[df['Jyp']<4, ['Jyp', 'Jukurit']]) \n",
    "\n",
    "print('\\n---------\\n')\n",
    "\n",
    "# kaikki sarakkeet, joissa 2017-sija on > 10. Kaikki rivit.\n",
    "print(df.loc[ : , df.loc[2017]>10]) \n",
    "\n",
    "print('\\n---------\\n')\n",
    "\n",
    "# rivit, joissa Sport>10, sarakkeet joissa 2017>10\n",
    "print(df.loc[ df['Sport']>10 , df.loc[2017]>10]) \n",
    "\n",
    "print('\\n---------\\n')\n",
    "\n",
    "# 2 viimeistä saraketta, rivit, joissa Jyp<4 \n",
    "print(df.iloc[:,-2:][df['Jyp']<4]) \n",
    "\n"
   ]
  },
  {
   "cell_type": "markdown",
   "metadata": {},
   "source": [
    "Myös `at` ja `iat` -operaattoreilla saadaan yksittäiset alkiot rivi- ja sarakeotsikoiden (at) tai rivi- ja sarakenumeroiden (iat) mukaan"
   ]
  },
  {
   "cell_type": "code",
   "execution_count": 66,
   "metadata": {},
   "outputs": [
    {
     "name": "stdout",
     "output_type": "stream",
     "text": [
      "      Jyp  Sport  Jukurit\n",
      "2014    5    NaN      NaN\n",
      "2015    3   14.0      NaN\n",
      "2016    4   10.0      NaN\n",
      "2017    3   14.0     11.0\n",
      "2018    5   15.0     13.0\n",
      "\n",
      "---------\n",
      "\n",
      "3\n",
      "3\n",
      "4\n"
     ]
    }
   ],
   "source": [
    "df = pd.DataFrame({'Jyp': {2014: 5, 2015: 3,  2016: 4,  2017: 3 , 2018: 5},\n",
    "                   'Sport' : {2015: 14, 2016: 10, 2017: 14, 2018: 15 },\n",
    "                    'Jukurit' : {2017: 11, 2018: 13}   \n",
    "                  })\n",
    "\n",
    "print(df)\n",
    "\n",
    "print('\\n---------\\n')\n",
    "\n",
    "print(df.loc[2017, 'Jyp']) \n",
    "\n",
    "print(df.at[2017, 'Jyp']) \n",
    "\n",
    "print(df.iat[2, 0]) \n",
    "\n"
   ]
  },
  {
   "cell_type": "markdown",
   "metadata": {},
   "source": [
    "### Lajittelu\n",
    "DataFramea ja Seriesia voi lajitella `sort_values` ja `sort_index` -funktioilla.  \n",
    "Parametrilla `ascending = False` lajitellaan laskevassa järjestyksessä.  \n",
    "Parametrilla `axis = 1` lajitellaan riviotsikoiden mukaan.  \n",
    "\n"
   ]
  },
  {
   "cell_type": "code",
   "execution_count": 67,
   "metadata": {},
   "outputs": [
    {
     "name": "stdout",
     "output_type": "stream",
     "text": [
      "      Jyp  Sport  Jukurit\n",
      "2014    5    NaN      NaN\n",
      "2015    3   14.0      NaN\n",
      "2016    4   10.0      NaN\n",
      "2017    3   14.0     11.0\n",
      "2018    5   15.0     13.0\n",
      "\n",
      "---------\n",
      "\n",
      "      Jyp  Sport  Jukurit\n",
      "2018    5   15.0     13.0\n",
      "2017    3   14.0     11.0\n",
      "2016    4   10.0      NaN\n",
      "2015    3   14.0      NaN\n",
      "2014    5    NaN      NaN\n",
      "\n",
      "---------\n",
      "\n",
      "      Jyp  Sport  Jukurit\n",
      "2014    5    NaN      NaN\n",
      "2018    5   15.0     13.0\n",
      "2016    4   10.0      NaN\n",
      "2015    3   14.0      NaN\n",
      "2017    3   14.0     11.0\n",
      "\n",
      "---------\n",
      "\n",
      "      Jyp  Sport  Jukurit\n",
      "2015    3   14.0      NaN\n",
      "2017    3   14.0     11.0\n",
      "2016    4   10.0      NaN\n",
      "2018    5   15.0     13.0\n",
      "2014    5    NaN      NaN\n",
      "\n",
      "---------\n",
      "\n",
      "      Jyp  Sport  Jukurit\n",
      "2017    3   14.0     11.0\n",
      "2018    5   15.0     13.0\n"
     ]
    }
   ],
   "source": [
    "df = pd.DataFrame({'Jyp': {2014: 5, 2015: 3,  2016: 4,  2017: 3 , 2018: 5},\n",
    "                   'Sport' : {2015: 14, 2016: 10, 2017: 14, 2018: 15 },\n",
    "                    'Jukurit' : {2017: 11, 2018: 13}   \n",
    "                  })\n",
    "\n",
    "print(df)\n",
    "\n",
    "print('\\n---------\\n')\n",
    "\n",
    "df2 = df.sort_index(ascending = False)\n",
    "\n",
    "print(df2)\n",
    "\n",
    "print('\\n---------\\n')\n",
    "\n",
    "df3 = df.sort_values('Jyp', ascending = False)\n",
    "\n",
    "print(df3)\n",
    "\n",
    "print('\\n---------\\n')\n",
    "\n",
    "df.sort_values(['Jyp', 'Sport'], inplace = True)\n",
    "\n",
    "print(df)\n",
    "\n",
    "print('\\n---------\\n')\n",
    "\n",
    "df4 = df.sort_values('Jukurit')\n",
    "\n",
    "print(df4[:2]) # kaksi pienintä Jukurit-sijoitusta\n",
    "\n"
   ]
  },
  {
   "cell_type": "code",
   "execution_count": null,
   "metadata": {},
   "outputs": [],
   "source": []
  }
 ],
 "metadata": {
  "kernelspec": {
   "display_name": "Python 3",
   "language": "python",
   "name": "python3"
  },
  "language_info": {
   "codemirror_mode": {
    "name": "ipython",
    "version": 3
   },
   "file_extension": ".py",
   "mimetype": "text/x-python",
   "name": "python",
   "nbconvert_exporter": "python",
   "pygments_lexer": "ipython3",
   "version": "3.7.1"
  }
 },
 "nbformat": 4,
 "nbformat_minor": 2
}
