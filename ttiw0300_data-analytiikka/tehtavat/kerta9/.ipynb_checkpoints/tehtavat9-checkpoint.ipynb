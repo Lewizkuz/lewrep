{
 "cells": [
  {
   "cell_type": "markdown",
   "metadata": {},
   "source": [
    "# Datan analysointi K2019 - Tehtävät kerta 9\n",
    "\n",
    "Palauta Optiman palautuslaatikkoon viimeistään pe 29.3. klo 8:00. Kirjoita palautuslaatikon kommenttikenttään, mitkä tehtävät olet tehnyt kokonaan/osittain.\n",
    "\n",
    "Opiskelijan nimi:"
   ]
  },
  {
   "cell_type": "markdown",
   "metadata": {},
   "source": [
    "## 1.  Läpipääsy\n",
    "Tiedostossa https://student.labranet.jamk.fi/~varpe/datananalk2019/kerta9/teht1.txt on (kuvitteellisen) kurssin läsnäolotunnit, harjoituspisteet ja läpipääsy (1/0).\n",
    "\n",
    "Ennusta läpipääsyä regressiomallilla ja anna mallin todennäköisyydet läpipääsylle, jos opiskelijalla on  \n",
    "* 20 h läsnäoloa ja 30 tehtävää\n",
    "* 24 h läsnäoloa ja 10 tehtävää\n",
    "* 15 h läsnäoloa ja 60 tehtävää"
   ]
  },
  {
   "cell_type": "markdown",
   "metadata": {},
   "source": [
    "## 2. Viini\n",
    "Tiedostossa https://student.labranet.jamk.fi/~varpe/datananalk2019/kerta9/viini.csv on tietoja portugalilaisista viineistä. Kokeile voiko muiden ominaisuuksien avulla ennustaa logistisella regressiolla onko kyseessä puna- vai valkoviini. Tieto tästä löytyy type-kentästä.\n",
    "\n",
    "Jaa data opetus- ja testidataan 70%/30% ja tee malli opetusdatalla ja testaa se testidatalla.\n",
    "\n",
    "Voit poistaa datasta NaN-arvoja sisältävät rivit (koska niitä on vähän verrattuna datamäärään)."
   ]
  },
  {
   "cell_type": "markdown",
   "metadata": {},
   "source": [
    "## 3. Ostaako\n",
    "\n",
    "Tiedostossa https://student.labranet.jamk.fi/~varpe/datananalk2019/kerta9/teht3.txt on dataa henkilön tuloista, sukupuolesta ja siviilisäädystä. Lisäksi on tieto onko henkilö ostanut tuotteen vai ei.\n",
    "\n",
    "Tee datasta logistinen regressiomalli joka yrittää selittää ostamista muiden kenttien avulla. Testaa sitten mallia ja  tulosta `score` ja `confusion_matrix`.\n",
    "\n",
    "Joudut muuttamaan joitain kenttiä numeerisiksi.\n",
    "\n",
    "\n",
    "Kokeile sitten saadaanko parempi osumatarkkuus, jos käytetään vain kahta selittävää muuttujaa kolmen sijaan."
   ]
  },
  {
   "cell_type": "markdown",
   "metadata": {},
   "source": [
    "## 4. Koripallo\n",
    "\n",
    "Tiedostossa https://student.labranet.jamk.fi/~varpe/datananalk2019/kerta9/nba_logreg.csv on 1340 NBA-pelaajan tilastoja heidän tulokaskaudeltaan. \n",
    "\n",
    "[kenttien selitys (eng)](https://student.labranet.jamk.fi/~varpe/datananalk2019/kerta9/nba.png)\n",
    "\n",
    "Viimeinen sarake kertoo onko pelaaja sittemmin pelannut NBA:ssa yli 5 kautta. Kokeile kuinka hyvin logistinen regressio pystyy ennustamaan tämän muiden kentttien (pl. pelaajan nimi) avulla. Korvaa tarvittaessa puuttuvat arvot ko. kentän mediaanilla."
   ]
  },
  {
   "cell_type": "markdown",
   "metadata": {},
   "source": [
    "## 5. Luottoriski\n",
    "Tiedostossa https://student.labranet.jamk.fi/~varpe/datananalk2019/kerta9/teht5.txt on lainanottajien tietoja, viimeisessä sarakkeessa on Loan_Status Y/N, jota pyritään ennustamaan muiden sarakkeiden avulla.\n",
    "\n",
    "Ennen logistisen regressiomallin tekoa muokkaa dataa seuraavasti:\n",
    "* tutki dataa esim. describe/info/isnull/value_counts-komennolla\n",
    "* muuta kategoriset kentät numeerisiksi. Ne, joissa on vain 2 eri arvoa, laita 0/1. Jos jossain kentässä on 3 eri arvoa, tee jokaisesta oma dummy-kenttä.  \n",
    "* korvaa puuttuvat arvot kentän mediaanilla.\n",
    "* poista rivit, joissa 'ApplicantIncome, CoapplicantIncome tai LoanAmount poikkeaa yli 3 keskihajonnan verran kentän keskiarvosta (outliers)\n",
    "\n",
    "Jaa sitten data 70% opetus-/30% testidataan ja sovita opetusdatalla logistinen regressio ennustamaan Loan_Statusta kaikkien muiden kenttien avulla.\n",
    "\n",
    "\n",
    "Testaa sitten mallia testidataan ja tulosta `score` ja `confusion_matrix`."
   ]
  }
 ],
 "metadata": {
  "kernelspec": {
   "display_name": "Python 3",
   "language": "python",
   "name": "python3"
  },
  "language_info": {
   "codemirror_mode": {
    "name": "ipython",
    "version": 3
   },
   "file_extension": ".py",
   "mimetype": "text/x-python",
   "name": "python",
   "nbconvert_exporter": "python",
   "pygments_lexer": "ipython3",
   "version": "3.7.1"
  }
 },
 "nbformat": 4,
 "nbformat_minor": 2
}
