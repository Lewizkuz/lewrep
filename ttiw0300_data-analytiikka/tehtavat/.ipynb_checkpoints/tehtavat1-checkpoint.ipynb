{
 "cells": [
  {
   "cell_type": "markdown",
   "metadata": {},
   "source": [
    "# Datan analysointi K2019 - Tehtävät kerta 1\n",
    "\n",
    "Palauta Optiman palautuslaatikkoon viimeistään to 17.1.\n",
    "Kirjoita palautuslaatikon kommenttikenttään, mitä tehtävät olet tehnyt kokonaan/osittain.\n",
    "\n",
    "**Opiskelijan nimi:** "
   ]
  },
  {
   "cell_type": "markdown",
   "metadata": {},
   "source": [
    "## 1a.   Lukujen tulostus\n",
    "Kirjoita ohjelma, joka kysyy käyttäjältä kaksi eri kokonaislukua, ja tulostaa\n",
    "järjestyksessä kaikki näiden lukujen välillä olevat kokonaisluvut (nämä luvut mukaanlukien).\n",
    "\n",
    "## 1b.  Poista tuplat\n",
    "\n",
    "Muodosta funktio, joka poistaa annetusta merkkijonosta \"duplikaatit\". Toisin sanoen funktio saa syötteenään merkkijonon, jossa saattaa esiintyä joitain merkkejä useampia kertoja, ja palauttaa merkkijonon, jossa on vain kunkin merkin ensimmäinen esiintyminen alkueperäisessä merkkijonossa.  \n",
    "\n",
    "Esim.  saippuakauppias -> saipuk\n"
   ]
  },
  {
   "cell_type": "markdown",
   "metadata": {},
   "source": [
    "## 2. Nopanheitto\n",
    "Tutustu random-moduulin random-funktioon ja tee funktio, joka simuloi nopanteittoa. \n",
    "\n",
    "Tee sen avulla ohjelma, joka heittää neljää noppaa 1 000 000 kertaa ja laskee kuinka monta kertaa näissä 1 000 000 heitossa toistuu tilanne, jossa ei tule yhtään kuutosta.\n",
    "\n",
    "(Keskimäärin tämä tapahtuu 482 253 kertaa)\n"
   ]
  },
  {
   "cell_type": "markdown",
   "metadata": {},
   "source": [
    "## 3. Piste\n",
    "Tee luokka Piste, jolle annetaan konstruktorissa 3 parametria x, y ja z oletusarvoilla 0,0,0  \n",
    "\n",
    "Tee luokkaan metodi tulostaPiste, joka tulostaa pisteen tiedot muodossa (x, y, z)  \n",
    "\n",
    "Tee luokkaan metodi lisaa, jolle annetaan parametrina toinen piste ja joka lisää alkuperäisen pisteen (olion) kenttiin toisen pisteen x, y ja z:n.  \n",
    "\n",
    "Tee luokkaan metodi vahenna, jolle annetaan parametrina toinen piste ja joka vahentää alkuperäisen pisteen (olion) kentistä. toisen pisteen x, y ja z:n.  \n",
    "\n",
    "Tee luokkaan metodi etaisyysOrigosta, joka palauttaa pisteen etäisyyden origosta kaavalla neliöjuuri(x^2+y^2+z^2)  \n",
    "\n",
    "Tee luokkaan metodi kauempana, jolle annetaan parametrina toinen piste, ja joka palauttaa True, jos tämä alkuperäinen piste on kauempana origosta kuin toinen piste, muuten False. \n",
    "\n",
    "Esimerkkitoimintaa:\n",
    "\n",
    "\n",
    "    p1 = Piste(-3,-4,5)\n",
    "    p1.tulostaPiste() \n",
    "    -> tulostaa (-3,-4,5)\n",
    "\n",
    "    p2 = Piste(1,1,1)\n",
    "    p1.lisaa(p2)\n",
    "    p1.tulostaPiste() \n",
    "    -> tulostaa (-2,-3,6)\n",
    "\n",
    "    p1.vahenna(Piste(3,3,3))\n",
    "    p1.tulostaPiste() \n",
    "    -> tulostaa (-5,-6,3)\n",
    "\n",
    "    print(p1.etaisyysOrigosta())\n",
    "    -> tulostaa 8.366600265340756\n",
    "\n",
    "    print(p1.kauempana(p2))\n",
    "    -> tulostaa True\n",
    "\n"
   ]
  },
  {
   "cell_type": "markdown",
   "metadata": {},
   "source": [
    "## 4. Tiedoston luku\n",
    "Tee ohjelma, joka kysyy käyttäjältä tiedoston nimeä (ilman tietdostopäätettä), esim nimi.  \n",
    "Sitten ohjema yrittää avata oletuskansiosta tiedostoa nimi.txt  \n",
    "Jos avaaminen onnistuu ohjelma lukee tiedoston ja tulostaa tiedostosta seuraavat tiedot:\n",
    "* montako riviä tiedostossa on\n",
    "* montako merkkiä tiedostossa on\n",
    "* montako a-kirjainta tiedostossa on (myös isot A-kirjaimet lasketaan)\n",
    "\n",
    "Jos avaaminen tai tiedoston lukeminen ei onnistu, ohjelma tulostaa virheilmoituksen.\n",
    "Kaikissa tapauksissa ohjelman tulee sulkea tiedosto lopuksi.\n"
   ]
  },
  {
   "cell_type": "markdown",
   "metadata": {},
   "source": [
    "## 5. GPS-datan purku\n",
    "Eräs gps-datasovellus tallentaa jokaisesta sijiannista aikaleiman, pituusasteet ja leveysasteet. Aikaleima on kokonais- tai liukuluku (sekunteja 2006-vuoden alusta).  Pituuus- ja leveysasteet ovat liukulukuja.\n",
    "\n",
    "Sovellus pakkaa datan riveille, niin että rivin ensimmäinen tietue on muotoa  \n",
    "**aikaleima_pituusaste\\*50000_leveysaste\\*100000  **\n",
    "\n",
    "jossa pituusaste\\*50000 ja leveysaste\\*100000 on pyöristetty kokonaisluvuiksi.   \n",
    "Esim.  \n",
    "aikaleima\t257008005  \n",
    "pituusaste\t27,36976  \n",
    "leveysaste\t61,52928  \n",
    "=> 257008005_1368488_6152928  \n",
    "\n",
    "rivin seuraavat tietueet kertovat kuinka paljon nämä lukemat eroavat **edellisestä tietueesta**, eli aikaleiman, pituusaste\\*50000 ja leveysaste\\*100000 -lukemien erotus kokonaislukuina. Nämä on erotettu alaviivalla ja tietueet pisteellä.\n",
    "\n",
    "Esim.   \n",
    "`    257008005_1368488_6152928.3_-5_6.3_2_0.`  \n",
    "\n",
    "toinen tietue:  \n",
    "aikaleima: 257008005 + 3 = 257008008  \n",
    "pituusaste\\*50000: 1368488 - 5 =  1368483  (= 27,36966)  \n",
    "leveysaste\\*100000: 6152928 + 6 = 6152934  (= 61,52934)\n",
    "\n",
    "kolmas tietue:  \n",
    "aikaleima: 257008008  + 3 = 257008011  \n",
    "pituusaste\\*50000: 1368483 + 2 =  1368485  (= 27,3697)  \n",
    "leveysaste\\*100000: 6152934 + 0 = 6152934  (= 61,52934)\n",
    "\n",
    "Edelleen, jos kaikki kolme eroa ovat välillä -31 ... 30, ne on korvattu merkillä, niin että **n = ero + 32**, ja otetaan n.:s merkki merkkijonosta\n",
    "**0123456789ABCDEFGHIJKLMNOPQRSTUVWXYZabcdefghijklmnopqrstuvwxyz**\n",
    " \n",
    "Siis  \n",
    "ero =  -31  => merkki = 0  \n",
    "ero =  -30  => merkki = 1  \n",
    "...  \n",
    "ero = 30 => merkki = z\n",
    "\n",
    " \n",
    "Tällöin ei käytetä alaviivoja.   \n",
    "Esimerkiksi c7N. tarkoittaa `.7_-24_-8.`\n",
    "\n",
    "Rivillä olevien tietueiden lukumäärää ei ole periaatteessa rajattu, mutta on käytännössä aina alle 50. Tietueita voi olla rivillä myös vain yksi.\n",
    "\n",
    "Voit olettaa että rivit ja tietueet ovat speksin mukaisia, eli ei tarvitse esim. tutkia tietueita, joissa olisi vain 2 merkkiä tms.\n",
    "\n",
    "Tee **funktio**, joka purkaa tällaisen rivin, eli ottaa parametrina rivin ja palauttaa **listan** tietueista niin että jokainen tietue on **sanakirja** (dictionary) avaimilla aikaleima, pituusaste ja leveysaste.\n",
    "\n",
    "\n",
    "\n",
    "Esim.  \n",
    "parametrilla `410605272_1185538_6631723.YXg.YUf.YQe.YJV.3_-10_0.3_-12_0.`  \n",
    "funktio palauttaa  \n",
    "`[{'aikaleima': 410605272, 'leveysaste': 66.31723, 'pituusaste': 23.71076},  \n",
    " {'aikaleima': 410605275, 'leveysaste': 66.31734, 'pituusaste': 23.7108},  \n",
    " {'aikaleima': 410605278, 'leveysaste': 66.31744, 'pituusaste': 23.71078},  \n",
    " {'aikaleima': 410605281, 'leveysaste': 66.31753, 'pituusaste': 23.71068},  \n",
    " {'aikaleima': 410605284, 'leveysaste': 66.31753, 'pituusaste': 23.71044},  \n",
    " {'aikaleima': 410605287, 'leveysaste': 66.31753, 'pituusaste': 23.71024},  \n",
    " {'aikaleima': 410605290, 'leveysaste': 66.31753, 'pituusaste': 23.71}]`  \n",
    "\n",
    "\n"
   ]
  },
  {
   "cell_type": "code",
   "execution_count": null,
   "metadata": {},
   "outputs": [],
   "source": []
  }
 ],
 "metadata": {
  "kernelspec": {
   "display_name": "Python 3",
   "language": "python",
   "name": "python3"
  },
  "language_info": {
   "codemirror_mode": {
    "name": "ipython",
    "version": 3
   },
   "file_extension": ".py",
   "mimetype": "text/x-python",
   "name": "python",
   "nbconvert_exporter": "python",
   "pygments_lexer": "ipython3",
   "version": "3.7.1"
  }
 },
 "nbformat": 4,
 "nbformat_minor": 2
}
