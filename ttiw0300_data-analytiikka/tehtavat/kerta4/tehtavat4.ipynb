{
 "cells": [
  {
   "cell_type": "markdown",
   "metadata": {},
   "source": [
    "## Datan analysointi K2019 - Tehtävät kerta 4\n",
    "\n",
    "Palauta Optiman palautuslaatikkoon viimeistään to 7.2. Kirjoita palautuslaatikon kommenttikenttään, mitkä tehtävät olet tehnyt kokonaan/osittain.\n",
    "\n",
    "**Opiskelijan nimi:**"
   ]
  },
  {
   "cell_type": "markdown",
   "metadata": {},
   "source": [
    "## 1. Yhdistäminen\n",
    "\n",
    "Tiedostossa https://student.labranet.jamk.fi/~varpe/datananalk2019/kerta4/pyörä.csv on Espoon kaupungin keräämiä pyöräilijämääriä tunneittain muutamasta mittaupisteestä kesältä 2016.\n",
    "\n",
    "Tiedostossa https://student.labranet.jamk.fi/~varpe/datananalk2019/kerta4/espoo.csv on vastaavalta ajalta säähavaintoja Espoon Tapiolasta. \n",
    "\n",
    "Lue molemmat tiedosto omiin DataFrameihinsa ja yhdistä DataFramet järkevästi, siten että molempien datojen vastaavat tunnit on samalla rivillä.\n",
    "\n",
    "Huom! toisesta puuttuu tunteja...\n",
    "\n"
   ]
  },
  {
   "cell_type": "markdown",
   "metadata": {},
   "source": [
    "## 2. Ristiintaulukointia\n",
    "Tiedostossa https://student.labranet.jamk.fi/~varpe/datananalk2019/kerta4/kysely.csv on kuvitteellisen henkilöstökyselyn tuloksia.\n",
    "\n",
    "Dataan on koodattu koulutus-kenttään numeroilla:  \n",
    "* 1 = peruskoulu\n",
    "* 2 = toisen asteen koulutus\n",
    "* 3 = korkeakoulu\n",
    "* 4 = ylempi korkeakoulu\n",
    "\n",
    "Tjohto ja Ttyöteht -kentät kuvaavat tyytyväisyyttä johtoon ja työtehtäviin asteikolla 1-5.   \n",
    "\n",
    "työterveys, liikunta ja lomaosake-kentät sisältävät ykkösen jos vastaaja on käyttänyt näitä palveluita, muuten NaN\n",
    "\n",
    "Ristiintaulukoi/pivotoi/koosta seuraavat jutut:  \n",
    "* lukumäärät siten, että riveillä sukupuoli, sarakkeissa tyytyväisyys johtoon\n",
    "* prosenttiosuudet siten, että riveillä koulutus tekstinä (esim peruskoulu), sarakkeissa tyytyväisyys työtehtäviin. Prosenttiosuudet 1 desimaalilla riveittäin eli esim montako % vain peruskoulun käyneistä vastaa 1 jne.\n",
    "* keskiarvot tyytyväisyysksistä johtoon ja työtehtäviin siten, että riveillä on ikäluokka 20-29, 30-39 ... 61-70 ja (eri sarakkeissa) tyytyväisyydet johtoon ja työtehtäviin\n",
    "* kuinka monta prosenttia perheellisistä ja perheettömistä on käyttäneet työterveys, liikunta ja lomaosake-palveluita (tämä vaatii hieman kikkailua, ei onnistu yhdellä rivillä), malli tuloksesta:  \n",
    "![palvelut](https://student.labranet.jamk.fi/~varpe/datananalk2019/kerta4/palvelut.png)"
   ]
  },
  {
   "cell_type": "markdown",
   "metadata": {},
   "source": [
    "## 3. Lisää lunta\n",
    "Luetaan taas Jyväskylän säätaulukko vuodesta 1959 osoitteesta\n",
    "http://student.labranet.jamk.fi/~varpe/datananalk2019/kerta2/saa_jkl.csv\n",
    "\n",
    "Koosta/muokkaa taulukosta DataFrame, jossa on 366 riviä, yksi vuoden jokaiselle päivälle (myös 29.2.) ja 61 saraketta vuosille 1959-2019, siten että DataFramessa on lumensyvyydet ko. päiviltä joka vuodelta.\n",
    "\n",
    "Malli (sarakeotsikot voi vaihdella, kunhan niissä on vusoiluvut mukana):  \n",
    "![lumi1](https://student.labranet.jamk.fi/~varpe/datananalk2019/kerta4/lumi1.png)\n",
    "\n",
    "Laske sitten loppuun sarakkeet:\n",
    "* suurin, joka kertoo kunkin päivän suurimman lumimäärän vuosien saatossa\n",
    "* sija, joka kertoo vuoden 2019 sijoituksen lumimäärän suhteen (lumisin = 1)\n",
    "\n",
    "![lumi2](https://student.labranet.jamk.fi/~varpe/datananalk2019/kerta4/lumi2.png)"
   ]
  },
  {
   "cell_type": "markdown",
   "metadata": {},
   "source": [
    "## 4. Lisää jalkapalloa\n",
    "Kansiossa https://student.labranet.jamk.fi/~varpe/datananalk2019/kerta4/epl/  on Englannin Valioliigan ottelutulokset 10 viime kauden ajalta tiedostoissa season-0910_csv.csv, season-1011_csv.csv, ... , season-1819_csv.csv\t\t\n",
    "\n",
    "Käyttäen hyväksi 3-kerran tehtävien ratkaisua/malliratkaisua tee funktio, joka ottaa parametrina kauden (esim muodossa 0910), lukee vastaavan tiedoston DataFrameen ja palauttaa DataFramen, jossa on kyseisen kauden joukkueille pistemäärä ja sijoitus (huomioiden myös maalieron ja tehdyt maalit).\n",
    "\n",
    "Lue sitten tätä käyttäen kaikki kaudet ja yhdistä eri kausien tiedot yhteen DataFrameen jossa on riveinä joukkueet ja sarakkeina kaudet, tietoina joukkueiden sijoitukset kullakin kaudella (pistemääriä ei tähän DataFrameen tule). Huomaa että joukkueet eivät ole kaikilla kausilla samat (kaikki joukkueet pitää saada kuitenkin mukaan).\n",
    "\n",
    "Laske vielä lisäsarakkeisiin kaikille joukkeille paras, huonoin ja keskiarvosijoitus ja sijoitusten lukumäärä. Lajittele keskiarvosijoituksen mukaan.\n",
    "\n",
    "Malli:\n",
    "![futis](https://student.labranet.jamk.fi/~varpe/datananalk2019/kerta4/futis.png)\n"
   ]
  },
  {
   "cell_type": "markdown",
   "metadata": {},
   "source": [
    "## 5. Isomman tiedoston lukemien ja analysointi\n",
    "Testaile isomman tiedoston lukemista tiedostolla (241 Mt):  \n",
    "https://student.labranet.jamk.fi/~varpe/datananalk2019/kerta4/trafi.zip\n",
    "\n",
    "Kannattanee tallentaa tiedosto ensin omalle koneelle, jotta testailuvaiheessa ei tarvitse ladata sitä verkon yli joka kerta. Tiedostoa ei tarvitse purkaa.\n",
    "\n",
    "Tiedostossa on n. 5 miljoonaa riviä \"kaikkien liikennekäytössä olevien ajoneuvojen rekisteröinti-, hyväksyntä- ja teknisiä tietoja Trafin ylläpitämästä ajoneuvoliikennerekisteristä.\"\n",
    "\n",
    "Data on puolipisteellä eroteltua, ja lukeminen vaatii (ilmeisesti) read_csv:lle parametrin `encoding='latin_1'`.\n",
    "\n",
    "Aloita testailu antamalla read_csv:lle parametriksi vaikka `nrows=1000` jolloin se lukee vain 1000 ensimmäistä riviä, joilla voit tutkia esim. sarakeotsikoita. Kokeile sitten kuinka paljon rivejä saat mielekkäästi luettua kasvattamalla nrows-arvoa. Muista tallentaa tiedosto ennen kokeiluja, jotta systeemin kaatumien ei vie aikaisempia tehtäviäsi.\n",
    "\n",
    "Voit kellottaa lukuoperaatioita lisäämällä lukevan solun 1. riviksi `%%time`.\n",
    "\n",
    "Kun olet saanut luettua \"paljon\" dataa, tee sitten uuteen soluun jotain hakuja/koonteja/ryhmittelyjä (siksi uuteen soluun, että koodin ajaminen ei lue tiedostoa joka kerta uudestaan.)\n",
    "\n",
    "Selvitä vaikka:  \n",
    "* kuinka monta ajoneuvoa ensirekisteröitiin 18-vuotissyntymäpäivänäsi\n",
    "* mikä on kolmen kärki kentän merkkiSelvakielinen lukumäärissä\n",
    "* tee uusi sarake rekvuosi, johon luet 4 ensimmäistä merkkiä kentästä ensirekisterointipvm. Ristiintaulukoi sitten kentän sahkohybridi prosenttiosuudet (True/False) rekvuoden mukaan.   "
   ]
  }
 ],
 "metadata": {
  "kernelspec": {
   "display_name": "Python 3",
   "language": "python",
   "name": "python3"
  },
  "language_info": {
   "codemirror_mode": {
    "name": "ipython",
    "version": 3
   },
   "file_extension": ".py",
   "mimetype": "text/x-python",
   "name": "python",
   "nbconvert_exporter": "python",
   "pygments_lexer": "ipython3",
   "version": "3.7.1"
  }
 },
 "nbformat": 4,
 "nbformat_minor": 2
}
