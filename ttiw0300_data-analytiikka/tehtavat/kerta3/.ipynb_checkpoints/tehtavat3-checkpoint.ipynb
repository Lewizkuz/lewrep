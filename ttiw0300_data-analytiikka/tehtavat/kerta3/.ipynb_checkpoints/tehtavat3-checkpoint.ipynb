{
 "cells": [
  {
   "cell_type": "markdown",
   "metadata": {},
   "source": [
    "# Datan analysointi K2019 - Tehtävät kerta 3\n",
    "\n",
    "Palauta Optiman palautuslaatikkoon viimeistään to 31.1. Kirjoita palautuslaatikon kommenttikenttään, mitkä tehtävät olet tehnyt kokonaan/osittain.\n",
    "\n",
    "**Opiskelijan nimi:**\n"
   ]
  },
  {
   "cell_type": "markdown",
   "metadata": {},
   "source": [
    "## 1. Ikäluokat\n",
    "Lue titanic-data \n",
    "https://student.labranet.jamk.fi/~varpe/datananalk2019/kerta3/titanic.csv\n",
    "ja luo uusi sarake jossa on Age-tiedon perusteella ikäluokka 10 vuoden välein lokeroituna.\n",
    "\n",
    "Laske sitten kuhunkin ikäluokkaan kuuluvien rivien määrä.\n",
    "\n",
    "(Lue ensin datasta suurin ja pienin ikä)"
   ]
  },
  {
   "cell_type": "markdown",
   "metadata": {},
   "source": [
    "## 2.  access.log\n",
    "\n",
    "Lue 3-kerran teoriamateriaalissakin käytetty access.log-tiedosto DataFrameen  \n",
    "https://bit.ly/2FQ4LsG  \n",
    "(teoriamateriaalissa on ohjeita datan lukemiseen)\n",
    "\n",
    "\n",
    "Parsi aikakentästä päivämäärä ja laske kullekin päivämäärälle kuinka monta eri ip-osoitetta on kyseisenä päivänä sivulla vieraillut. (Pelkkä riittää koska kaikki data on samalta kuukaudelta)\n",
    "\n",
    "**Tee tehtävä ilman for-silmukoita yms.**"
   ]
  },
  {
   "cell_type": "markdown",
   "metadata": {},
   "source": [
    "## 3. Kunnat\n",
    "(ICT-valmiudet -kurssilla tätä tutkittiin Excelillä, nyt pandasilla)\n",
    "\n",
    "Avaa DataFrameen Excel-tiedoston laskentataulukko \"kuntatietoja 2016\"  \n",
    "https://student.labranet.jamk.fi/~varpe/ictv2018/kerta5/kunnat2016.xlsx\n",
    "\n",
    "Suodata/laske pandasin avulla vastaukset seuraaviin kysymyksiin.\n",
    "* luettele kaikki maakunnat\n",
    "* kuinka monta yli 50 000 asukkaan kuntaa on kussakin maakunnassa? \n",
    "* Kuinka monta kuntaa on Jyväskylän seutukunnassa?\n",
    "* Mikä on asukasluvultaan suurin kunta, joka ei ole kaupunki (kuntamuodoltaan)?\n",
    "* Montako ruotsinkielistä tai ruotsinkielisenemmistöistä kuntaa on?\n",
    "* Kuinka monessa kaupungissa on tuloveroprosentti välillä 19,00-20,00% ?\n",
    "* Kuinka monta asukasta on yhteensä Pohjanmaan, Pohjois-Pohjanmaan, Keski-Pohjanmaan ja Etelä-Pohjanmaan maakunnissa?\n",
    "\n",
    "Vinkki: sarakeotsikot sisältävät hankalasti käsiteltäviä rivinvaihtoja. Näet ne kutsumalla:  \n",
    "`print(df.columns)`  \n",
    "Voit toki luoda omat helpommat sarakeotsikot,tai vaikka lyhentää ne komennolla  \n",
    "`df.rename(columns=lambda x: x[:8], inplace=True)`"
   ]
  },
  {
   "cell_type": "markdown",
   "metadata": {},
   "source": [
    "## 4. Lumitalvet\n",
    "Lataa DataFrameen 2-kerran tehtävissäkin käytetty csv-tiedosto  \n",
    "http://student.labranet.jamk.fi/~varpe/datananalk2019/kerta2/saa_jkl.csv\n",
    "\n",
    "Tiedostossa on päivittäisiä säähavaintoja Jyväskylän lentoasemalta vuodesta 1959.\n",
    "\n",
    "Laske tietojen perusteella jokaiselle talvelle **\"lumisumma\"** jossa on talven jokaisen vuorokauden lumensyvyys-lukema laskettu yhteen (ei ole mikään oikea meteorologinen termi).\n",
    "\n",
    "Huomioita:\n",
    "* lumisumma pitää laske talvittain, ei siis vuosittain. Tee uusi sarake joka kertoo mihin talveen kyseinen vuorokausi kuuluu. Käytetään vaikka elokuun alkua rajana.\n",
    "\n",
    "* Ilmatieteen laitos käyttää arvoa -1 lumensyvyyden arvona jos \"lunta ei ole näkyvissäkään\". Ei haluta kuitenkaan miinustaa yhtä näinä päivinä, joten korvaa -1:t nollilla.\n",
    "\n",
    "* Lisäksi joinain päivinä lumensyvyys todella (jostain syystä) puuttuu. Jos nämä jätetään laskusta pois, kyseisen talven lukema jää liian pieneksi (jos lunta on kuitenkin ollut). Lienee turvallista olettaa että lunta on varmaan ollut suunnilleen saman verran kuin edellisenä päivänä, joten täytä NaN-arvot edellsillä arvoilla\n",
    "\n",
    "Anna tuloksena DataFrame, jossa on indeksinä talvi (joko muodossa 2018 tai 2017-2018) ja sarakkeina \n",
    "* talven lumisumma \n",
    "* sijoitus lumisummien joukossa (lumisin = 1) \n",
    "* talven lumipäivien lukumäärä \n",
    "* talven suurin lumensyvyys.\n",
    "\n",
    "**Tee tehtävä ilman for-silmukoita yms.**"
   ]
  },
  {
   "cell_type": "markdown",
   "metadata": {},
   "source": [
    "## 5.  Sarjataulukko\n",
    "Tiedostossa  \n",
    "https://student.labranet.jamk.fi/~varpe/datananalk2019/kerta3/season-1718_csv.csv  \n",
    "on Englannin Valioliigan ottelutulokset kaudelta 2017-2018.\n",
    "\n",
    "Generoi tulosten perusteella sarjataulukko, jossa on kullekin joukkueelle ainakin\n",
    "* kotivoitot\n",
    "* kotitasapelit\n",
    "* kotitappiot\n",
    "* vierasvoitot\n",
    "* vierastasapelit\n",
    "* vierastappiot\n",
    "* pisteet (voitosta saa 3 pistettä, tasapelistä 1 pisteen, tappiosta 0 pistettä)\n",
    "\n",
    "Lajittele sarjataulukko pisteiden mukaan (eniten pisteitä ekana)\n",
    "\n",
    "Bonuksena voit laskea sarakkeet:\n",
    "* tehdyt maalit\n",
    "* päästetyt maalit\n",
    "* maaliero (tehdyt-päästetyt)  \n",
    "\n",
    "ja lajittelua voi parantaa laittamalla tasapisteissä olevat joukkueet maalieron mukaiseen järjestykseen, ja jos sekin on sama niin tehdyt maalit ratkaisevat.\n",
    "\n",
    "Tarvittavat sarakkeet ovat:\n",
    "* HomeTeam (kotijoukkue)\n",
    "* AwayTeam (vierasjoukkue)\n",
    "* FTR (fultime result, H=kotivoitto, D=tasapeli, A=vierasvoitto)  \n",
    "\n",
    "bonusta varten myös\n",
    "* FTHG (fulltime home goals, kotijoukkueen maalit)\n",
    "* FTAG (fulltime away goals, vierasjoukkueen maalit)\n",
    "\n",
    "\n",
    "**Tee tehtävä ilman for-silmukoita yms.**"
   ]
  }
 ],
 "metadata": {
  "kernelspec": {
   "display_name": "Python 3",
   "language": "python",
   "name": "python3"
  },
  "language_info": {
   "codemirror_mode": {
    "name": "ipython",
    "version": 3
   },
   "file_extension": ".py",
   "mimetype": "text/x-python",
   "name": "python",
   "nbconvert_exporter": "python",
   "pygments_lexer": "ipython3",
   "version": "3.7.1"
  }
 },
 "nbformat": 4,
 "nbformat_minor": 2
}
